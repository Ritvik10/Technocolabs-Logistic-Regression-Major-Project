{
 "cells": [
  {
   "cell_type": "code",
   "execution_count": 1,
   "id": "5aa02790",
   "metadata": {
    "_cell_guid": "b1076dfc-b9ad-4769-8c92-a6c4dae69d19",
    "_uuid": "8f2839f25d086af736a60e9eeb907d3b93b6e0e5",
    "execution": {
     "iopub.execute_input": "2022-07-26T11:31:00.444959Z",
     "iopub.status.busy": "2022-07-26T11:31:00.444246Z",
     "iopub.status.idle": "2022-07-26T11:31:00.469276Z",
     "shell.execute_reply": "2022-07-26T11:31:00.467881Z"
    },
    "papermill": {
     "duration": 0.076997,
     "end_time": "2022-07-26T11:31:00.472198",
     "exception": false,
     "start_time": "2022-07-26T11:31:00.395201",
     "status": "completed"
    },
    "tags": []
   },
   "outputs": [
    {
     "name": "stdout",
     "output_type": "stream",
     "text": [
      "/kaggle/input/prosper-loan/prosperLoanData.csv\n"
     ]
    }
   ],
   "source": [
    "# This Python 3 environment comes with many helpful analytics libraries installed\n",
    "# It is defined by the kaggle/python Docker image: https://github.com/kaggle/docker-python\n",
    "# For example, here's several helpful packages to load\n",
    "\n",
    "import numpy as np # linear algebra\n",
    "import pandas as pd # data processing, CSV file I/O (e.g. pd.read_csv)\n",
    "\n",
    "# Input data files are available in the read-only \"../input/\" directory\n",
    "# For example, running this (by clicking run or pressing Shift+Enter) will list all files under the input directory\n",
    "\n",
    "import os\n",
    "for dirname, _, filenames in os.walk('/kaggle/input'):\n",
    "    for filename in filenames:\n",
    "        print(os.path.join(dirname, filename))\n",
    "\n",
    "# You can write up to 20GB to the current directory (/kaggle/working/) that gets preserved as output when you create a version using \"Save & Run All\" \n",
    "# You can also write temporary files to /kaggle/temp/, but they won't be saved outside of the current session"
   ]
  },
  {
   "cell_type": "markdown",
   "id": "e3b8f100",
   "metadata": {
    "papermill": {
     "duration": 0.044968,
     "end_time": "2022-07-26T11:31:00.563857",
     "exception": false,
     "start_time": "2022-07-26T11:31:00.518889",
     "status": "completed"
    },
    "tags": []
   },
   "source": [
    "# **Loading the prosper loan data**\n",
    "​\n",
    "We now know that we are working with a typical CSV file (i.e., the delimiter is ,, etc.). We proceed to loading the data into memory."
   ]
  },
  {
   "cell_type": "code",
   "execution_count": 2,
   "id": "e3f69570",
   "metadata": {
    "execution": {
     "iopub.execute_input": "2022-07-26T11:31:00.656223Z",
     "iopub.status.busy": "2022-07-26T11:31:00.655806Z",
     "iopub.status.idle": "2022-07-26T11:31:00.660898Z",
     "shell.execute_reply": "2022-07-26T11:31:00.659605Z"
    },
    "papermill": {
     "duration": 0.054293,
     "end_time": "2022-07-26T11:31:00.663309",
     "exception": false,
     "start_time": "2022-07-26T11:31:00.609016",
     "status": "completed"
    },
    "tags": []
   },
   "outputs": [],
   "source": [
    "# Filtering out the warnings\n",
    "import warnings\n",
    "\n",
    "warnings.filterwarnings('ignore')"
   ]
  },
  {
   "cell_type": "code",
   "execution_count": 3,
   "id": "cb43a9cf",
   "metadata": {
    "execution": {
     "iopub.execute_input": "2022-07-26T11:31:00.754888Z",
     "iopub.status.busy": "2022-07-26T11:31:00.754226Z",
     "iopub.status.idle": "2022-07-26T11:31:01.873660Z",
     "shell.execute_reply": "2022-07-26T11:31:01.872128Z"
    },
    "papermill": {
     "duration": 1.168686,
     "end_time": "2022-07-26T11:31:01.876602",
     "exception": false,
     "start_time": "2022-07-26T11:31:00.707916",
     "status": "completed"
    },
    "tags": []
   },
   "outputs": [],
   "source": [
    "# Importing the required libraries\n",
    "\n",
    "import numpy as np\n",
    "import pandas as pd\n",
    "import seaborn as sns\n",
    "import matplotlib.pyplot as plt\n",
    "%matplotlib inline"
   ]
  },
  {
   "cell_type": "code",
   "execution_count": 4,
   "id": "acc71336",
   "metadata": {
    "execution": {
     "iopub.execute_input": "2022-07-26T11:31:01.970484Z",
     "iopub.status.busy": "2022-07-26T11:31:01.970049Z",
     "iopub.status.idle": "2022-07-26T11:31:04.626854Z",
     "shell.execute_reply": "2022-07-26T11:31:04.625529Z"
    },
    "papermill": {
     "duration": 2.707692,
     "end_time": "2022-07-26T11:31:04.629856",
     "exception": false,
     "start_time": "2022-07-26T11:31:01.922164",
     "status": "completed"
    },
    "tags": []
   },
   "outputs": [],
   "source": [
    "#load dataset\n",
    "# above .csv file is comma delimited\n",
    "loan = pd.read_csv('../input/prosper-loan/prosperLoanData.csv')"
   ]
  },
  {
   "cell_type": "code",
   "execution_count": 5,
   "id": "dd0c89e8",
   "metadata": {
    "execution": {
     "iopub.execute_input": "2022-07-26T11:31:04.724549Z",
     "iopub.status.busy": "2022-07-26T11:31:04.723322Z",
     "iopub.status.idle": "2022-07-26T11:31:04.771500Z",
     "shell.execute_reply": "2022-07-26T11:31:04.769863Z"
    },
    "papermill": {
     "duration": 0.098911,
     "end_time": "2022-07-26T11:31:04.774150",
     "exception": false,
     "start_time": "2022-07-26T11:31:04.675239",
     "status": "completed"
    },
    "tags": []
   },
   "outputs": [
    {
     "data": {
      "text/html": [
       "<div>\n",
       "<style scoped>\n",
       "    .dataframe tbody tr th:only-of-type {\n",
       "        vertical-align: middle;\n",
       "    }\n",
       "\n",
       "    .dataframe tbody tr th {\n",
       "        vertical-align: top;\n",
       "    }\n",
       "\n",
       "    .dataframe thead th {\n",
       "        text-align: right;\n",
       "    }\n",
       "</style>\n",
       "<table border=\"1\" class=\"dataframe\">\n",
       "  <thead>\n",
       "    <tr style=\"text-align: right;\">\n",
       "      <th></th>\n",
       "      <th>ListingKey</th>\n",
       "      <th>ListingNumber</th>\n",
       "      <th>ListingCreationDate</th>\n",
       "      <th>CreditGrade</th>\n",
       "      <th>Term</th>\n",
       "      <th>LoanStatus</th>\n",
       "      <th>ClosedDate</th>\n",
       "      <th>BorrowerAPR</th>\n",
       "      <th>BorrowerRate</th>\n",
       "      <th>LenderYield</th>\n",
       "      <th>...</th>\n",
       "      <th>LP_ServiceFees</th>\n",
       "      <th>LP_CollectionFees</th>\n",
       "      <th>LP_GrossPrincipalLoss</th>\n",
       "      <th>LP_NetPrincipalLoss</th>\n",
       "      <th>LP_NonPrincipalRecoverypayments</th>\n",
       "      <th>PercentFunded</th>\n",
       "      <th>Recommendations</th>\n",
       "      <th>InvestmentFromFriendsCount</th>\n",
       "      <th>InvestmentFromFriendsAmount</th>\n",
       "      <th>Investors</th>\n",
       "    </tr>\n",
       "  </thead>\n",
       "  <tbody>\n",
       "    <tr>\n",
       "      <th>0</th>\n",
       "      <td>1021339766868145413AB3B</td>\n",
       "      <td>193129</td>\n",
       "      <td>2007-08-26 19:09:29.263000000</td>\n",
       "      <td>C</td>\n",
       "      <td>36</td>\n",
       "      <td>Completed</td>\n",
       "      <td>2009-08-14 00:00:00</td>\n",
       "      <td>0.16516</td>\n",
       "      <td>0.1580</td>\n",
       "      <td>0.1380</td>\n",
       "      <td>...</td>\n",
       "      <td>-133.18</td>\n",
       "      <td>0.0</td>\n",
       "      <td>0.0</td>\n",
       "      <td>0.0</td>\n",
       "      <td>0.0</td>\n",
       "      <td>1.0</td>\n",
       "      <td>0</td>\n",
       "      <td>0</td>\n",
       "      <td>0.0</td>\n",
       "      <td>258</td>\n",
       "    </tr>\n",
       "    <tr>\n",
       "      <th>1</th>\n",
       "      <td>10273602499503308B223C1</td>\n",
       "      <td>1209647</td>\n",
       "      <td>2014-02-27 08:28:07.900000000</td>\n",
       "      <td>NaN</td>\n",
       "      <td>36</td>\n",
       "      <td>Current</td>\n",
       "      <td>NaN</td>\n",
       "      <td>0.12016</td>\n",
       "      <td>0.0920</td>\n",
       "      <td>0.0820</td>\n",
       "      <td>...</td>\n",
       "      <td>0.00</td>\n",
       "      <td>0.0</td>\n",
       "      <td>0.0</td>\n",
       "      <td>0.0</td>\n",
       "      <td>0.0</td>\n",
       "      <td>1.0</td>\n",
       "      <td>0</td>\n",
       "      <td>0</td>\n",
       "      <td>0.0</td>\n",
       "      <td>1</td>\n",
       "    </tr>\n",
       "    <tr>\n",
       "      <th>2</th>\n",
       "      <td>0EE9337825851032864889A</td>\n",
       "      <td>81716</td>\n",
       "      <td>2007-01-05 15:00:47.090000000</td>\n",
       "      <td>HR</td>\n",
       "      <td>36</td>\n",
       "      <td>Completed</td>\n",
       "      <td>2009-12-17 00:00:00</td>\n",
       "      <td>0.28269</td>\n",
       "      <td>0.2750</td>\n",
       "      <td>0.2400</td>\n",
       "      <td>...</td>\n",
       "      <td>-24.20</td>\n",
       "      <td>0.0</td>\n",
       "      <td>0.0</td>\n",
       "      <td>0.0</td>\n",
       "      <td>0.0</td>\n",
       "      <td>1.0</td>\n",
       "      <td>0</td>\n",
       "      <td>0</td>\n",
       "      <td>0.0</td>\n",
       "      <td>41</td>\n",
       "    </tr>\n",
       "    <tr>\n",
       "      <th>3</th>\n",
       "      <td>0EF5356002482715299901A</td>\n",
       "      <td>658116</td>\n",
       "      <td>2012-10-22 11:02:35.010000000</td>\n",
       "      <td>NaN</td>\n",
       "      <td>36</td>\n",
       "      <td>Current</td>\n",
       "      <td>NaN</td>\n",
       "      <td>0.12528</td>\n",
       "      <td>0.0974</td>\n",
       "      <td>0.0874</td>\n",
       "      <td>...</td>\n",
       "      <td>-108.01</td>\n",
       "      <td>0.0</td>\n",
       "      <td>0.0</td>\n",
       "      <td>0.0</td>\n",
       "      <td>0.0</td>\n",
       "      <td>1.0</td>\n",
       "      <td>0</td>\n",
       "      <td>0</td>\n",
       "      <td>0.0</td>\n",
       "      <td>158</td>\n",
       "    </tr>\n",
       "    <tr>\n",
       "      <th>4</th>\n",
       "      <td>0F023589499656230C5E3E2</td>\n",
       "      <td>909464</td>\n",
       "      <td>2013-09-14 18:38:39.097000000</td>\n",
       "      <td>NaN</td>\n",
       "      <td>36</td>\n",
       "      <td>Current</td>\n",
       "      <td>NaN</td>\n",
       "      <td>0.24614</td>\n",
       "      <td>0.2085</td>\n",
       "      <td>0.1985</td>\n",
       "      <td>...</td>\n",
       "      <td>-60.27</td>\n",
       "      <td>0.0</td>\n",
       "      <td>0.0</td>\n",
       "      <td>0.0</td>\n",
       "      <td>0.0</td>\n",
       "      <td>1.0</td>\n",
       "      <td>0</td>\n",
       "      <td>0</td>\n",
       "      <td>0.0</td>\n",
       "      <td>20</td>\n",
       "    </tr>\n",
       "  </tbody>\n",
       "</table>\n",
       "<p>5 rows × 81 columns</p>\n",
       "</div>"
      ],
      "text/plain": [
       "                ListingKey  ListingNumber            ListingCreationDate  \\\n",
       "0  1021339766868145413AB3B         193129  2007-08-26 19:09:29.263000000   \n",
       "1  10273602499503308B223C1        1209647  2014-02-27 08:28:07.900000000   \n",
       "2  0EE9337825851032864889A          81716  2007-01-05 15:00:47.090000000   \n",
       "3  0EF5356002482715299901A         658116  2012-10-22 11:02:35.010000000   \n",
       "4  0F023589499656230C5E3E2         909464  2013-09-14 18:38:39.097000000   \n",
       "\n",
       "  CreditGrade  Term LoanStatus           ClosedDate  BorrowerAPR  \\\n",
       "0           C    36  Completed  2009-08-14 00:00:00      0.16516   \n",
       "1         NaN    36    Current                  NaN      0.12016   \n",
       "2          HR    36  Completed  2009-12-17 00:00:00      0.28269   \n",
       "3         NaN    36    Current                  NaN      0.12528   \n",
       "4         NaN    36    Current                  NaN      0.24614   \n",
       "\n",
       "   BorrowerRate  LenderYield  ...  LP_ServiceFees  LP_CollectionFees  \\\n",
       "0        0.1580       0.1380  ...         -133.18                0.0   \n",
       "1        0.0920       0.0820  ...            0.00                0.0   \n",
       "2        0.2750       0.2400  ...          -24.20                0.0   \n",
       "3        0.0974       0.0874  ...         -108.01                0.0   \n",
       "4        0.2085       0.1985  ...          -60.27                0.0   \n",
       "\n",
       "   LP_GrossPrincipalLoss  LP_NetPrincipalLoss LP_NonPrincipalRecoverypayments  \\\n",
       "0                    0.0                  0.0                             0.0   \n",
       "1                    0.0                  0.0                             0.0   \n",
       "2                    0.0                  0.0                             0.0   \n",
       "3                    0.0                  0.0                             0.0   \n",
       "4                    0.0                  0.0                             0.0   \n",
       "\n",
       "   PercentFunded  Recommendations InvestmentFromFriendsCount  \\\n",
       "0            1.0                0                          0   \n",
       "1            1.0                0                          0   \n",
       "2            1.0                0                          0   \n",
       "3            1.0                0                          0   \n",
       "4            1.0                0                          0   \n",
       "\n",
       "  InvestmentFromFriendsAmount Investors  \n",
       "0                         0.0       258  \n",
       "1                         0.0         1  \n",
       "2                         0.0        41  \n",
       "3                         0.0       158  \n",
       "4                         0.0        20  \n",
       "\n",
       "[5 rows x 81 columns]"
      ]
     },
     "execution_count": 5,
     "metadata": {},
     "output_type": "execute_result"
    }
   ],
   "source": [
    "loan.head()"
   ]
  },
  {
   "cell_type": "code",
   "execution_count": 6,
   "id": "1cdec573",
   "metadata": {
    "execution": {
     "iopub.execute_input": "2022-07-26T11:31:04.870533Z",
     "iopub.status.busy": "2022-07-26T11:31:04.869846Z",
     "iopub.status.idle": "2022-07-26T11:31:04.878095Z",
     "shell.execute_reply": "2022-07-26T11:31:04.876855Z"
    },
    "papermill": {
     "duration": 0.059816,
     "end_time": "2022-07-26T11:31:04.880601",
     "exception": false,
     "start_time": "2022-07-26T11:31:04.820785",
     "status": "completed"
    },
    "tags": []
   },
   "outputs": [
    {
     "data": {
      "text/plain": [
       "(113937, 81)"
      ]
     },
     "execution_count": 6,
     "metadata": {},
     "output_type": "execute_result"
    }
   ],
   "source": [
    "loan.shape"
   ]
  },
  {
   "cell_type": "code",
   "execution_count": 7,
   "id": "344c5c4d",
   "metadata": {
    "execution": {
     "iopub.execute_input": "2022-07-26T11:31:04.973426Z",
     "iopub.status.busy": "2022-07-26T11:31:04.972965Z",
     "iopub.status.idle": "2022-07-26T11:31:05.179996Z",
     "shell.execute_reply": "2022-07-26T11:31:05.177889Z"
    },
    "papermill": {
     "duration": 0.258276,
     "end_time": "2022-07-26T11:31:05.184436",
     "exception": false,
     "start_time": "2022-07-26T11:31:04.926160",
     "status": "completed"
    },
    "tags": []
   },
   "outputs": [
    {
     "name": "stdout",
     "output_type": "stream",
     "text": [
      "<class 'pandas.core.frame.DataFrame'>\n",
      "RangeIndex: 113937 entries, 0 to 113936\n",
      "Data columns (total 81 columns):\n",
      " #   Column                               Non-Null Count   Dtype  \n",
      "---  ------                               --------------   -----  \n",
      " 0   ListingKey                           113937 non-null  object \n",
      " 1   ListingNumber                        113937 non-null  int64  \n",
      " 2   ListingCreationDate                  113937 non-null  object \n",
      " 3   CreditGrade                          28953 non-null   object \n",
      " 4   Term                                 113937 non-null  int64  \n",
      " 5   LoanStatus                           113937 non-null  object \n",
      " 6   ClosedDate                           55089 non-null   object \n",
      " 7   BorrowerAPR                          113912 non-null  float64\n",
      " 8   BorrowerRate                         113937 non-null  float64\n",
      " 9   LenderYield                          113937 non-null  float64\n",
      " 10  EstimatedEffectiveYield              84853 non-null   float64\n",
      " 11  EstimatedLoss                        84853 non-null   float64\n",
      " 12  EstimatedReturn                      84853 non-null   float64\n",
      " 13  ProsperRating (numeric)              84853 non-null   float64\n",
      " 14  ProsperRating (Alpha)                84853 non-null   object \n",
      " 15  ProsperScore                         84853 non-null   float64\n",
      " 16  ListingCategory (numeric)            113937 non-null  int64  \n",
      " 17  BorrowerState                        108422 non-null  object \n",
      " 18  Occupation                           110349 non-null  object \n",
      " 19  EmploymentStatus                     111682 non-null  object \n",
      " 20  EmploymentStatusDuration             106312 non-null  float64\n",
      " 21  IsBorrowerHomeowner                  113937 non-null  bool   \n",
      " 22  CurrentlyInGroup                     113937 non-null  bool   \n",
      " 23  GroupKey                             13341 non-null   object \n",
      " 24  DateCreditPulled                     113937 non-null  object \n",
      " 25  CreditScoreRangeLower                113346 non-null  float64\n",
      " 26  CreditScoreRangeUpper                113346 non-null  float64\n",
      " 27  FirstRecordedCreditLine              113240 non-null  object \n",
      " 28  CurrentCreditLines                   106333 non-null  float64\n",
      " 29  OpenCreditLines                      106333 non-null  float64\n",
      " 30  TotalCreditLinespast7years           113240 non-null  float64\n",
      " 31  OpenRevolvingAccounts                113937 non-null  int64  \n",
      " 32  OpenRevolvingMonthlyPayment          113937 non-null  float64\n",
      " 33  InquiriesLast6Months                 113240 non-null  float64\n",
      " 34  TotalInquiries                       112778 non-null  float64\n",
      " 35  CurrentDelinquencies                 113240 non-null  float64\n",
      " 36  AmountDelinquent                     106315 non-null  float64\n",
      " 37  DelinquenciesLast7Years              112947 non-null  float64\n",
      " 38  PublicRecordsLast10Years             113240 non-null  float64\n",
      " 39  PublicRecordsLast12Months            106333 non-null  float64\n",
      " 40  RevolvingCreditBalance               106333 non-null  float64\n",
      " 41  BankcardUtilization                  106333 non-null  float64\n",
      " 42  AvailableBankcardCredit              106393 non-null  float64\n",
      " 43  TotalTrades                          106393 non-null  float64\n",
      " 44  TradesNeverDelinquent (percentage)   106393 non-null  float64\n",
      " 45  TradesOpenedLast6Months              106393 non-null  float64\n",
      " 46  DebtToIncomeRatio                    105383 non-null  float64\n",
      " 47  IncomeRange                          113937 non-null  object \n",
      " 48  IncomeVerifiable                     113937 non-null  bool   \n",
      " 49  StatedMonthlyIncome                  113937 non-null  float64\n",
      " 50  LoanKey                              113937 non-null  object \n",
      " 51  TotalProsperLoans                    22085 non-null   float64\n",
      " 52  TotalProsperPaymentsBilled           22085 non-null   float64\n",
      " 53  OnTimeProsperPayments                22085 non-null   float64\n",
      " 54  ProsperPaymentsLessThanOneMonthLate  22085 non-null   float64\n",
      " 55  ProsperPaymentsOneMonthPlusLate      22085 non-null   float64\n",
      " 56  ProsperPrincipalBorrowed             22085 non-null   float64\n",
      " 57  ProsperPrincipalOutstanding          22085 non-null   float64\n",
      " 58  ScorexChangeAtTimeOfListing          18928 non-null   float64\n",
      " 59  LoanCurrentDaysDelinquent            113937 non-null  int64  \n",
      " 60  LoanFirstDefaultedCycleNumber        16952 non-null   float64\n",
      " 61  LoanMonthsSinceOrigination           113937 non-null  int64  \n",
      " 62  LoanNumber                           113937 non-null  int64  \n",
      " 63  LoanOriginalAmount                   113937 non-null  int64  \n",
      " 64  LoanOriginationDate                  113937 non-null  object \n",
      " 65  LoanOriginationQuarter               113937 non-null  object \n",
      " 66  MemberKey                            113937 non-null  object \n",
      " 67  MonthlyLoanPayment                   113937 non-null  float64\n",
      " 68  LP_CustomerPayments                  113937 non-null  float64\n",
      " 69  LP_CustomerPrincipalPayments         113937 non-null  float64\n",
      " 70  LP_InterestandFees                   113937 non-null  float64\n",
      " 71  LP_ServiceFees                       113937 non-null  float64\n",
      " 72  LP_CollectionFees                    113937 non-null  float64\n",
      " 73  LP_GrossPrincipalLoss                113937 non-null  float64\n",
      " 74  LP_NetPrincipalLoss                  113937 non-null  float64\n",
      " 75  LP_NonPrincipalRecoverypayments      113937 non-null  float64\n",
      " 76  PercentFunded                        113937 non-null  float64\n",
      " 77  Recommendations                      113937 non-null  int64  \n",
      " 78  InvestmentFromFriendsCount           113937 non-null  int64  \n",
      " 79  InvestmentFromFriendsAmount          113937 non-null  float64\n",
      " 80  Investors                            113937 non-null  int64  \n",
      "dtypes: bool(3), float64(50), int64(11), object(17)\n",
      "memory usage: 68.1+ MB\n"
     ]
    }
   ],
   "source": [
    "#We want a summary of the dataframe \n",
    "loan.info()"
   ]
  },
  {
   "cell_type": "markdown",
   "id": "e7296feb",
   "metadata": {
    "papermill": {
     "duration": 0.045338,
     "end_time": "2022-07-26T11:31:05.275859",
     "exception": false,
     "start_time": "2022-07-26T11:31:05.230521",
     "status": "completed"
    },
    "tags": []
   },
   "source": [
    "We can observe that those columns that have symbols are in object form as well as some columns should be of an integer type but are of an object type. Now let us detect which columns have symbols and if there are any other symbols too."
   ]
  },
  {
   "cell_type": "code",
   "execution_count": 8,
   "id": "1aac8701",
   "metadata": {
    "execution": {
     "iopub.execute_input": "2022-07-26T11:31:05.368822Z",
     "iopub.status.busy": "2022-07-26T11:31:05.368438Z",
     "iopub.status.idle": "2022-07-26T11:31:05.843045Z",
     "shell.execute_reply": "2022-07-26T11:31:05.841896Z"
    },
    "papermill": {
     "duration": 0.524486,
     "end_time": "2022-07-26T11:31:05.845777",
     "exception": false,
     "start_time": "2022-07-26T11:31:05.321291",
     "status": "completed"
    },
    "tags": []
   },
   "outputs": [
    {
     "data": {
      "text/html": [
       "<div>\n",
       "<style scoped>\n",
       "    .dataframe tbody tr th:only-of-type {\n",
       "        vertical-align: middle;\n",
       "    }\n",
       "\n",
       "    .dataframe tbody tr th {\n",
       "        vertical-align: top;\n",
       "    }\n",
       "\n",
       "    .dataframe thead th {\n",
       "        text-align: right;\n",
       "    }\n",
       "</style>\n",
       "<table border=\"1\" class=\"dataframe\">\n",
       "  <thead>\n",
       "    <tr style=\"text-align: right;\">\n",
       "      <th></th>\n",
       "      <th>ListingNumber</th>\n",
       "      <th>Term</th>\n",
       "      <th>BorrowerAPR</th>\n",
       "      <th>BorrowerRate</th>\n",
       "      <th>LenderYield</th>\n",
       "      <th>EstimatedEffectiveYield</th>\n",
       "      <th>EstimatedLoss</th>\n",
       "      <th>EstimatedReturn</th>\n",
       "      <th>ProsperRating (numeric)</th>\n",
       "      <th>ProsperScore</th>\n",
       "      <th>...</th>\n",
       "      <th>LP_ServiceFees</th>\n",
       "      <th>LP_CollectionFees</th>\n",
       "      <th>LP_GrossPrincipalLoss</th>\n",
       "      <th>LP_NetPrincipalLoss</th>\n",
       "      <th>LP_NonPrincipalRecoverypayments</th>\n",
       "      <th>PercentFunded</th>\n",
       "      <th>Recommendations</th>\n",
       "      <th>InvestmentFromFriendsCount</th>\n",
       "      <th>InvestmentFromFriendsAmount</th>\n",
       "      <th>Investors</th>\n",
       "    </tr>\n",
       "  </thead>\n",
       "  <tbody>\n",
       "    <tr>\n",
       "      <th>count</th>\n",
       "      <td>1.139370e+05</td>\n",
       "      <td>113937.000000</td>\n",
       "      <td>113912.000000</td>\n",
       "      <td>113937.000000</td>\n",
       "      <td>113937.000000</td>\n",
       "      <td>84853.000000</td>\n",
       "      <td>84853.000000</td>\n",
       "      <td>84853.000000</td>\n",
       "      <td>84853.000000</td>\n",
       "      <td>84853.000000</td>\n",
       "      <td>...</td>\n",
       "      <td>113937.000000</td>\n",
       "      <td>113937.000000</td>\n",
       "      <td>113937.000000</td>\n",
       "      <td>113937.000000</td>\n",
       "      <td>113937.000000</td>\n",
       "      <td>113937.000000</td>\n",
       "      <td>113937.000000</td>\n",
       "      <td>113937.000000</td>\n",
       "      <td>113937.000000</td>\n",
       "      <td>113937.000000</td>\n",
       "    </tr>\n",
       "    <tr>\n",
       "      <th>mean</th>\n",
       "      <td>6.278857e+05</td>\n",
       "      <td>40.830248</td>\n",
       "      <td>0.218828</td>\n",
       "      <td>0.192764</td>\n",
       "      <td>0.182701</td>\n",
       "      <td>0.168661</td>\n",
       "      <td>0.080306</td>\n",
       "      <td>0.096068</td>\n",
       "      <td>4.072243</td>\n",
       "      <td>5.950067</td>\n",
       "      <td>...</td>\n",
       "      <td>-54.725641</td>\n",
       "      <td>-14.242698</td>\n",
       "      <td>700.446342</td>\n",
       "      <td>681.420499</td>\n",
       "      <td>25.142686</td>\n",
       "      <td>0.998584</td>\n",
       "      <td>0.048027</td>\n",
       "      <td>0.023460</td>\n",
       "      <td>16.550751</td>\n",
       "      <td>80.475228</td>\n",
       "    </tr>\n",
       "    <tr>\n",
       "      <th>std</th>\n",
       "      <td>3.280762e+05</td>\n",
       "      <td>10.436212</td>\n",
       "      <td>0.080364</td>\n",
       "      <td>0.074818</td>\n",
       "      <td>0.074516</td>\n",
       "      <td>0.068467</td>\n",
       "      <td>0.046764</td>\n",
       "      <td>0.030403</td>\n",
       "      <td>1.673227</td>\n",
       "      <td>2.376501</td>\n",
       "      <td>...</td>\n",
       "      <td>60.675425</td>\n",
       "      <td>109.232758</td>\n",
       "      <td>2388.513831</td>\n",
       "      <td>2357.167068</td>\n",
       "      <td>275.657937</td>\n",
       "      <td>0.017919</td>\n",
       "      <td>0.332353</td>\n",
       "      <td>0.232412</td>\n",
       "      <td>294.545422</td>\n",
       "      <td>103.239020</td>\n",
       "    </tr>\n",
       "    <tr>\n",
       "      <th>min</th>\n",
       "      <td>4.000000e+00</td>\n",
       "      <td>12.000000</td>\n",
       "      <td>0.006530</td>\n",
       "      <td>0.000000</td>\n",
       "      <td>-0.010000</td>\n",
       "      <td>-0.182700</td>\n",
       "      <td>0.004900</td>\n",
       "      <td>-0.182700</td>\n",
       "      <td>1.000000</td>\n",
       "      <td>1.000000</td>\n",
       "      <td>...</td>\n",
       "      <td>-664.870000</td>\n",
       "      <td>-9274.750000</td>\n",
       "      <td>-94.200000</td>\n",
       "      <td>-954.550000</td>\n",
       "      <td>0.000000</td>\n",
       "      <td>0.700000</td>\n",
       "      <td>0.000000</td>\n",
       "      <td>0.000000</td>\n",
       "      <td>0.000000</td>\n",
       "      <td>1.000000</td>\n",
       "    </tr>\n",
       "    <tr>\n",
       "      <th>25%</th>\n",
       "      <td>4.009190e+05</td>\n",
       "      <td>36.000000</td>\n",
       "      <td>0.156290</td>\n",
       "      <td>0.134000</td>\n",
       "      <td>0.124200</td>\n",
       "      <td>0.115670</td>\n",
       "      <td>0.042400</td>\n",
       "      <td>0.074080</td>\n",
       "      <td>3.000000</td>\n",
       "      <td>4.000000</td>\n",
       "      <td>...</td>\n",
       "      <td>-73.180000</td>\n",
       "      <td>0.000000</td>\n",
       "      <td>0.000000</td>\n",
       "      <td>0.000000</td>\n",
       "      <td>0.000000</td>\n",
       "      <td>1.000000</td>\n",
       "      <td>0.000000</td>\n",
       "      <td>0.000000</td>\n",
       "      <td>0.000000</td>\n",
       "      <td>2.000000</td>\n",
       "    </tr>\n",
       "    <tr>\n",
       "      <th>50%</th>\n",
       "      <td>6.005540e+05</td>\n",
       "      <td>36.000000</td>\n",
       "      <td>0.209760</td>\n",
       "      <td>0.184000</td>\n",
       "      <td>0.173000</td>\n",
       "      <td>0.161500</td>\n",
       "      <td>0.072400</td>\n",
       "      <td>0.091700</td>\n",
       "      <td>4.000000</td>\n",
       "      <td>6.000000</td>\n",
       "      <td>...</td>\n",
       "      <td>-34.440000</td>\n",
       "      <td>0.000000</td>\n",
       "      <td>0.000000</td>\n",
       "      <td>0.000000</td>\n",
       "      <td>0.000000</td>\n",
       "      <td>1.000000</td>\n",
       "      <td>0.000000</td>\n",
       "      <td>0.000000</td>\n",
       "      <td>0.000000</td>\n",
       "      <td>44.000000</td>\n",
       "    </tr>\n",
       "    <tr>\n",
       "      <th>75%</th>\n",
       "      <td>8.926340e+05</td>\n",
       "      <td>36.000000</td>\n",
       "      <td>0.283810</td>\n",
       "      <td>0.250000</td>\n",
       "      <td>0.240000</td>\n",
       "      <td>0.224300</td>\n",
       "      <td>0.112000</td>\n",
       "      <td>0.116600</td>\n",
       "      <td>5.000000</td>\n",
       "      <td>8.000000</td>\n",
       "      <td>...</td>\n",
       "      <td>-13.920000</td>\n",
       "      <td>0.000000</td>\n",
       "      <td>0.000000</td>\n",
       "      <td>0.000000</td>\n",
       "      <td>0.000000</td>\n",
       "      <td>1.000000</td>\n",
       "      <td>0.000000</td>\n",
       "      <td>0.000000</td>\n",
       "      <td>0.000000</td>\n",
       "      <td>115.000000</td>\n",
       "    </tr>\n",
       "    <tr>\n",
       "      <th>max</th>\n",
       "      <td>1.255725e+06</td>\n",
       "      <td>60.000000</td>\n",
       "      <td>0.512290</td>\n",
       "      <td>0.497500</td>\n",
       "      <td>0.492500</td>\n",
       "      <td>0.319900</td>\n",
       "      <td>0.366000</td>\n",
       "      <td>0.283700</td>\n",
       "      <td>7.000000</td>\n",
       "      <td>11.000000</td>\n",
       "      <td>...</td>\n",
       "      <td>32.060000</td>\n",
       "      <td>0.000000</td>\n",
       "      <td>25000.000000</td>\n",
       "      <td>25000.000000</td>\n",
       "      <td>21117.900000</td>\n",
       "      <td>1.012500</td>\n",
       "      <td>39.000000</td>\n",
       "      <td>33.000000</td>\n",
       "      <td>25000.000000</td>\n",
       "      <td>1189.000000</td>\n",
       "    </tr>\n",
       "  </tbody>\n",
       "</table>\n",
       "<p>8 rows × 61 columns</p>\n",
       "</div>"
      ],
      "text/plain": [
       "       ListingNumber           Term    BorrowerAPR   BorrowerRate  \\\n",
       "count   1.139370e+05  113937.000000  113912.000000  113937.000000   \n",
       "mean    6.278857e+05      40.830248       0.218828       0.192764   \n",
       "std     3.280762e+05      10.436212       0.080364       0.074818   \n",
       "min     4.000000e+00      12.000000       0.006530       0.000000   \n",
       "25%     4.009190e+05      36.000000       0.156290       0.134000   \n",
       "50%     6.005540e+05      36.000000       0.209760       0.184000   \n",
       "75%     8.926340e+05      36.000000       0.283810       0.250000   \n",
       "max     1.255725e+06      60.000000       0.512290       0.497500   \n",
       "\n",
       "         LenderYield  EstimatedEffectiveYield  EstimatedLoss  EstimatedReturn  \\\n",
       "count  113937.000000             84853.000000   84853.000000     84853.000000   \n",
       "mean        0.182701                 0.168661       0.080306         0.096068   \n",
       "std         0.074516                 0.068467       0.046764         0.030403   \n",
       "min        -0.010000                -0.182700       0.004900        -0.182700   \n",
       "25%         0.124200                 0.115670       0.042400         0.074080   \n",
       "50%         0.173000                 0.161500       0.072400         0.091700   \n",
       "75%         0.240000                 0.224300       0.112000         0.116600   \n",
       "max         0.492500                 0.319900       0.366000         0.283700   \n",
       "\n",
       "       ProsperRating (numeric)  ProsperScore  ...  LP_ServiceFees  \\\n",
       "count             84853.000000  84853.000000  ...   113937.000000   \n",
       "mean                  4.072243      5.950067  ...      -54.725641   \n",
       "std                   1.673227      2.376501  ...       60.675425   \n",
       "min                   1.000000      1.000000  ...     -664.870000   \n",
       "25%                   3.000000      4.000000  ...      -73.180000   \n",
       "50%                   4.000000      6.000000  ...      -34.440000   \n",
       "75%                   5.000000      8.000000  ...      -13.920000   \n",
       "max                   7.000000     11.000000  ...       32.060000   \n",
       "\n",
       "       LP_CollectionFees  LP_GrossPrincipalLoss  LP_NetPrincipalLoss  \\\n",
       "count      113937.000000          113937.000000        113937.000000   \n",
       "mean          -14.242698             700.446342           681.420499   \n",
       "std           109.232758            2388.513831          2357.167068   \n",
       "min         -9274.750000             -94.200000          -954.550000   \n",
       "25%             0.000000               0.000000             0.000000   \n",
       "50%             0.000000               0.000000             0.000000   \n",
       "75%             0.000000               0.000000             0.000000   \n",
       "max             0.000000           25000.000000         25000.000000   \n",
       "\n",
       "       LP_NonPrincipalRecoverypayments  PercentFunded  Recommendations  \\\n",
       "count                    113937.000000  113937.000000    113937.000000   \n",
       "mean                         25.142686       0.998584         0.048027   \n",
       "std                         275.657937       0.017919         0.332353   \n",
       "min                           0.000000       0.700000         0.000000   \n",
       "25%                           0.000000       1.000000         0.000000   \n",
       "50%                           0.000000       1.000000         0.000000   \n",
       "75%                           0.000000       1.000000         0.000000   \n",
       "max                       21117.900000       1.012500        39.000000   \n",
       "\n",
       "       InvestmentFromFriendsCount  InvestmentFromFriendsAmount      Investors  \n",
       "count               113937.000000                113937.000000  113937.000000  \n",
       "mean                     0.023460                    16.550751      80.475228  \n",
       "std                      0.232412                   294.545422     103.239020  \n",
       "min                      0.000000                     0.000000       1.000000  \n",
       "25%                      0.000000                     0.000000       2.000000  \n",
       "50%                      0.000000                     0.000000      44.000000  \n",
       "75%                      0.000000                     0.000000     115.000000  \n",
       "max                     33.000000                 25000.000000    1189.000000  \n",
       "\n",
       "[8 rows x 61 columns]"
      ]
     },
     "execution_count": 8,
     "metadata": {},
     "output_type": "execute_result"
    }
   ],
   "source": [
    "#telling about certain statistics of each column\n",
    "loan.describe()"
   ]
  },
  {
   "cell_type": "markdown",
   "id": "b9dd155f",
   "metadata": {
    "papermill": {
     "duration": 0.045568,
     "end_time": "2022-07-26T11:31:05.937549",
     "exception": false,
     "start_time": "2022-07-26T11:31:05.891981",
     "status": "completed"
    },
    "tags": []
   },
   "source": [
    "# **What is the structure of your dataset?**\n",
    "​\n",
    "There are 113,937 loans in the dataset with 81 features. Most variables are numeric and categorical in nature.\n",
    "​\n",
    "The dataset features can be split into two main categories:\n",
    "​\n",
    "1) Borrower information\n",
    "​\n",
    "2) Loan performance information"
   ]
  },
  {
   "cell_type": "markdown",
   "id": "0114fccc",
   "metadata": {
    "papermill": {
     "duration": 0.045855,
     "end_time": "2022-07-26T11:31:06.029392",
     "exception": false,
     "start_time": "2022-07-26T11:31:05.983537",
     "status": "completed"
    },
    "tags": []
   },
   "source": [
    "# **What features in the dataset do you think will help support your investigation into your feature(s) of interest**\n",
    "\n",
    "The dataset seems to contain 81 variables. Since it is tedious to explore all 81 variables, i have spotted 20 important variables whose exploration is very necessary. Then i divided these 20 variables into 3 groups, just to make analysis easy :-\n",
    "\n",
    "Loan variables : This contains variables Term, LoanOriginalAmount,BorrowerAPR, BorrowerRate, LenderYield, LoanStatus , ListingCategory , ListingCreationDate.\n",
    "\n",
    "Background borrower : This contains variables which help us to analyse the economic state of borrowers like IncomeRange, StatedMonthlyIncome, EmploymentStatus,DebtToIncomeRatio, BorrowerState and Occupation.\n",
    "\n",
    "Other variables : This involves variables like CreditGrade, ProsperRating and ProsperScore which help us analyse which risk category the borrower belongs to.\n"
   ]
  },
  {
   "cell_type": "markdown",
   "id": "0362dc9d",
   "metadata": {
    "papermill": {
     "duration": 0.046114,
     "end_time": "2022-07-26T11:31:06.122324",
     "exception": false,
     "start_time": "2022-07-26T11:31:06.076210",
     "status": "completed"
    },
    "tags": []
   },
   "source": [
    "# **Univariate Exploration**"
   ]
  },
  {
   "cell_type": "markdown",
   "id": "ce7e6f6c",
   "metadata": {
    "papermill": {
     "duration": 0.046252,
     "end_time": "2022-07-26T11:31:06.215190",
     "exception": false,
     "start_time": "2022-07-26T11:31:06.168938",
     "status": "completed"
    },
    "tags": []
   },
   "source": [
    "## **Goal**\n",
    "\n",
    "Analyse individual variables and see their distribution. See if any unusual points or outliers are present and fix them accordingly."
   ]
  },
  {
   "cell_type": "code",
   "execution_count": 9,
   "id": "5345e6c1",
   "metadata": {
    "execution": {
     "iopub.execute_input": "2022-07-26T11:31:06.310407Z",
     "iopub.status.busy": "2022-07-26T11:31:06.309551Z",
     "iopub.status.idle": "2022-07-26T11:31:06.347851Z",
     "shell.execute_reply": "2022-07-26T11:31:06.346593Z"
    },
    "papermill": {
     "duration": 0.088982,
     "end_time": "2022-07-26T11:31:06.350757",
     "exception": false,
     "start_time": "2022-07-26T11:31:06.261775",
     "status": "completed"
    },
    "tags": []
   },
   "outputs": [],
   "source": [
    "loans = loan.copy()"
   ]
  },
  {
   "cell_type": "code",
   "execution_count": 10,
   "id": "2051f969",
   "metadata": {
    "execution": {
     "iopub.execute_input": "2022-07-26T11:31:06.445731Z",
     "iopub.status.busy": "2022-07-26T11:31:06.445335Z",
     "iopub.status.idle": "2022-07-26T11:31:06.451559Z",
     "shell.execute_reply": "2022-07-26T11:31:06.450543Z"
    },
    "papermill": {
     "duration": 0.056621,
     "end_time": "2022-07-26T11:31:06.454104",
     "exception": false,
     "start_time": "2022-07-26T11:31:06.397483",
     "status": "completed"
    },
    "tags": []
   },
   "outputs": [],
   "source": [
    "loans.rename(columns={'ListingCategory (numeric)': 'ListingCategory'}, inplace=True)\n"
   ]
  },
  {
   "cell_type": "markdown",
   "id": "6a600f2d",
   "metadata": {
    "papermill": {
     "duration": 0.04611,
     "end_time": "2022-07-26T11:31:06.547015",
     "exception": false,
     "start_time": "2022-07-26T11:31:06.500905",
     "status": "completed"
    },
    "tags": []
   },
   "source": [
    "We can see that there are several categorical variables(object datatype) in the variables we've chosen. First let's analyse them one by one -"
   ]
  },
  {
   "cell_type": "markdown",
   "id": "b5b57ebf",
   "metadata": {
    "papermill": {
     "duration": 0.045928,
     "end_time": "2022-07-26T11:31:06.639367",
     "exception": false,
     "start_time": "2022-07-26T11:31:06.593439",
     "status": "completed"
    },
    "tags": []
   },
   "source": [
    "## **1. Income Range**\n",
    "\n",
    "The income range of the borrower at the time the listing was created."
   ]
  },
  {
   "cell_type": "code",
   "execution_count": 11,
   "id": "28bd31d2",
   "metadata": {
    "execution": {
     "iopub.execute_input": "2022-07-26T11:31:06.734663Z",
     "iopub.status.busy": "2022-07-26T11:31:06.734241Z",
     "iopub.status.idle": "2022-07-26T11:31:06.758829Z",
     "shell.execute_reply": "2022-07-26T11:31:06.757916Z"
    },
    "papermill": {
     "duration": 0.075407,
     "end_time": "2022-07-26T11:31:06.761331",
     "exception": false,
     "start_time": "2022-07-26T11:31:06.685924",
     "status": "completed"
    },
    "tags": []
   },
   "outputs": [
    {
     "data": {
      "text/plain": [
       "$25,000-49,999    32192\n",
       "$50,000-74,999    31050\n",
       "$100,000+         17337\n",
       "$75,000-99,999    16916\n",
       "Not displayed      7741\n",
       "$1-24,999          7274\n",
       "Not employed        806\n",
       "$0                  621\n",
       "Name: IncomeRange, dtype: int64"
      ]
     },
     "execution_count": 11,
     "metadata": {},
     "output_type": "execute_result"
    }
   ],
   "source": [
    "loans.IncomeRange.value_counts()"
   ]
  },
  {
   "cell_type": "markdown",
   "id": "568df11b",
   "metadata": {
    "papermill": {
     "duration": 0.046272,
     "end_time": "2022-07-26T11:31:06.854678",
     "exception": false,
     "start_time": "2022-07-26T11:31:06.808406",
     "status": "completed"
    },
    "tags": []
   },
   "source": [
    "There are 2 categories - ‘Not employed’ and ‘$0’ , these both are basically unemployed people so I'll be replacing ‘Not employed’"
   ]
  },
  {
   "cell_type": "code",
   "execution_count": 12,
   "id": "10a6ef8b",
   "metadata": {
    "execution": {
     "iopub.execute_input": "2022-07-26T11:31:06.949596Z",
     "iopub.status.busy": "2022-07-26T11:31:06.948791Z",
     "iopub.status.idle": "2022-07-26T11:31:07.060188Z",
     "shell.execute_reply": "2022-07-26T11:31:07.058763Z"
    },
    "papermill": {
     "duration": 0.161803,
     "end_time": "2022-07-26T11:31:07.063102",
     "exception": false,
     "start_time": "2022-07-26T11:31:06.901299",
     "status": "completed"
    },
    "tags": []
   },
   "outputs": [],
   "source": [
    "loans.IncomeRange = loans.IncomeRange.str.replace('Not employed','$0')\n"
   ]
  },
  {
   "cell_type": "code",
   "execution_count": 13,
   "id": "6148e057",
   "metadata": {
    "execution": {
     "iopub.execute_input": "2022-07-26T11:31:07.157500Z",
     "iopub.status.busy": "2022-07-26T11:31:07.157076Z",
     "iopub.status.idle": "2022-07-26T11:31:07.181523Z",
     "shell.execute_reply": "2022-07-26T11:31:07.180431Z"
    },
    "papermill": {
     "duration": 0.074258,
     "end_time": "2022-07-26T11:31:07.183832",
     "exception": false,
     "start_time": "2022-07-26T11:31:07.109574",
     "status": "completed"
    },
    "tags": []
   },
   "outputs": [
    {
     "data": {
      "text/plain": [
       "$25,000-49,999    32192\n",
       "$50,000-74,999    31050\n",
       "$100,000+         17337\n",
       "$75,000-99,999    16916\n",
       "Not displayed      7741\n",
       "$1-24,999          7274\n",
       "$0                 1427\n",
       "Name: IncomeRange, dtype: int64"
      ]
     },
     "execution_count": 13,
     "metadata": {},
     "output_type": "execute_result"
    }
   ],
   "source": [
    "loans.IncomeRange.value_counts()"
   ]
  },
  {
   "cell_type": "code",
   "execution_count": 14,
   "id": "3d60a3cb",
   "metadata": {
    "execution": {
     "iopub.execute_input": "2022-07-26T11:31:07.279234Z",
     "iopub.status.busy": "2022-07-26T11:31:07.278298Z",
     "iopub.status.idle": "2022-07-26T11:31:07.682501Z",
     "shell.execute_reply": "2022-07-26T11:31:07.681235Z"
    },
    "papermill": {
     "duration": 0.454519,
     "end_time": "2022-07-26T11:31:07.685059",
     "exception": false,
     "start_time": "2022-07-26T11:31:07.230540",
     "status": "completed"
    },
    "tags": []
   },
   "outputs": [
    {
     "data": {
      "text/plain": [
       "Text(0.5, 1.0, 'Income Range count')"
      ]
     },
     "execution_count": 14,
     "metadata": {},
     "output_type": "execute_result"
    },
    {
     "data": {
      "image/png": "[encoded data removed]",
      "text/plain": [
       "<Figure size 720x432 with 1 Axes>"
      ]
     },
     "metadata": {
      "needs_background": "light"
     },
     "output_type": "display_data"
    }
   ],
   "source": [
    "plt.figure(figsize=(10,6))\n",
    "sns.countplot(loans.IncomeRange,color = sns.color_palette()[0]);\n",
    "plt.xticks(rotation= 90);\n",
    "plt.title(\"Income Range count\")"
   ]
  },
  {
   "cell_type": "markdown",
   "id": "d8165b5c",
   "metadata": {
    "papermill": {
     "duration": 0.049048,
     "end_time": "2022-07-26T11:31:07.781782",
     "exception": false,
     "start_time": "2022-07-26T11:31:07.732734",
     "status": "completed"
    },
    "tags": []
   },
   "source": [
    "The plot shows that mostly employed people take loan. There are 1427 unemployed people and 7741 people who have not provided their income.\n",
    "\n"
   ]
  },
  {
   "cell_type": "markdown",
   "id": "6b02960f",
   "metadata": {
    "papermill": {
     "duration": 0.046711,
     "end_time": "2022-07-26T11:31:07.875685",
     "exception": false,
     "start_time": "2022-07-26T11:31:07.828974",
     "status": "completed"
    },
    "tags": []
   },
   "source": [
    "## **2. Loan Status**\n",
    "The current status of the loan: Cancelled, Chargedoff, Completed, Current, Defaulted, FinalPaymentInProgress, PastDue. The PastDue status will be accompanied by a delinquency bucket."
   ]
  },
  {
   "cell_type": "code",
   "execution_count": 15,
   "id": "c3d2853f",
   "metadata": {
    "execution": {
     "iopub.execute_input": "2022-07-26T11:31:07.972812Z",
     "iopub.status.busy": "2022-07-26T11:31:07.972385Z",
     "iopub.status.idle": "2022-07-26T11:31:07.998083Z",
     "shell.execute_reply": "2022-07-26T11:31:07.997176Z"
    },
    "papermill": {
     "duration": 0.077173,
     "end_time": "2022-07-26T11:31:08.000547",
     "exception": false,
     "start_time": "2022-07-26T11:31:07.923374",
     "status": "completed"
    },
    "tags": []
   },
   "outputs": [
    {
     "data": {
      "text/plain": [
       "Current                   56576\n",
       "Completed                 38074\n",
       "Chargedoff                11992\n",
       "Defaulted                  5018\n",
       "Past Due (1-15 days)        806\n",
       "Past Due (31-60 days)       363\n",
       "Past Due (61-90 days)       313\n",
       "Past Due (91-120 days)      304\n",
       "Past Due (16-30 days)       265\n",
       "FinalPaymentInProgress      205\n",
       "Past Due (>120 days)         16\n",
       "Cancelled                     5\n",
       "Name: LoanStatus, dtype: int64"
      ]
     },
     "execution_count": 15,
     "metadata": {},
     "output_type": "execute_result"
    }
   ],
   "source": [
    "loans.LoanStatus.value_counts()"
   ]
  },
  {
   "cell_type": "code",
   "execution_count": 16,
   "id": "829aa7df",
   "metadata": {
    "execution": {
     "iopub.execute_input": "2022-07-26T11:31:08.097986Z",
     "iopub.status.busy": "2022-07-26T11:31:08.097323Z",
     "iopub.status.idle": "2022-07-26T11:31:08.511312Z",
     "shell.execute_reply": "2022-07-26T11:31:08.509982Z"
    },
    "papermill": {
     "duration": 0.465532,
     "end_time": "2022-07-26T11:31:08.514010",
     "exception": false,
     "start_time": "2022-07-26T11:31:08.048478",
     "status": "completed"
    },
    "tags": []
   },
   "outputs": [
    {
     "data": {
      "image/png": "[encoded data removed]",
      "text/plain": [
       "<Figure size 720x432 with 1 Axes>"
      ]
     },
     "metadata": {
      "needs_background": "light"
     },
     "output_type": "display_data"
    }
   ],
   "source": [
    "plt.figure(figsize=(10,6))\n",
    "sns.countplot(loans.LoanStatus,color = sns.color_palette()[0]);\n",
    "plt.xticks(rotation= 90);\n",
    "plt.title(\"Loan Status count\");"
   ]
  },
  {
   "cell_type": "markdown",
   "id": "8ce1fd7e",
   "metadata": {
    "papermill": {
     "duration": 0.04693,
     "end_time": "2022-07-26T11:31:08.608588",
     "exception": false,
     "start_time": "2022-07-26T11:31:08.561658",
     "status": "completed"
    },
    "tags": []
   },
   "source": [
    "Most loans are completed or are currently going on . Ongoing loans suggests their growth."
   ]
  },
  {
   "cell_type": "markdown",
   "id": "80c2ec42",
   "metadata": {
    "papermill": {
     "duration": 0.04671,
     "end_time": "2022-07-26T11:31:08.702497",
     "exception": false,
     "start_time": "2022-07-26T11:31:08.655787",
     "status": "completed"
    },
    "tags": []
   },
   "source": [
    "## **3. Occupation**\n",
    "The Occupation selected by the Borrower at the time they created the listing."
   ]
  },
  {
   "cell_type": "code",
   "execution_count": 17,
   "id": "0cd4a550",
   "metadata": {
    "execution": {
     "iopub.execute_input": "2022-07-26T11:31:08.816596Z",
     "iopub.status.busy": "2022-07-26T11:31:08.815544Z",
     "iopub.status.idle": "2022-07-26T11:31:10.255838Z",
     "shell.execute_reply": "2022-07-26T11:31:10.254841Z"
    },
    "papermill": {
     "duration": 1.508173,
     "end_time": "2022-07-26T11:31:10.258099",
     "exception": false,
     "start_time": "2022-07-26T11:31:08.749926",
     "status": "completed"
    },
    "tags": []
   },
   "outputs": [
    {
     "data": {
      "image/png": "[encoded data removed]",
      "text/plain": [
       "<Figure size 1296x432 with 1 Axes>"
      ]
     },
     "metadata": {
      "needs_background": "light"
     },
     "output_type": "display_data"
    }
   ],
   "source": [
    "plt.figure(figsize=(18,6))\n",
    "sns.countplot(loans.Occupation,color = sns.color_palette()[0], order = loans.Occupation.value_counts().index);\n",
    "plt.xticks(rotation= 90);"
   ]
  },
  {
   "cell_type": "markdown",
   "id": "c83df581",
   "metadata": {
    "papermill": {
     "duration": 0.04922,
     "end_time": "2022-07-26T11:31:10.355978",
     "exception": false,
     "start_time": "2022-07-26T11:31:10.306758",
     "status": "completed"
    },
    "tags": []
   },
   "source": [
    "Most people were not comfortable in sharing their occupation .Other popular occupations are Professional, Computer Programmer, Executive , Teacher etc .\n",
    "It can be seen at the end of graph there are several categories of students , lets have a look at them separately ."
   ]
  },
  {
   "cell_type": "code",
   "execution_count": 18,
   "id": "5fa04d0c",
   "metadata": {
    "execution": {
     "iopub.execute_input": "2022-07-26T11:31:10.464863Z",
     "iopub.status.busy": "2022-07-26T11:31:10.464460Z",
     "iopub.status.idle": "2022-07-26T11:31:10.563332Z",
     "shell.execute_reply": "2022-07-26T11:31:10.561952Z"
    },
    "papermill": {
     "duration": 0.152624,
     "end_time": "2022-07-26T11:31:10.566284",
     "exception": false,
     "start_time": "2022-07-26T11:31:10.413660",
     "status": "completed"
    },
    "tags": []
   },
   "outputs": [],
   "source": [
    "stu = loan[loans.Occupation.str.contains(\"Student\")==True]"
   ]
  },
  {
   "cell_type": "code",
   "execution_count": 19,
   "id": "e4eba29a",
   "metadata": {
    "execution": {
     "iopub.execute_input": "2022-07-26T11:31:10.667208Z",
     "iopub.status.busy": "2022-07-26T11:31:10.666749Z",
     "iopub.status.idle": "2022-07-26T11:31:10.677328Z",
     "shell.execute_reply": "2022-07-26T11:31:10.675919Z"
    },
    "papermill": {
     "duration": 0.064068,
     "end_time": "2022-07-26T11:31:10.679826",
     "exception": false,
     "start_time": "2022-07-26T11:31:10.615758",
     "status": "completed"
    },
    "tags": []
   },
   "outputs": [
    {
     "data": {
      "text/plain": [
       "Student - College Graduate Student    245\n",
       "Student - College Senior              188\n",
       "Student - College Junior              112\n",
       "Student - College Sophomore            69\n",
       "Student - College Freshman             41\n",
       "Student - Community College            28\n",
       "Student - Technical School             16\n",
       "Name: Occupation, dtype: int64"
      ]
     },
     "execution_count": 19,
     "metadata": {},
     "output_type": "execute_result"
    }
   ],
   "source": [
    "stu.Occupation.value_counts()"
   ]
  },
  {
   "cell_type": "code",
   "execution_count": 20,
   "id": "eed33911",
   "metadata": {
    "execution": {
     "iopub.execute_input": "2022-07-26T11:31:10.779835Z",
     "iopub.status.busy": "2022-07-26T11:31:10.779411Z",
     "iopub.status.idle": "2022-07-26T11:31:10.787288Z",
     "shell.execute_reply": "2022-07-26T11:31:10.786216Z"
    },
    "papermill": {
     "duration": 0.060302,
     "end_time": "2022-07-26T11:31:10.789634",
     "exception": false,
     "start_time": "2022-07-26T11:31:10.729332",
     "status": "completed"
    },
    "tags": []
   },
   "outputs": [
    {
     "data": {
      "text/plain": [
       "0.006134969325153374"
      ]
     },
     "execution_count": 20,
     "metadata": {},
     "output_type": "execute_result"
    }
   ],
   "source": [
    "len(stu.Occupation)/len(loans.Occupation)"
   ]
  },
  {
   "cell_type": "markdown",
   "id": "dfd738fc",
   "metadata": {
    "papermill": {
     "duration": 0.048244,
     "end_time": "2022-07-26T11:31:10.886771",
     "exception": false,
     "start_time": "2022-07-26T11:31:10.838527",
     "status": "completed"
    },
    "tags": []
   },
   "source": [
    "We can see that 0.6% of the borrowers are students.\n",
    "Students are potential borrower but still Prosper is not very famous among them. Company should make policies to encourage them to take loans."
   ]
  },
  {
   "cell_type": "markdown",
   "id": "3f4b53c6",
   "metadata": {
    "papermill": {
     "duration": 0.050437,
     "end_time": "2022-07-26T11:31:10.985905",
     "exception": false,
     "start_time": "2022-07-26T11:31:10.935468",
     "status": "completed"
    },
    "tags": []
   },
   "source": [
    "## **4. Borrower State**\n",
    "The two letter abbreviation of the state of the address of the borrower at the time the Listing was created."
   ]
  },
  {
   "cell_type": "code",
   "execution_count": 21,
   "id": "d5e9731a",
   "metadata": {
    "execution": {
     "iopub.execute_input": "2022-07-26T11:31:11.084939Z",
     "iopub.status.busy": "2022-07-26T11:31:11.084518Z",
     "iopub.status.idle": "2022-07-26T11:31:11.983837Z",
     "shell.execute_reply": "2022-07-26T11:31:11.982499Z"
    },
    "papermill": {
     "duration": 0.95264,
     "end_time": "2022-07-26T11:31:11.987155",
     "exception": false,
     "start_time": "2022-07-26T11:31:11.034515",
     "status": "completed"
    },
    "tags": []
   },
   "outputs": [
    {
     "data": {
      "image/png": "[encoded data removed]",
      "text/plain": [
       "<Figure size 1296x432 with 1 Axes>"
      ]
     },
     "metadata": {
      "needs_background": "light"
     },
     "output_type": "display_data"
    }
   ],
   "source": [
    "plt.figure(figsize=(18,6))\n",
    "\n",
    "sns.countplot(loans.BorrowerState,color = sns.color_palette()[0],order = loans.BorrowerState.value_counts().index);"
   ]
  },
  {
   "cell_type": "markdown",
   "id": "115918f7",
   "metadata": {
    "papermill": {
     "duration": 0.049574,
     "end_time": "2022-07-26T11:31:12.086510",
     "exception": false,
     "start_time": "2022-07-26T11:31:12.036936",
     "status": "completed"
    },
    "tags": []
   },
   "source": [
    "The most popular state is California mostly because Prosper was founded. Other popular states include Florida, New York, Texas etc."
   ]
  },
  {
   "cell_type": "markdown",
   "id": "3a8eaa05",
   "metadata": {
    "papermill": {
     "duration": 0.049501,
     "end_time": "2022-07-26T11:31:12.186491",
     "exception": false,
     "start_time": "2022-07-26T11:31:12.136990",
     "status": "completed"
    },
    "tags": []
   },
   "source": [
    "## **5. Listing Category**\n",
    "The category of the listing that the borrower selected when posting their listing: 0 - Not Available, 1 - Debt Consolidation, 2 - Home Improvement, 3 - Business, 4 - Personal Loan, 5 - Student Use, 6 - Auto, 7- Other, 8 - Baby&Adoption, 9 - Boat, 10 - Cosmetic Procedure, 11 - Engagement Ring, 12 - Green Loans, 13 - Household Expenses, 14 - Large Purchases, 15 - Medical/Dental, 16 - Motorcycle, 17 - RV, 18 - Taxes, 19 - Vacation, 20 - Wedding Loans"
   ]
  },
  {
   "cell_type": "code",
   "execution_count": 22,
   "id": "538f415f",
   "metadata": {
    "execution": {
     "iopub.execute_input": "2022-07-26T11:31:12.288248Z",
     "iopub.status.busy": "2022-07-26T11:31:12.287521Z",
     "iopub.status.idle": "2022-07-26T11:31:12.292652Z",
     "shell.execute_reply": "2022-07-26T11:31:12.291500Z"
    },
    "papermill": {
     "duration": 0.058886,
     "end_time": "2022-07-26T11:31:12.295211",
     "exception": false,
     "start_time": "2022-07-26T11:31:12.236325",
     "status": "completed"
    },
    "tags": []
   },
   "outputs": [],
   "source": [
    "#plt.figure(figsize=(18,6))\n",
    "\n",
    "#label = [[\"Not Available\",\"Debt Consolidation\", \"Home Improvement\", \"Business\",\"Personal Loan\", \"Student Use\", \"Auto\",\"Other\", \"Baby & Adoption\",\"Boat\", \"Cosmetic Procedure\", \"Engagement Ring\", \"Green Loans\",\"Household Expenses\", \"Large Purchases\", \"Medical/Dental\", \"Motorcycle\", \"RV\", \"Taxes\", \"Vacation\", \"Wedding Loans\", \"Other\", \"Not Applicable\"]]\n",
    "\n",
    "#ax = sns.countplot(loans.ListingCategory,color = sns.color_palette()[0]);\n",
    "#ax.set_xticklabels(label, rotation='vertical', fontsize=10)\n",
    "#plt.show()"
   ]
  },
  {
   "cell_type": "markdown",
   "id": "9a767d84",
   "metadata": {
    "papermill": {
     "duration": 0.049751,
     "end_time": "2022-07-26T11:31:12.394853",
     "exception": false,
     "start_time": "2022-07-26T11:31:12.345102",
     "status": "completed"
    },
    "tags": []
   },
   "source": [
    "Most popular reasons to take a loan are Debt Consolidation, Home Improvement, Buisiness and Personal loan among several other reasons. Though a lot of people are not comfortable in sharing their reasons which comes under 'Not Available' and 'Other' ."
   ]
  },
  {
   "cell_type": "markdown",
   "id": "dbe86fdb",
   "metadata": {
    "papermill": {
     "duration": 0.050011,
     "end_time": "2022-07-26T11:31:12.494557",
     "exception": false,
     "start_time": "2022-07-26T11:31:12.444546",
     "status": "completed"
    },
    "tags": []
   },
   "source": [
    "## **6. Employement Status**\n",
    "The employment status of the borrower at the time they posted the listing."
   ]
  },
  {
   "cell_type": "code",
   "execution_count": 23,
   "id": "0e910106",
   "metadata": {
    "execution": {
     "iopub.execute_input": "2022-07-26T11:31:12.596416Z",
     "iopub.status.busy": "2022-07-26T11:31:12.595722Z",
     "iopub.status.idle": "2022-07-26T11:31:12.969890Z",
     "shell.execute_reply": "2022-07-26T11:31:12.968950Z"
    },
    "papermill": {
     "duration": 0.428452,
     "end_time": "2022-07-26T11:31:12.972390",
     "exception": false,
     "start_time": "2022-07-26T11:31:12.543938",
     "status": "completed"
    },
    "tags": []
   },
   "outputs": [
    {
     "data": {
      "image/png": "[encoded data removed]",
      "text/plain": [
       "<Figure size 720x432 with 1 Axes>"
      ]
     },
     "metadata": {
      "needs_background": "light"
     },
     "output_type": "display_data"
    }
   ],
   "source": [
    "plt.figure(figsize = (10,6))\n",
    "sns.countplot(loans.EmploymentStatus ,color = sns.color_palette()[0]);\n",
    "plt.show()"
   ]
  },
  {
   "cell_type": "markdown",
   "id": "128f82ed",
   "metadata": {
    "papermill": {
     "duration": 0.049663,
     "end_time": "2022-07-26T11:31:13.072275",
     "exception": false,
     "start_time": "2022-07-26T11:31:13.022612",
     "status": "completed"
    },
    "tags": []
   },
   "source": [
    "People who are not employed or do not have a stable job are not much into Prosper which is an obvious thing. Even self-employed also in less proportion."
   ]
  },
  {
   "cell_type": "markdown",
   "id": "8debe1fb",
   "metadata": {
    "papermill": {
     "duration": 0.050561,
     "end_time": "2022-07-26T11:31:13.174180",
     "exception": false,
     "start_time": "2022-07-26T11:31:13.123619",
     "status": "completed"
    },
    "tags": []
   },
   "source": [
    "## **7. Credit Grade and Prosper Rating**\n",
    "The Prosper Rating assigned at the time the listing was created between AA - HR. In pre-2009 phase it was called credit grade, after 2009 it was called prosper rating."
   ]
  },
  {
   "cell_type": "code",
   "execution_count": 24,
   "id": "8c7640a2",
   "metadata": {
    "execution": {
     "iopub.execute_input": "2022-07-26T11:31:13.276964Z",
     "iopub.status.busy": "2022-07-26T11:31:13.276485Z",
     "iopub.status.idle": "2022-07-26T11:31:13.832396Z",
     "shell.execute_reply": "2022-07-26T11:31:13.831082Z"
    },
    "papermill": {
     "duration": 0.60979,
     "end_time": "2022-07-26T11:31:13.834762",
     "exception": false,
     "start_time": "2022-07-26T11:31:13.224972",
     "status": "completed"
    },
    "tags": []
   },
   "outputs": [
    {
     "data": {
      "image/png": "[encoded data removed]",
      "text/plain": [
       "<Figure size 1800x576 with 2 Axes>"
      ]
     },
     "metadata": {
      "needs_background": "light"
     },
     "output_type": "display_data"
    }
   ],
   "source": [
    "fig, ax = plt.subplots(1,2 ,figsize=(25,8),sharey='row')\n",
    "#  plt.subplots(2,2,)\n",
    "fig.subplots_adjust(wspace=0.1)\n",
    "\n",
    "x = sns.countplot(loans.CreditGrade ,ax=ax[0],color = sns.color_palette()[0],order =[ \"NA\",\"HR\", \"E\", \"D\", \"C\", \"B\",\"A\", \"AA\"])\n",
    "x.title.set_text(\"Credit Grade - Grade before 2009\")\n",
    "\n",
    "y=sns.countplot(loans['ProsperRating (Alpha)'] ,ax=ax[1],color = sns.color_palette()[0],order =[\"HR\", \"E\", \"D\", \"C\", \"B\",\"A\", \"AA\"])\n",
    "y.title.set_text(\"Prosper Rating - Grade after 2009\")\n",
    "\n",
    "fig.show()"
   ]
  },
  {
   "cell_type": "markdown",
   "id": "5862e305",
   "metadata": {
    "papermill": {
     "duration": 0.050202,
     "end_time": "2022-07-26T11:31:13.935657",
     "exception": false,
     "start_time": "2022-07-26T11:31:13.885455",
     "status": "completed"
    },
    "tags": []
   },
   "source": [
    "These are the ratings provided by Prosper to its borrowers. Prosper has seven loan grades called Prosper Ratings: AA, A, B, C, D, E and HR where AA is the lowest risk down to HR which actually stands for high risk. Rates start at 5.99% for a 3-year AA loan up to 31.72% for an HR loan.\n",
    "\n",
    "After the period of 2009 , we can see that majority of people belong to the high risk range, i.e. HR - B . From the above graphs we can see that the lowest risk category AA count has increased in Prosper Rating."
   ]
  },
  {
   "cell_type": "markdown",
   "id": "30877f16",
   "metadata": {
    "papermill": {
     "duration": 0.049951,
     "end_time": "2022-07-26T11:31:14.036225",
     "exception": false,
     "start_time": "2022-07-26T11:31:13.986274",
     "status": "completed"
    },
    "tags": []
   },
   "source": [
    "## Now, let's analyse the numerical variables one by one -\n",
    "\n",
    "## **1. Credit Score**\n",
    "The lower value representing the range of the borrower's credit score as provided by a consumer credit rating agency.\n",
    "The upper value representing the range of the borrower's credit score as provided by a consumer credit rating agency."
   ]
  },
  {
   "cell_type": "code",
   "execution_count": 25,
   "id": "f9362c8c",
   "metadata": {
    "execution": {
     "iopub.execute_input": "2022-07-26T11:31:14.139389Z",
     "iopub.status.busy": "2022-07-26T11:31:14.138941Z",
     "iopub.status.idle": "2022-07-26T11:31:14.155292Z",
     "shell.execute_reply": "2022-07-26T11:31:14.154381Z"
    },
    "papermill": {
     "duration": 0.070817,
     "end_time": "2022-07-26T11:31:14.157549",
     "exception": false,
     "start_time": "2022-07-26T11:31:14.086732",
     "status": "completed"
    },
    "tags": []
   },
   "outputs": [
    {
     "data": {
      "text/plain": [
       "count    113346.000000\n",
       "mean        685.567731\n",
       "std          66.458275\n",
       "min           0.000000\n",
       "25%         660.000000\n",
       "50%         680.000000\n",
       "75%         720.000000\n",
       "max         880.000000\n",
       "Name: CreditScoreRangeLower, dtype: float64"
      ]
     },
     "execution_count": 25,
     "metadata": {},
     "output_type": "execute_result"
    }
   ],
   "source": [
    "loans.CreditScoreRangeLower.describe()"
   ]
  },
  {
   "cell_type": "code",
   "execution_count": 26,
   "id": "ad0b0082",
   "metadata": {
    "execution": {
     "iopub.execute_input": "2022-07-26T11:31:14.263261Z",
     "iopub.status.busy": "2022-07-26T11:31:14.262252Z",
     "iopub.status.idle": "2022-07-26T11:31:14.278778Z",
     "shell.execute_reply": "2022-07-26T11:31:14.277826Z"
    },
    "papermill": {
     "duration": 0.072579,
     "end_time": "2022-07-26T11:31:14.281218",
     "exception": false,
     "start_time": "2022-07-26T11:31:14.208639",
     "status": "completed"
    },
    "tags": []
   },
   "outputs": [
    {
     "data": {
      "text/plain": [
       "count    113346.000000\n",
       "mean        704.567731\n",
       "std          66.458275\n",
       "min          19.000000\n",
       "25%         679.000000\n",
       "50%         699.000000\n",
       "75%         739.000000\n",
       "max         899.000000\n",
       "Name: CreditScoreRangeUpper, dtype: float64"
      ]
     },
     "execution_count": 26,
     "metadata": {},
     "output_type": "execute_result"
    }
   ],
   "source": [
    "loans.CreditScoreRangeUpper.describe()"
   ]
  },
  {
   "cell_type": "code",
   "execution_count": 27,
   "id": "268e7fcf",
   "metadata": {
    "execution": {
     "iopub.execute_input": "2022-07-26T11:31:14.387674Z",
     "iopub.status.busy": "2022-07-26T11:31:14.387065Z",
     "iopub.status.idle": "2022-07-26T11:31:14.393682Z",
     "shell.execute_reply": "2022-07-26T11:31:14.392663Z"
    },
    "papermill": {
     "duration": 0.06274,
     "end_time": "2022-07-26T11:31:14.396252",
     "exception": false,
     "start_time": "2022-07-26T11:31:14.333512",
     "status": "completed"
    },
    "tags": []
   },
   "outputs": [],
   "source": [
    "loans['CreditScore'] = (loans.CreditScoreRangeLower + loans.CreditScoreRangeUpper)/2"
   ]
  },
  {
   "cell_type": "code",
   "execution_count": 28,
   "id": "2cca82b1",
   "metadata": {
    "execution": {
     "iopub.execute_input": "2022-07-26T11:31:14.503108Z",
     "iopub.status.busy": "2022-07-26T11:31:14.502436Z",
     "iopub.status.idle": "2022-07-26T11:31:14.518999Z",
     "shell.execute_reply": "2022-07-26T11:31:14.518091Z"
    },
    "papermill": {
     "duration": 0.073253,
     "end_time": "2022-07-26T11:31:14.521413",
     "exception": false,
     "start_time": "2022-07-26T11:31:14.448160",
     "status": "completed"
    },
    "tags": []
   },
   "outputs": [
    {
     "data": {
      "text/plain": [
       "count    113346.000000\n",
       "mean        695.067731\n",
       "std          66.458275\n",
       "min           9.500000\n",
       "25%         669.500000\n",
       "50%         689.500000\n",
       "75%         729.500000\n",
       "max         889.500000\n",
       "Name: CreditScore, dtype: float64"
      ]
     },
     "execution_count": 28,
     "metadata": {},
     "output_type": "execute_result"
    }
   ],
   "source": [
    "loans.CreditScore.describe()"
   ]
  },
  {
   "cell_type": "markdown",
   "id": "ffe90264",
   "metadata": {
    "papermill": {
     "duration": 0.050765,
     "end_time": "2022-07-26T11:31:14.623413",
     "exception": false,
     "start_time": "2022-07-26T11:31:14.572648",
     "status": "completed"
    },
    "tags": []
   },
   "source": [
    "There are two variables in the dataset CreditScoreRangeLower and CreditScoreRangeUpper . CreditScoreRangeLower is the lower value representing the range of the borrower's credit score as provided by a consumer credit rating agency, and CreditScoreRangeUpper is the upper value representing the range of the borrower's credit score as provided by a consumer credit rating agency. I converted them into a single variable called CreditScore for my analysis ."
   ]
  },
  {
   "cell_type": "code",
   "execution_count": 29,
   "id": "6bc80672",
   "metadata": {
    "execution": {
     "iopub.execute_input": "2022-07-26T11:31:14.728193Z",
     "iopub.status.busy": "2022-07-26T11:31:14.727754Z",
     "iopub.status.idle": "2022-07-26T11:31:14.734306Z",
     "shell.execute_reply": "2022-07-26T11:31:14.733308Z"
    },
    "papermill": {
     "duration": 0.061703,
     "end_time": "2022-07-26T11:31:14.736685",
     "exception": false,
     "start_time": "2022-07-26T11:31:14.674982",
     "status": "completed"
    },
    "tags": []
   },
   "outputs": [],
   "source": [
    "loans['CreditScore'].replace(np.nan, loans.CreditScore.mean(),inplace=True)"
   ]
  },
  {
   "cell_type": "code",
   "execution_count": 30,
   "id": "2f029ad7",
   "metadata": {
    "execution": {
     "iopub.execute_input": "2022-07-26T11:31:14.841597Z",
     "iopub.status.busy": "2022-07-26T11:31:14.840511Z",
     "iopub.status.idle": "2022-07-26T11:31:15.185368Z",
     "shell.execute_reply": "2022-07-26T11:31:15.184240Z"
    },
    "papermill": {
     "duration": 0.400459,
     "end_time": "2022-07-26T11:31:15.188263",
     "exception": false,
     "start_time": "2022-07-26T11:31:14.787804",
     "status": "completed"
    },
    "tags": []
   },
   "outputs": [
    {
     "data": {
      "image/png": "[encoded data removed]",
      "text/plain": [
       "<Figure size 720x432 with 1 Axes>"
      ]
     },
     "metadata": {
      "needs_background": "light"
     },
     "output_type": "display_data"
    }
   ],
   "source": [
    "plt.figure(figsize = (10,6))\n",
    "plt.hist(loans.CreditScore,45,edgecolor='black', linewidth=0.5);\n",
    "plt.xlim(400,1000);"
   ]
  },
  {
   "cell_type": "markdown",
   "id": "edd4663f",
   "metadata": {
    "papermill": {
     "duration": 0.051417,
     "end_time": "2022-07-26T11:31:15.291654",
     "exception": false,
     "start_time": "2022-07-26T11:31:15.240237",
     "status": "completed"
    },
    "tags": []
   },
   "source": [
    "A majority of the users lie between the 600 and 800 mark, which are decent credit scores."
   ]
  },
  {
   "cell_type": "markdown",
   "id": "1b37d9fc",
   "metadata": {
    "papermill": {
     "duration": 0.051041,
     "end_time": "2022-07-26T11:31:15.394163",
     "exception": false,
     "start_time": "2022-07-26T11:31:15.343122",
     "status": "completed"
    },
    "tags": []
   },
   "source": [
    "## **2. Stated Monthly Income**"
   ]
  },
  {
   "cell_type": "code",
   "execution_count": 31,
   "id": "22a9c92f",
   "metadata": {
    "execution": {
     "iopub.execute_input": "2022-07-26T11:31:15.499195Z",
     "iopub.status.busy": "2022-07-26T11:31:15.498753Z",
     "iopub.status.idle": "2022-07-26T11:31:22.761388Z",
     "shell.execute_reply": "2022-07-26T11:31:22.760056Z"
    },
    "papermill": {
     "duration": 7.318537,
     "end_time": "2022-07-26T11:31:22.764012",
     "exception": false,
     "start_time": "2022-07-26T11:31:15.445475",
     "status": "completed"
    },
    "tags": []
   },
   "outputs": [
    {
     "data": {
      "image/png": "[encoded data removed]",
      "text/plain": [
       "<Figure size 720x432 with 1 Axes>"
      ]
     },
     "metadata": {
      "needs_background": "light"
     },
     "output_type": "display_data"
    }
   ],
   "source": [
    "# plt.hist(loans.StatedMonthlyIncome,45,edgecolor='black', linewidth=0.5);\n",
    "plt.figure(figsize = (10,6))\n",
    "plt.hist(loans.StatedMonthlyIncome,3000,edgecolor='black');\n",
    "plt.xlim(0,40000);"
   ]
  },
  {
   "cell_type": "code",
   "execution_count": 32,
   "id": "67729330",
   "metadata": {
    "execution": {
     "iopub.execute_input": "2022-07-26T11:31:22.869312Z",
     "iopub.status.busy": "2022-07-26T11:31:22.868551Z",
     "iopub.status.idle": "2022-07-26T11:31:22.884888Z",
     "shell.execute_reply": "2022-07-26T11:31:22.883779Z"
    },
    "papermill": {
     "duration": 0.07162,
     "end_time": "2022-07-26T11:31:22.887459",
     "exception": false,
     "start_time": "2022-07-26T11:31:22.815839",
     "status": "completed"
    },
    "tags": []
   },
   "outputs": [
    {
     "data": {
      "text/plain": [
       "count    1.139370e+05\n",
       "mean     5.608026e+03\n",
       "std      7.478497e+03\n",
       "min      0.000000e+00\n",
       "25%      3.200333e+03\n",
       "50%      4.666667e+03\n",
       "75%      6.825000e+03\n",
       "max      1.750003e+06\n",
       "Name: StatedMonthlyIncome, dtype: float64"
      ]
     },
     "execution_count": 32,
     "metadata": {},
     "output_type": "execute_result"
    }
   ],
   "source": [
    "loans.StatedMonthlyIncome.describe()"
   ]
  },
  {
   "cell_type": "markdown",
   "id": "cc2b217b",
   "metadata": {
    "papermill": {
     "duration": 0.051129,
     "end_time": "2022-07-26T11:31:22.989960",
     "exception": false,
     "start_time": "2022-07-26T11:31:22.938831",
     "status": "completed"
    },
    "tags": []
   },
   "source": [
    "Max monthly income is 1750003 and minimum is 0. From the graph it can observed that a majority of the users lie between the 2500 and 7500 range, which makes complete sense because people with very high monthly income don't need to take loan and the ones with towards 0 are less likely to take loan because they may get into debt."
   ]
  },
  {
   "cell_type": "markdown",
   "id": "f862c255",
   "metadata": {
    "papermill": {
     "duration": 0.0507,
     "end_time": "2022-07-26T11:31:23.091834",
     "exception": false,
     "start_time": "2022-07-26T11:31:23.041134",
     "status": "completed"
    },
    "tags": []
   },
   "source": [
    "## **3. BorrowerAPR, BorrowerRate, LenderYield**\n",
    "**BorrowerAPR** - The Borrower's Annual Percentage Rate (APR) for the loan.\n",
    "\n",
    "**BorrowerRate** - The Borrower's interest rate for this loan.\n",
    "\n",
    "**LenderYield** - The Lender yield on the loan. Lender yield is equal to the interest rate on the loan less the servicing fee."
   ]
  },
  {
   "cell_type": "code",
   "execution_count": 33,
   "id": "2ee6fa45",
   "metadata": {
    "execution": {
     "iopub.execute_input": "2022-07-26T11:31:23.196804Z",
     "iopub.status.busy": "2022-07-26T11:31:23.196003Z",
     "iopub.status.idle": "2022-07-26T11:31:23.206458Z",
     "shell.execute_reply": "2022-07-26T11:31:23.205500Z"
    },
    "papermill": {
     "duration": 0.066063,
     "end_time": "2022-07-26T11:31:23.209004",
     "exception": false,
     "start_time": "2022-07-26T11:31:23.142941",
     "status": "completed"
    },
    "tags": []
   },
   "outputs": [],
   "source": [
    "loans['BorrowerAPR'].replace(np.nan, loans.BorrowerAPR.mean(),inplace=True)\n",
    "loans['BorrowerRate'].replace(np.nan, loans.BorrowerRate.mean(),inplace=True)\n",
    "loans['LenderYield'].replace(np.nan, loans.LenderYield.mean(),inplace=True)"
   ]
  },
  {
   "cell_type": "markdown",
   "id": "78c577a5",
   "metadata": {
    "papermill": {
     "duration": 0.051115,
     "end_time": "2022-07-26T11:31:23.311558",
     "exception": false,
     "start_time": "2022-07-26T11:31:23.260443",
     "status": "completed"
    },
    "tags": []
   },
   "source": [
    "Replaced the NaN values for the variables if present."
   ]
  },
  {
   "cell_type": "code",
   "execution_count": 34,
   "id": "b76e4bb1",
   "metadata": {
    "execution": {
     "iopub.execute_input": "2022-07-26T11:31:23.417699Z",
     "iopub.status.busy": "2022-07-26T11:31:23.416934Z",
     "iopub.status.idle": "2022-07-26T11:31:24.282896Z",
     "shell.execute_reply": "2022-07-26T11:31:24.281574Z"
    },
    "papermill": {
     "duration": 0.922458,
     "end_time": "2022-07-26T11:31:24.285820",
     "exception": false,
     "start_time": "2022-07-26T11:31:23.363362",
     "status": "completed"
    },
    "tags": []
   },
   "outputs": [
    {
     "data": {
      "image/png": "[encoded data removed]",
      "text/plain": [
       "<Figure size 720x576 with 3 Axes>"
      ]
     },
     "metadata": {
      "needs_background": "light"
     },
     "output_type": "display_data"
    }
   ],
   "source": [
    "fig, ax = plt.subplots(3,1 ,figsize=(10,8),sharey='row')\n",
    "#  plt.subplots(2,2,)\n",
    "fig.subplots_adjust(hspace= 0.5)\n",
    "\n",
    "ax[0].hist(loans.BorrowerAPR,30,edgecolor='black', linewidth=0.5)\n",
    "ax[0].set_title(\"Borrower APR\")\n",
    "\n",
    "\n",
    "ax[1].hist(loans.BorrowerRate,30,edgecolor='black', linewidth=0.5)\n",
    "ax[1].set_title(\"Borrower Rate\")\n",
    "\n",
    "ax[2].hist(loans.LenderYield,30,edgecolor='black', linewidth=0.5)\n",
    "ax[2].set_title(\"Lender Yield\")\n",
    "\n",
    "fig.show()"
   ]
  },
  {
   "cell_type": "markdown",
   "id": "7946385b",
   "metadata": {
    "papermill": {
     "duration": 0.051621,
     "end_time": "2022-07-26T11:31:24.389601",
     "exception": false,
     "start_time": "2022-07-26T11:31:24.337980",
     "status": "completed"
    },
    "tags": []
   },
   "source": [
    "The bulk of the loans seem to be 0.08 to 0.25 , which coincides with the credit rating histograms that show that the majority of the users are in the middle of the risk ratings. The lender yield and BorrowerRate plots are similar to borrower APR because they all represent interest rates.\n",
    "The peak count is slightly lower than the one in the borrower APR plot, and I think it is because of the losses that are made when borrowers is penalized for default or charged off loans."
   ]
  },
  {
   "cell_type": "markdown",
   "id": "8ed6d74b",
   "metadata": {
    "papermill": {
     "duration": 0.051847,
     "end_time": "2022-07-26T11:31:24.493149",
     "exception": false,
     "start_time": "2022-07-26T11:31:24.441302",
     "status": "completed"
    },
    "tags": []
   },
   "source": [
    "## **4. Loan Original Amount**"
   ]
  },
  {
   "cell_type": "code",
   "execution_count": 35,
   "id": "1b202124",
   "metadata": {
    "execution": {
     "iopub.execute_input": "2022-07-26T11:31:24.599970Z",
     "iopub.status.busy": "2022-07-26T11:31:24.599196Z",
     "iopub.status.idle": "2022-07-26T11:31:24.921215Z",
     "shell.execute_reply": "2022-07-26T11:31:24.919886Z"
    },
    "papermill": {
     "duration": 0.37818,
     "end_time": "2022-07-26T11:31:24.923824",
     "exception": false,
     "start_time": "2022-07-26T11:31:24.545644",
     "status": "completed"
    },
    "tags": []
   },
   "outputs": [
    {
     "data": {
      "text/plain": [
       "Text(0.5, 1.0, 'Loan OriginalAmount')"
      ]
     },
     "execution_count": 35,
     "metadata": {},
     "output_type": "execute_result"
    },
    {
     "data": {
      "image/png": "[encoded data removed]",
      "text/plain": [
       "<Figure size 504x360 with 1 Axes>"
      ]
     },
     "metadata": {
      "needs_background": "light"
     },
     "output_type": "display_data"
    }
   ],
   "source": [
    "plt.figure(figsize = (7,5))\n",
    "plt.hist(loans.LoanOriginalAmount,35,edgecolor='black');\n",
    "plt.title(\"Loan OriginalAmount\")"
   ]
  },
  {
   "cell_type": "markdown",
   "id": "2e8272a1",
   "metadata": {
    "papermill": {
     "duration": 0.052433,
     "end_time": "2022-07-26T11:31:25.029005",
     "exception": false,
     "start_time": "2022-07-26T11:31:24.976572",
     "status": "completed"
    },
    "tags": []
   },
   "source": [
    "Most of the loan amount are in the range of 0 - 10000 . One thing that should be noted is that values at multiple of 5000 are more than the other number which is obvious as people have a tendency to go for numbers that are easy to remember ."
   ]
  },
  {
   "cell_type": "markdown",
   "id": "dad22c9f",
   "metadata": {
    "papermill": {
     "duration": 0.051739,
     "end_time": "2022-07-26T11:31:25.132581",
     "exception": false,
     "start_time": "2022-07-26T11:31:25.080842",
     "status": "completed"
    },
    "tags": []
   },
   "source": [
    "## **5. Listing Creation Date**\n"
   ]
  },
  {
   "cell_type": "code",
   "execution_count": 36,
   "id": "ddda039d",
   "metadata": {
    "execution": {
     "iopub.execute_input": "2022-07-26T11:31:25.238406Z",
     "iopub.status.busy": "2022-07-26T11:31:25.237994Z",
     "iopub.status.idle": "2022-07-26T11:31:25.331793Z",
     "shell.execute_reply": "2022-07-26T11:31:25.330563Z"
    },
    "papermill": {
     "duration": 0.15032,
     "end_time": "2022-07-26T11:31:25.334728",
     "exception": false,
     "start_time": "2022-07-26T11:31:25.184408",
     "status": "completed"
    },
    "tags": []
   },
   "outputs": [],
   "source": [
    "loans['ListingCreationDate'] = pd.to_datetime(loans['ListingCreationDate'])\n",
    "loans['year'] = loans['ListingCreationDate'].dt.year"
   ]
  },
  {
   "cell_type": "code",
   "execution_count": 37,
   "id": "193ee63d",
   "metadata": {
    "execution": {
     "iopub.execute_input": "2022-07-26T11:31:25.441295Z",
     "iopub.status.busy": "2022-07-26T11:31:25.440182Z",
     "iopub.status.idle": "2022-07-26T11:31:25.450738Z",
     "shell.execute_reply": "2022-07-26T11:31:25.449646Z"
    },
    "papermill": {
     "duration": 0.066085,
     "end_time": "2022-07-26T11:31:25.453163",
     "exception": false,
     "start_time": "2022-07-26T11:31:25.387078",
     "status": "completed"
    },
    "tags": []
   },
   "outputs": [
    {
     "data": {
      "text/plain": [
       "2013    35413\n",
       "2012    19556\n",
       "2007    11557\n",
       "2011    11442\n",
       "2008    11263\n",
       "2014    10734\n",
       "2006     6213\n",
       "2010     5530\n",
       "2009     2206\n",
       "2005       23\n",
       "Name: year, dtype: int64"
      ]
     },
     "execution_count": 37,
     "metadata": {},
     "output_type": "execute_result"
    }
   ],
   "source": [
    "loans.year.value_counts()"
   ]
  },
  {
   "cell_type": "code",
   "execution_count": 38,
   "id": "7f50eb07",
   "metadata": {
    "execution": {
     "iopub.execute_input": "2022-07-26T11:31:25.561066Z",
     "iopub.status.busy": "2022-07-26T11:31:25.560307Z",
     "iopub.status.idle": "2022-07-26T11:31:25.838160Z",
     "shell.execute_reply": "2022-07-26T11:31:25.837041Z"
    },
    "papermill": {
     "duration": 0.334406,
     "end_time": "2022-07-26T11:31:25.840362",
     "exception": false,
     "start_time": "2022-07-26T11:31:25.505956",
     "status": "completed"
    },
    "tags": []
   },
   "outputs": [
    {
     "data": {
      "image/png": "[encoded data removed]",
      "text/plain": [
       "<Figure size 720x432 with 1 Axes>"
      ]
     },
     "metadata": {
      "needs_background": "light"
     },
     "output_type": "display_data"
    }
   ],
   "source": [
    "plt.figure(figsize = (10,6))\n",
    "sns.countplot(loans.year, color = sns.color_palette()[0] )\n",
    "plt.title(\"Loan creation year count\");"
   ]
  },
  {
   "cell_type": "markdown",
   "id": "cd3a24b8",
   "metadata": {
    "papermill": {
     "duration": 0.05271,
     "end_time": "2022-07-26T11:31:25.945836",
     "exception": false,
     "start_time": "2022-07-26T11:31:25.893126",
     "status": "completed"
    },
    "tags": []
   },
   "source": [
    "Loan creation dropped to a significant level in 2009 , this may be due to the crisis at that time ."
   ]
  },
  {
   "cell_type": "markdown",
   "id": "872715c5",
   "metadata": {
    "papermill": {
     "duration": 0.052546,
     "end_time": "2022-07-26T11:31:26.051191",
     "exception": false,
     "start_time": "2022-07-26T11:31:25.998645",
     "status": "completed"
    },
    "tags": []
   },
   "source": [
    "## Of the features you investigated, were there any unusual distributions? Did you perform any operations on the data to tidy, adjust, or change the form of the data? If so, why did you do this?\n",
    "\n",
    "* The CreditScore when plotted had outlier at zero and some beyond 900 , so I set limits on x-axis( which is xlim(400, 900)) to get the correct plot.\n",
    "\n",
    "* The StatedMonthlyIncome when plotted had outlier beyond 40000 and so i had to set limits on x-axis( which is plt.xlim(0,40000) ) to get the correct plot.\n",
    "\n",
    "* Also to plot histograms of numerical variables , I had to remove NaN values from the columns BorrowerAPR, BorrowerRate, LenderYield and CreditScore, and so I replaced NaN with their respective mean ."
   ]
  },
  {
   "cell_type": "markdown",
   "id": "3fdd038e",
   "metadata": {
    "papermill": {
     "duration": 0.051906,
     "end_time": "2022-07-26T11:31:26.155606",
     "exception": false,
     "start_time": "2022-07-26T11:31:26.103700",
     "status": "completed"
    },
    "tags": []
   },
   "source": [
    "# **Bivariate Exploration**\n",
    "\n",
    "In this section I would like to see variation of loan amount with different variables like Income Range , Prosper Rating and year. This would help me in identifying the relationship between class of the people and their role in contributing total loan sum in prosper.\n",
    "\n",
    "Also, I am keen to know about the delinquent borrowers and how their number is varying with year and the their reason of getting into debt.\n",
    "\n",
    "I'll be analysing some other relationships like BorrowerAPR and CreditScore with Prosper Rating as this would give me insight about borrower's behaviour as per their rating given on Prosper.com"
   ]
  },
  {
   "cell_type": "code",
   "execution_count": 39,
   "id": "54d23eaa",
   "metadata": {
    "execution": {
     "iopub.execute_input": "2022-07-26T11:31:26.264383Z",
     "iopub.status.busy": "2022-07-26T11:31:26.263668Z",
     "iopub.status.idle": "2022-07-26T11:31:26.328593Z",
     "shell.execute_reply": "2022-07-26T11:31:26.327095Z"
    },
    "papermill": {
     "duration": 0.123268,
     "end_time": "2022-07-26T11:31:26.331633",
     "exception": false,
     "start_time": "2022-07-26T11:31:26.208365",
     "status": "completed"
    },
    "tags": []
   },
   "outputs": [],
   "source": [
    "loann = loans[[ 'Term', 'LoanOriginalAmount','BorrowerAPR', 'BorrowerRate', 'LenderYield', 'LoanStatus' ,'ListingCategory', 'year' ,'IncomeRange', 'StatedMonthlyIncome', 'EmploymentStatus', 'BorrowerState','DebtToIncomeRatio' ,'Occupation', 'CreditGrade', 'ProsperRating (Alpha)', 'ProsperScore', 'CreditScore']]\n"
   ]
  },
  {
   "cell_type": "code",
   "execution_count": 40,
   "id": "79c98630",
   "metadata": {
    "execution": {
     "iopub.execute_input": "2022-07-26T11:31:26.439950Z",
     "iopub.status.busy": "2022-07-26T11:31:26.439528Z",
     "iopub.status.idle": "2022-07-26T11:31:26.447145Z",
     "shell.execute_reply": "2022-07-26T11:31:26.446150Z"
    },
    "papermill": {
     "duration": 0.064493,
     "end_time": "2022-07-26T11:31:26.449433",
     "exception": false,
     "start_time": "2022-07-26T11:31:26.384940",
     "status": "completed"
    },
    "tags": []
   },
   "outputs": [
    {
     "data": {
      "text/plain": [
       "(113937, 18)"
      ]
     },
     "execution_count": 40,
     "metadata": {},
     "output_type": "execute_result"
    }
   ],
   "source": [
    "loann.shape"
   ]
  },
  {
   "cell_type": "markdown",
   "id": "0d43211e",
   "metadata": {
    "papermill": {
     "duration": 0.052732,
     "end_time": "2022-07-26T11:31:26.554985",
     "exception": false,
     "start_time": "2022-07-26T11:31:26.502253",
     "status": "completed"
    },
    "tags": []
   },
   "source": [
    "## **1. Loan Amount variation with different Income Range**"
   ]
  },
  {
   "cell_type": "code",
   "execution_count": 41,
   "id": "95baa373",
   "metadata": {
    "execution": {
     "iopub.execute_input": "2022-07-26T11:31:26.663050Z",
     "iopub.status.busy": "2022-07-26T11:31:26.662288Z",
     "iopub.status.idle": "2022-07-26T11:31:26.881702Z",
     "shell.execute_reply": "2022-07-26T11:31:26.880399Z"
    },
    "papermill": {
     "duration": 0.276815,
     "end_time": "2022-07-26T11:31:26.884520",
     "exception": false,
     "start_time": "2022-07-26T11:31:26.607705",
     "status": "completed"
    },
    "tags": []
   },
   "outputs": [
    {
     "data": {
      "image/png": "[encoded data removed]",
      "text/plain": [
       "<Figure size 432x288 with 1 Axes>"
      ]
     },
     "metadata": {
      "needs_background": "light"
     },
     "output_type": "display_data"
    }
   ],
   "source": [
    "loann.groupby('IncomeRange').LoanOriginalAmount.size().plot(kind='barh',color = sns.color_palette()[0]);\n",
    "plt.xlabel(\"Loan count\");\n",
    "plt.ylabel(\"Income Range\");\n",
    "plt.title(\"Loan Original Amount count of each Income Range\");"
   ]
  },
  {
   "cell_type": "markdown",
   "id": "863b64dd",
   "metadata": {
    "papermill": {
     "duration": 0.053635,
     "end_time": "2022-07-26T11:31:26.991798",
     "exception": false,
     "start_time": "2022-07-26T11:31:26.938163",
     "status": "completed"
    },
    "tags": []
   },
   "source": [
    "People of middle income range 25,000 to 100,000 takes loan in more number while the ones who realy needs it , the people in range 0 and 1-24,999 are in less number. Lets look at one more plot related to sum of loan amount of each range ."
   ]
  },
  {
   "cell_type": "code",
   "execution_count": 42,
   "id": "e2cc6eff",
   "metadata": {
    "execution": {
     "iopub.execute_input": "2022-07-26T11:31:27.100369Z",
     "iopub.status.busy": "2022-07-26T11:31:27.099820Z",
     "iopub.status.idle": "2022-07-26T11:31:27.351247Z",
     "shell.execute_reply": "2022-07-26T11:31:27.349817Z"
    },
    "papermill": {
     "duration": 0.308764,
     "end_time": "2022-07-26T11:31:27.353956",
     "exception": false,
     "start_time": "2022-07-26T11:31:27.045192",
     "status": "completed"
    },
    "tags": []
   },
   "outputs": [
    {
     "data": {
      "image/png": "[encoded data removed]",
      "text/plain": [
       "<Figure size 432x288 with 1 Axes>"
      ]
     },
     "metadata": {
      "needs_background": "light"
     },
     "output_type": "display_data"
    }
   ],
   "source": [
    "loann.groupby('IncomeRange').LoanOriginalAmount.sum().plot(kind='barh',color = sns.color_palette()[0]);\n",
    "plt.xlabel(\"Loan Original Amount sum\");\n",
    "plt.ylabel(\"Income Range\");\n",
    "plt.title(\"Loan Original Amount sum of each Income Range\");"
   ]
  },
  {
   "cell_type": "markdown",
   "id": "d5a2c9ba",
   "metadata": {
    "papermill": {
     "duration": 0.052837,
     "end_time": "2022-07-26T11:31:27.460372",
     "exception": false,
     "start_time": "2022-07-26T11:31:27.407535",
     "status": "completed"
    },
    "tags": []
   },
   "source": [
    "This graph also show that the people in range of 0 - 25000 are not taking loans or maybe are unable to get it . This may be due to basic salary requirements of the organization to grant a loan, which the low income range don’t meet easily and hence might be unable to get a loan."
   ]
  },
  {
   "cell_type": "markdown",
   "id": "7278dc5d",
   "metadata": {
    "papermill": {
     "duration": 0.053244,
     "end_time": "2022-07-26T11:31:27.566863",
     "exception": false,
     "start_time": "2022-07-26T11:31:27.513619",
     "status": "completed"
    },
    "tags": []
   },
   "source": [
    "## **2. Loan Original Amount variation with Prosper Rating**"
   ]
  },
  {
   "cell_type": "code",
   "execution_count": 43,
   "id": "adaeb4f4",
   "metadata": {
    "execution": {
     "iopub.execute_input": "2022-07-26T11:31:27.675192Z",
     "iopub.status.busy": "2022-07-26T11:31:27.674758Z",
     "iopub.status.idle": "2022-07-26T11:31:28.063689Z",
     "shell.execute_reply": "2022-07-26T11:31:28.062402Z"
    },
    "papermill": {
     "duration": 0.446051,
     "end_time": "2022-07-26T11:31:28.066227",
     "exception": false,
     "start_time": "2022-07-26T11:31:27.620176",
     "status": "completed"
    },
    "tags": []
   },
   "outputs": [
    {
     "data": {
      "image/png": "[encoded data removed]",
      "text/plain": [
       "<Figure size 720x432 with 1 Axes>"
      ]
     },
     "metadata": {
      "needs_background": "light"
     },
     "output_type": "display_data"
    }
   ],
   "source": [
    "base_color = sns.color_palette()[0]\n",
    "plt.figure(figsize=(10,6))\n",
    "sns.boxplot(data = loann, x = 'ProsperRating (Alpha)', y = 'LoanOriginalAmount', color = base_color,order =[\"HR\", \"E\", \"D\", \"C\", \"B\",\"A\", \"AA\"]);\n",
    "plt.title(\"Loan Original Amount of each Prosper Rating Type\");"
   ]
  },
  {
   "cell_type": "markdown",
   "id": "bf1f70cf",
   "metadata": {
    "papermill": {
     "duration": 0.053785,
     "end_time": "2022-07-26T11:31:28.173719",
     "exception": false,
     "start_time": "2022-07-26T11:31:28.119934",
     "status": "completed"
    },
    "tags": []
   },
   "source": [
    "The groups of higher risk took lower loan amount and the groups C, B and A looks like have the same median loan amounts. The lowest risk group AA shows highest median loan amount.\n",
    "\n",
    "The result is as expected as people with lower risk have the tendency to take mnore amount and vice versa ."
   ]
  },
  {
   "cell_type": "markdown",
   "id": "21e007ec",
   "metadata": {
    "papermill": {
     "duration": 0.053675,
     "end_time": "2022-07-26T11:31:28.281141",
     "exception": false,
     "start_time": "2022-07-26T11:31:28.227466",
     "status": "completed"
    },
    "tags": []
   },
   "source": [
    "## **3. Borrower APR variation with Prosper Rating**"
   ]
  },
  {
   "cell_type": "code",
   "execution_count": 44,
   "id": "94c4e25e",
   "metadata": {
    "execution": {
     "iopub.execute_input": "2022-07-26T11:31:28.392243Z",
     "iopub.status.busy": "2022-07-26T11:31:28.391787Z",
     "iopub.status.idle": "2022-07-26T11:31:28.780683Z",
     "shell.execute_reply": "2022-07-26T11:31:28.779272Z"
    },
    "papermill": {
     "duration": 0.447815,
     "end_time": "2022-07-26T11:31:28.783299",
     "exception": false,
     "start_time": "2022-07-26T11:31:28.335484",
     "status": "completed"
    },
    "tags": []
   },
   "outputs": [
    {
     "data": {
      "image/png": "[encoded data removed]",
      "text/plain": [
       "<Figure size 720x432 with 1 Axes>"
      ]
     },
     "metadata": {
      "needs_background": "light"
     },
     "output_type": "display_data"
    }
   ],
   "source": [
    "plt.figure(figsize=(10,6))\n",
    "sns.boxplot(data = loann, x = 'ProsperRating (Alpha)', y = 'BorrowerAPR', color = base_color,order =[\"HR\", \"E\", \"D\", \"C\", \"B\",\"A\", \"AA\"]);\n",
    "plt.title(\"Borrower APR variation of each Prosper Rating Type\");"
   ]
  },
  {
   "cell_type": "markdown",
   "id": "5ac6c564",
   "metadata": {
    "papermill": {
     "duration": 0.054027,
     "end_time": "2022-07-26T11:31:28.891974",
     "exception": false,
     "start_time": "2022-07-26T11:31:28.837947",
     "status": "completed"
    },
    "tags": []
   },
   "source": [
    "BorrowerAPR is the Borrower's Annual Percentage Rate (APR) for the loan. As we get into low risk range the APR reduce drastically. Also number of outliers also decreases down the line."
   ]
  },
  {
   "cell_type": "markdown",
   "id": "467c73b0",
   "metadata": {
    "papermill": {
     "duration": 0.054532,
     "end_time": "2022-07-26T11:31:29.000665",
     "exception": false,
     "start_time": "2022-07-26T11:31:28.946133",
     "status": "completed"
    },
    "tags": []
   },
   "source": [
    "## **4. Credit Score variation with Prosper Rating**"
   ]
  },
  {
   "cell_type": "code",
   "execution_count": 45,
   "id": "e80e0f48",
   "metadata": {
    "execution": {
     "iopub.execute_input": "2022-07-26T11:31:29.112518Z",
     "iopub.status.busy": "2022-07-26T11:31:29.112055Z",
     "iopub.status.idle": "2022-07-26T11:31:29.474879Z",
     "shell.execute_reply": "2022-07-26T11:31:29.473558Z"
    },
    "papermill": {
     "duration": 0.421884,
     "end_time": "2022-07-26T11:31:29.477440",
     "exception": false,
     "start_time": "2022-07-26T11:31:29.055556",
     "status": "completed"
    },
    "tags": []
   },
   "outputs": [
    {
     "data": {
      "image/png": "[encoded data removed]",
      "text/plain": [
       "<Figure size 720x432 with 1 Axes>"
      ]
     },
     "metadata": {
      "needs_background": "light"
     },
     "output_type": "display_data"
    }
   ],
   "source": [
    "plt.figure(figsize=(10,6))\n",
    "sns.boxplot(data = loann, x = 'ProsperRating (Alpha)', y = 'CreditScore', color = base_color,order =[\"HR\", \"E\", \"D\", \"C\", \"B\",\"A\", \"AA\"]);\n"
   ]
  },
  {
   "cell_type": "markdown",
   "id": "36a9a03a",
   "metadata": {
    "papermill": {
     "duration": 0.056248,
     "end_time": "2022-07-26T11:31:29.589730",
     "exception": false,
     "start_time": "2022-07-26T11:31:29.533482",
     "status": "completed"
    },
    "tags": []
   },
   "source": [
    "The plot suggests that Prosper Rating has a direct relation with Credit Score . As the borrower move into lower risk range , his credit score also increases.\n",
    "\n",
    "One thing to be noted here is that Rating HR and D seem to be identical , in terms of IQR and median. Let's have a look at the statistics -"
   ]
  },
  {
   "cell_type": "code",
   "execution_count": 46,
   "id": "60e5f2f6",
   "metadata": {
    "execution": {
     "iopub.execute_input": "2022-07-26T11:31:29.703001Z",
     "iopub.status.busy": "2022-07-26T11:31:29.702262Z",
     "iopub.status.idle": "2022-07-26T11:31:29.765540Z",
     "shell.execute_reply": "2022-07-26T11:31:29.764216Z"
    },
    "papermill": {
     "duration": 0.122878,
     "end_time": "2022-07-26T11:31:29.768277",
     "exception": false,
     "start_time": "2022-07-26T11:31:29.645399",
     "status": "completed"
    },
    "tags": []
   },
   "outputs": [
    {
     "data": {
      "text/html": [
       "<div>\n",
       "<style scoped>\n",
       "    .dataframe tbody tr th:only-of-type {\n",
       "        vertical-align: middle;\n",
       "    }\n",
       "\n",
       "    .dataframe tbody tr th {\n",
       "        vertical-align: top;\n",
       "    }\n",
       "\n",
       "    .dataframe thead th {\n",
       "        text-align: right;\n",
       "    }\n",
       "</style>\n",
       "<table border=\"1\" class=\"dataframe\">\n",
       "  <thead>\n",
       "    <tr style=\"text-align: right;\">\n",
       "      <th></th>\n",
       "      <th>count</th>\n",
       "      <th>mean</th>\n",
       "      <th>std</th>\n",
       "      <th>min</th>\n",
       "      <th>25%</th>\n",
       "      <th>50%</th>\n",
       "      <th>75%</th>\n",
       "      <th>max</th>\n",
       "    </tr>\n",
       "    <tr>\n",
       "      <th>ProsperRating (Alpha)</th>\n",
       "      <th></th>\n",
       "      <th></th>\n",
       "      <th></th>\n",
       "      <th></th>\n",
       "      <th></th>\n",
       "      <th></th>\n",
       "      <th></th>\n",
       "      <th></th>\n",
       "    </tr>\n",
       "  </thead>\n",
       "  <tbody>\n",
       "    <tr>\n",
       "      <th>A</th>\n",
       "      <td>14551.0</td>\n",
       "      <td>739.442959</td>\n",
       "      <td>40.868789</td>\n",
       "      <td>649.5</td>\n",
       "      <td>709.5</td>\n",
       "      <td>729.5</td>\n",
       "      <td>769.5</td>\n",
       "      <td>889.5</td>\n",
       "    </tr>\n",
       "    <tr>\n",
       "      <th>AA</th>\n",
       "      <td>5372.0</td>\n",
       "      <td>783.550633</td>\n",
       "      <td>38.827198</td>\n",
       "      <td>689.5</td>\n",
       "      <td>749.5</td>\n",
       "      <td>789.5</td>\n",
       "      <td>809.5</td>\n",
       "      <td>889.5</td>\n",
       "    </tr>\n",
       "    <tr>\n",
       "      <th>B</th>\n",
       "      <td>15581.0</td>\n",
       "      <td>716.400712</td>\n",
       "      <td>37.212600</td>\n",
       "      <td>609.5</td>\n",
       "      <td>689.5</td>\n",
       "      <td>709.5</td>\n",
       "      <td>749.5</td>\n",
       "      <td>869.5</td>\n",
       "    </tr>\n",
       "    <tr>\n",
       "      <th>C</th>\n",
       "      <td>18345.0</td>\n",
       "      <td>699.429681</td>\n",
       "      <td>35.217232</td>\n",
       "      <td>609.5</td>\n",
       "      <td>669.5</td>\n",
       "      <td>689.5</td>\n",
       "      <td>729.5</td>\n",
       "      <td>889.5</td>\n",
       "    </tr>\n",
       "    <tr>\n",
       "      <th>D</th>\n",
       "      <td>14274.0</td>\n",
       "      <td>689.773224</td>\n",
       "      <td>38.991108</td>\n",
       "      <td>609.5</td>\n",
       "      <td>669.5</td>\n",
       "      <td>689.5</td>\n",
       "      <td>709.5</td>\n",
       "      <td>869.5</td>\n",
       "    </tr>\n",
       "    <tr>\n",
       "      <th>E</th>\n",
       "      <td>9795.0</td>\n",
       "      <td>672.042113</td>\n",
       "      <td>35.535378</td>\n",
       "      <td>609.5</td>\n",
       "      <td>649.5</td>\n",
       "      <td>669.5</td>\n",
       "      <td>689.5</td>\n",
       "      <td>869.5</td>\n",
       "    </tr>\n",
       "    <tr>\n",
       "      <th>HR</th>\n",
       "      <td>6935.0</td>\n",
       "      <td>686.494953</td>\n",
       "      <td>36.758975</td>\n",
       "      <td>609.5</td>\n",
       "      <td>669.5</td>\n",
       "      <td>689.5</td>\n",
       "      <td>709.5</td>\n",
       "      <td>869.5</td>\n",
       "    </tr>\n",
       "  </tbody>\n",
       "</table>\n",
       "</div>"
      ],
      "text/plain": [
       "                         count        mean        std    min    25%    50%  \\\n",
       "ProsperRating (Alpha)                                                        \n",
       "A                      14551.0  739.442959  40.868789  649.5  709.5  729.5   \n",
       "AA                      5372.0  783.550633  38.827198  689.5  749.5  789.5   \n",
       "B                      15581.0  716.400712  37.212600  609.5  689.5  709.5   \n",
       "C                      18345.0  699.429681  35.217232  609.5  669.5  689.5   \n",
       "D                      14274.0  689.773224  38.991108  609.5  669.5  689.5   \n",
       "E                       9795.0  672.042113  35.535378  609.5  649.5  669.5   \n",
       "HR                      6935.0  686.494953  36.758975  609.5  669.5  689.5   \n",
       "\n",
       "                         75%    max  \n",
       "ProsperRating (Alpha)                \n",
       "A                      769.5  889.5  \n",
       "AA                     809.5  889.5  \n",
       "B                      749.5  869.5  \n",
       "C                      729.5  889.5  \n",
       "D                      709.5  869.5  \n",
       "E                      689.5  869.5  \n",
       "HR                     709.5  869.5  "
      ]
     },
     "execution_count": 46,
     "metadata": {},
     "output_type": "execute_result"
    }
   ],
   "source": [
    "loann.groupby('ProsperRating (Alpha)').CreditScore.describe()"
   ]
  },
  {
   "cell_type": "markdown",
   "id": "c5ec3bca",
   "metadata": {
    "papermill": {
     "duration": 0.055009,
     "end_time": "2022-07-26T11:31:29.879080",
     "exception": false,
     "start_time": "2022-07-26T11:31:29.824071",
     "status": "completed"
    },
    "tags": []
   },
   "source": [
    "Median, min, max, 25% and 75% of D and HR are same , mean vary by a slight difference for both."
   ]
  },
  {
   "cell_type": "markdown",
   "id": "e90ad156",
   "metadata": {
    "papermill": {
     "duration": 0.055355,
     "end_time": "2022-07-26T11:31:29.989607",
     "exception": false,
     "start_time": "2022-07-26T11:31:29.934252",
     "status": "completed"
    },
    "tags": []
   },
   "source": [
    "## **5. Loan Amount variation with Year**"
   ]
  },
  {
   "cell_type": "code",
   "execution_count": 47,
   "id": "19708a6f",
   "metadata": {
    "execution": {
     "iopub.execute_input": "2022-07-26T11:31:30.103458Z",
     "iopub.status.busy": "2022-07-26T11:31:30.102987Z",
     "iopub.status.idle": "2022-07-26T11:31:30.374553Z",
     "shell.execute_reply": "2022-07-26T11:31:30.373105Z"
    },
    "papermill": {
     "duration": 0.332214,
     "end_time": "2022-07-26T11:31:30.377626",
     "exception": false,
     "start_time": "2022-07-26T11:31:30.045412",
     "status": "completed"
    },
    "tags": []
   },
   "outputs": [
    {
     "data": {
      "image/png": "[encoded data removed]",
      "text/plain": [
       "<Figure size 720x432 with 1 Axes>"
      ]
     },
     "metadata": {
      "needs_background": "light"
     },
     "output_type": "display_data"
    }
   ],
   "source": [
    "plt.figure(figsize=(10,6))\n",
    "sns.barplot(data = loann, x = 'year', y = 'LoanOriginalAmount', color = base_color,ci = None);"
   ]
  },
  {
   "cell_type": "markdown",
   "id": "18bcb119",
   "metadata": {
    "papermill": {
     "duration": 0.055984,
     "end_time": "2022-07-26T11:31:30.489618",
     "exception": false,
     "start_time": "2022-07-26T11:31:30.433634",
     "status": "completed"
    },
    "tags": []
   },
   "source": [
    "There was decrease in year 2008 and after it loan amount increased."
   ]
  },
  {
   "cell_type": "code",
   "execution_count": 48,
   "id": "e175c01b",
   "metadata": {
    "execution": {
     "iopub.execute_input": "2022-07-26T11:31:30.606018Z",
     "iopub.status.busy": "2022-07-26T11:31:30.605006Z",
     "iopub.status.idle": "2022-07-26T11:31:31.319985Z",
     "shell.execute_reply": "2022-07-26T11:31:31.318539Z"
    },
    "papermill": {
     "duration": 0.776503,
     "end_time": "2022-07-26T11:31:31.322796",
     "exception": false,
     "start_time": "2022-07-26T11:31:30.546293",
     "status": "completed"
    },
    "tags": []
   },
   "outputs": [
    {
     "data": {
      "image/png": "[encoded data removed]",
      "text/plain": [
       "<Figure size 720x432 with 1 Axes>"
      ]
     },
     "metadata": {
      "needs_background": "light"
     },
     "output_type": "display_data"
    }
   ],
   "source": [
    "plt.figure(figsize=(10,6))\n",
    "sns.violinplot(data = loann, x = 'year', y = 'LoanOriginalAmount', color = base_color,inner='quartile');"
   ]
  },
  {
   "cell_type": "code",
   "execution_count": 49,
   "id": "271fd8a5",
   "metadata": {
    "execution": {
     "iopub.execute_input": "2022-07-26T11:31:31.438605Z",
     "iopub.status.busy": "2022-07-26T11:31:31.438195Z",
     "iopub.status.idle": "2022-07-26T11:31:31.495779Z",
     "shell.execute_reply": "2022-07-26T11:31:31.494532Z"
    },
    "papermill": {
     "duration": 0.118571,
     "end_time": "2022-07-26T11:31:31.498563",
     "exception": false,
     "start_time": "2022-07-26T11:31:31.379992",
     "status": "completed"
    },
    "tags": []
   },
   "outputs": [
    {
     "data": {
      "text/html": [
       "<div>\n",
       "<style scoped>\n",
       "    .dataframe tbody tr th:only-of-type {\n",
       "        vertical-align: middle;\n",
       "    }\n",
       "\n",
       "    .dataframe tbody tr th {\n",
       "        vertical-align: top;\n",
       "    }\n",
       "\n",
       "    .dataframe thead th {\n",
       "        text-align: right;\n",
       "    }\n",
       "</style>\n",
       "<table border=\"1\" class=\"dataframe\">\n",
       "  <thead>\n",
       "    <tr style=\"text-align: right;\">\n",
       "      <th></th>\n",
       "      <th>count</th>\n",
       "      <th>mean</th>\n",
       "      <th>std</th>\n",
       "      <th>min</th>\n",
       "      <th>25%</th>\n",
       "      <th>50%</th>\n",
       "      <th>75%</th>\n",
       "      <th>max</th>\n",
       "    </tr>\n",
       "    <tr>\n",
       "      <th>year</th>\n",
       "      <th></th>\n",
       "      <th></th>\n",
       "      <th></th>\n",
       "      <th></th>\n",
       "      <th></th>\n",
       "      <th></th>\n",
       "      <th></th>\n",
       "      <th></th>\n",
       "    </tr>\n",
       "  </thead>\n",
       "  <tbody>\n",
       "    <tr>\n",
       "      <th>2005</th>\n",
       "      <td>23.0</td>\n",
       "      <td>3855.956522</td>\n",
       "      <td>3390.504849</td>\n",
       "      <td>1000.0</td>\n",
       "      <td>1500.0</td>\n",
       "      <td>3000.0</td>\n",
       "      <td>4500.00</td>\n",
       "      <td>15000.0</td>\n",
       "    </tr>\n",
       "    <tr>\n",
       "      <th>2006</th>\n",
       "      <td>6213.0</td>\n",
       "      <td>4844.807500</td>\n",
       "      <td>4529.587752</td>\n",
       "      <td>1000.0</td>\n",
       "      <td>2000.0</td>\n",
       "      <td>3001.0</td>\n",
       "      <td>6000.00</td>\n",
       "      <td>25000.0</td>\n",
       "    </tr>\n",
       "    <tr>\n",
       "      <th>2007</th>\n",
       "      <td>11557.0</td>\n",
       "      <td>7066.793112</td>\n",
       "      <td>6115.814149</td>\n",
       "      <td>1000.0</td>\n",
       "      <td>3000.0</td>\n",
       "      <td>5000.0</td>\n",
       "      <td>9500.00</td>\n",
       "      <td>25000.0</td>\n",
       "    </tr>\n",
       "    <tr>\n",
       "      <th>2008</th>\n",
       "      <td>11263.0</td>\n",
       "      <td>5964.698393</td>\n",
       "      <td>5359.843274</td>\n",
       "      <td>1000.0</td>\n",
       "      <td>2100.0</td>\n",
       "      <td>4500.0</td>\n",
       "      <td>7500.00</td>\n",
       "      <td>25000.0</td>\n",
       "    </tr>\n",
       "    <tr>\n",
       "      <th>2009</th>\n",
       "      <td>2206.0</td>\n",
       "      <td>4393.478241</td>\n",
       "      <td>4061.447178</td>\n",
       "      <td>1000.0</td>\n",
       "      <td>1500.0</td>\n",
       "      <td>3000.0</td>\n",
       "      <td>5500.00</td>\n",
       "      <td>25000.0</td>\n",
       "    </tr>\n",
       "    <tr>\n",
       "      <th>2010</th>\n",
       "      <td>5530.0</td>\n",
       "      <td>4841.877396</td>\n",
       "      <td>3747.511699</td>\n",
       "      <td>1000.0</td>\n",
       "      <td>2000.0</td>\n",
       "      <td>4000.0</td>\n",
       "      <td>6300.00</td>\n",
       "      <td>25000.0</td>\n",
       "    </tr>\n",
       "    <tr>\n",
       "      <th>2011</th>\n",
       "      <td>11442.0</td>\n",
       "      <td>6704.403339</td>\n",
       "      <td>4298.327337</td>\n",
       "      <td>2000.0</td>\n",
       "      <td>3907.0</td>\n",
       "      <td>5500.0</td>\n",
       "      <td>8500.00</td>\n",
       "      <td>25000.0</td>\n",
       "    </tr>\n",
       "    <tr>\n",
       "      <th>2012</th>\n",
       "      <td>19556.0</td>\n",
       "      <td>7876.517130</td>\n",
       "      <td>5546.632279</td>\n",
       "      <td>2000.0</td>\n",
       "      <td>4000.0</td>\n",
       "      <td>5000.0</td>\n",
       "      <td>11511.25</td>\n",
       "      <td>25000.0</td>\n",
       "    </tr>\n",
       "    <tr>\n",
       "      <th>2013</th>\n",
       "      <td>35413.0</td>\n",
       "      <td>10610.240110</td>\n",
       "      <td>6582.891684</td>\n",
       "      <td>2000.0</td>\n",
       "      <td>4000.0</td>\n",
       "      <td>10000.0</td>\n",
       "      <td>15000.00</td>\n",
       "      <td>35000.0</td>\n",
       "    </tr>\n",
       "    <tr>\n",
       "      <th>2014</th>\n",
       "      <td>10734.0</td>\n",
       "      <td>11915.461617</td>\n",
       "      <td>6717.891094</td>\n",
       "      <td>2000.0</td>\n",
       "      <td>6500.0</td>\n",
       "      <td>10000.0</td>\n",
       "      <td>15000.00</td>\n",
       "      <td>35000.0</td>\n",
       "    </tr>\n",
       "  </tbody>\n",
       "</table>\n",
       "</div>"
      ],
      "text/plain": [
       "        count          mean          std     min     25%      50%       75%  \\\n",
       "year                                                                          \n",
       "2005     23.0   3855.956522  3390.504849  1000.0  1500.0   3000.0   4500.00   \n",
       "2006   6213.0   4844.807500  4529.587752  1000.0  2000.0   3001.0   6000.00   \n",
       "2007  11557.0   7066.793112  6115.814149  1000.0  3000.0   5000.0   9500.00   \n",
       "2008  11263.0   5964.698393  5359.843274  1000.0  2100.0   4500.0   7500.00   \n",
       "2009   2206.0   4393.478241  4061.447178  1000.0  1500.0   3000.0   5500.00   \n",
       "2010   5530.0   4841.877396  3747.511699  1000.0  2000.0   4000.0   6300.00   \n",
       "2011  11442.0   6704.403339  4298.327337  2000.0  3907.0   5500.0   8500.00   \n",
       "2012  19556.0   7876.517130  5546.632279  2000.0  4000.0   5000.0  11511.25   \n",
       "2013  35413.0  10610.240110  6582.891684  2000.0  4000.0  10000.0  15000.00   \n",
       "2014  10734.0  11915.461617  6717.891094  2000.0  6500.0  10000.0  15000.00   \n",
       "\n",
       "          max  \n",
       "year           \n",
       "2005  15000.0  \n",
       "2006  25000.0  \n",
       "2007  25000.0  \n",
       "2008  25000.0  \n",
       "2009  25000.0  \n",
       "2010  25000.0  \n",
       "2011  25000.0  \n",
       "2012  25000.0  \n",
       "2013  35000.0  \n",
       "2014  35000.0  "
      ]
     },
     "execution_count": 49,
     "metadata": {},
     "output_type": "execute_result"
    }
   ],
   "source": [
    "loann.groupby('year').LoanOriginalAmount.describe()"
   ]
  },
  {
   "cell_type": "markdown",
   "id": "8b4d9afd",
   "metadata": {
    "papermill": {
     "duration": 0.057461,
     "end_time": "2022-07-26T11:31:31.613507",
     "exception": false,
     "start_time": "2022-07-26T11:31:31.556046",
     "status": "completed"
    },
    "tags": []
   },
   "source": [
    "One thing to be noted in the violin plot is that till 2012 , the plot of each year is of max width between 0 to 5000, which suggests that most of the loan amount belong to this range and by lookig at quartile lines inside the plot and the actual values , this is confirmed."
   ]
  },
  {
   "cell_type": "markdown",
   "id": "6379574d",
   "metadata": {
    "papermill": {
     "duration": 0.056663,
     "end_time": "2022-07-26T11:31:31.727651",
     "exception": false,
     "start_time": "2022-07-26T11:31:31.670988",
     "status": "completed"
    },
    "tags": []
   },
   "source": [
    "## **6. Delinquent Borrowers**"
   ]
  },
  {
   "cell_type": "code",
   "execution_count": 50,
   "id": "cb85dfb9",
   "metadata": {
    "execution": {
     "iopub.execute_input": "2022-07-26T11:31:31.847854Z",
     "iopub.status.busy": "2022-07-26T11:31:31.847333Z",
     "iopub.status.idle": "2022-07-26T11:31:31.872998Z",
     "shell.execute_reply": "2022-07-26T11:31:31.872025Z"
    },
    "papermill": {
     "duration": 0.090356,
     "end_time": "2022-07-26T11:31:31.875430",
     "exception": false,
     "start_time": "2022-07-26T11:31:31.785074",
     "status": "completed"
    },
    "tags": []
   },
   "outputs": [
    {
     "data": {
      "text/plain": [
       "Current                   56576\n",
       "Completed                 38074\n",
       "Chargedoff                11992\n",
       "Defaulted                  5018\n",
       "Past Due (1-15 days)        806\n",
       "Past Due (31-60 days)       363\n",
       "Past Due (61-90 days)       313\n",
       "Past Due (91-120 days)      304\n",
       "Past Due (16-30 days)       265\n",
       "FinalPaymentInProgress      205\n",
       "Past Due (>120 days)         16\n",
       "Cancelled                     5\n",
       "Name: LoanStatus, dtype: int64"
      ]
     },
     "execution_count": 50,
     "metadata": {},
     "output_type": "execute_result"
    }
   ],
   "source": [
    "loann.LoanStatus.value_counts()"
   ]
  },
  {
   "cell_type": "code",
   "execution_count": 51,
   "id": "07e6986a",
   "metadata": {
    "execution": {
     "iopub.execute_input": "2022-07-26T11:31:31.992166Z",
     "iopub.status.busy": "2022-07-26T11:31:31.991745Z",
     "iopub.status.idle": "2022-07-26T11:31:34.799894Z",
     "shell.execute_reply": "2022-07-26T11:31:34.798687Z"
    },
    "papermill": {
     "duration": 2.869971,
     "end_time": "2022-07-26T11:31:34.802824",
     "exception": false,
     "start_time": "2022-07-26T11:31:31.932853",
     "status": "completed"
    },
    "tags": []
   },
   "outputs": [],
   "source": [
    "def Delq (row):\n",
    "    if row == 'Chargedoff' or row == 'Defaulted' or row == 'Past Due (61-90 days)' or row == 'Past Due (91-120 days)' or row == 'Past Due (61-90 days)' or row == 'Past Due (>120 days)' or row == 'Cancelled':\n",
    "        return 'Delinquent'\n",
    "    return 'Good'\n",
    "    \n",
    "loann['BorrowerType'] = loann.apply(lambda row: Delq(row.LoanStatus),axis=1)"
   ]
  },
  {
   "cell_type": "code",
   "execution_count": 52,
   "id": "8ba07733",
   "metadata": {
    "execution": {
     "iopub.execute_input": "2022-07-26T11:31:34.918751Z",
     "iopub.status.busy": "2022-07-26T11:31:34.917726Z",
     "iopub.status.idle": "2022-07-26T11:31:34.937887Z",
     "shell.execute_reply": "2022-07-26T11:31:34.936765Z"
    },
    "papermill": {
     "duration": 0.080561,
     "end_time": "2022-07-26T11:31:34.940232",
     "exception": false,
     "start_time": "2022-07-26T11:31:34.859671",
     "status": "completed"
    },
    "tags": []
   },
   "outputs": [
    {
     "data": {
      "text/plain": [
       "Good          96289\n",
       "Delinquent    17648\n",
       "Name: BorrowerType, dtype: int64"
      ]
     },
     "execution_count": 52,
     "metadata": {},
     "output_type": "execute_result"
    }
   ],
   "source": [
    "loann.BorrowerType.value_counts()"
   ]
  },
  {
   "cell_type": "code",
   "execution_count": 53,
   "id": "c8688495",
   "metadata": {
    "execution": {
     "iopub.execute_input": "2022-07-26T11:31:35.057400Z",
     "iopub.status.busy": "2022-07-26T11:31:35.056998Z",
     "iopub.status.idle": "2022-07-26T11:31:35.444099Z",
     "shell.execute_reply": "2022-07-26T11:31:35.443190Z"
    },
    "papermill": {
     "duration": 0.448817,
     "end_time": "2022-07-26T11:31:35.446537",
     "exception": false,
     "start_time": "2022-07-26T11:31:34.997720",
     "status": "completed"
    },
    "tags": []
   },
   "outputs": [
    {
     "data": {
      "text/plain": [
       "<AxesSubplot:xlabel='year', ylabel='count'>"
      ]
     },
     "execution_count": 53,
     "metadata": {},
     "output_type": "execute_result"
    },
    {
     "data": {
      "image/png": "[encoded data removed]",
      "text/plain": [
       "<Figure size 936x576 with 1 Axes>"
      ]
     },
     "metadata": {
      "needs_background": "light"
     },
     "output_type": "display_data"
    }
   ],
   "source": [
    "plt.figure(figsize=(13,8))\n",
    "sns.countplot(data = loann, x = 'year', hue = 'BorrowerType', palette = 'Blues')"
   ]
  },
  {
   "cell_type": "markdown",
   "id": "f1298ecf",
   "metadata": {
    "papermill": {
     "duration": 0.057362,
     "end_time": "2022-07-26T11:31:35.561765",
     "exception": false,
     "start_time": "2022-07-26T11:31:35.504403",
     "status": "completed"
    },
    "tags": []
   },
   "source": [
    "One thing to see here is that there's numberof both delinquent and good borrowers follow the same trend except in 2013.\n",
    "In 2013 number of good borrowers increased drastically while on he other hand number of delinquent borrowers decreased .\n",
    "In 2014 both the numbers decreased significantly ."
   ]
  },
  {
   "cell_type": "markdown",
   "id": "ed467f02",
   "metadata": {
    "papermill": {
     "duration": 0.057089,
     "end_time": "2022-07-26T11:31:35.677271",
     "exception": false,
     "start_time": "2022-07-26T11:31:35.620182",
     "status": "completed"
    },
    "tags": []
   },
   "source": [
    "## **Talk about some of the relationships you observed in this part of the investigation. How did the feature(s) of interest vary with other features in the dataset?**\n",
    "\n",
    "I have mentioned my analysis of each graph right after it.\n",
    "\n",
    "## **Did you observe any interesting relationships between the other features (not the main feature(s) of interest)?**\n",
    "\n",
    "NO\n",
    "\n",
    "## **What was the strongest relationship you found?**\n",
    "\n",
    "The stongest relation showed by the plots was the one between Loan Amounts vs YEAR . This plot showed that the quanity of loans granted increased strongly between 2009 to 2014 ."
   ]
  },
  {
   "cell_type": "markdown",
   "id": "be6f1144",
   "metadata": {
    "papermill": {
     "duration": 0.062047,
     "end_time": "2022-07-26T11:31:35.796632",
     "exception": false,
     "start_time": "2022-07-26T11:31:35.734585",
     "status": "completed"
    },
    "tags": []
   },
   "source": [
    "# **Multivariate Exploration**\n",
    "\n",
    "In this section my main focus is to analyse the behaviour of delinquent borrowers with variation in factors like credit score, loan amount , year,debt to income ratio etc.\n",
    "\n",
    "One thing I would like to analyse is how different type of employee types fall into the category of delinquent borrower and how their loan amount varies from one another."
   ]
  },
  {
   "cell_type": "code",
   "execution_count": 54,
   "id": "f3f2a6cf",
   "metadata": {
    "execution": {
     "iopub.execute_input": "2022-07-26T11:31:35.915419Z",
     "iopub.status.busy": "2022-07-26T11:31:35.914634Z",
     "iopub.status.idle": "2022-07-26T11:31:37.100581Z",
     "shell.execute_reply": "2022-07-26T11:31:37.099524Z"
    },
    "papermill": {
     "duration": 1.247647,
     "end_time": "2022-07-26T11:31:37.102909",
     "exception": false,
     "start_time": "2022-07-26T11:31:35.855262",
     "status": "completed"
    },
    "tags": []
   },
   "outputs": [
    {
     "data": {
      "image/png": "[encoded data removed]",
      "text/plain": [
       "<Figure size 720x720 with 2 Axes>"
      ]
     },
     "metadata": {
      "needs_background": "light"
     },
     "output_type": "display_data"
    }
   ],
   "source": [
    "corr = loann.corr()\n",
    "#Plot figsize\n",
    "fig, ax = plt.subplots(figsize=(10, 10))\n",
    "#Generate Color Map, red & blue\n",
    "colormap = sns.diverging_palette(220, 10, as_cmap=True)\n",
    "#Generate Heat Map, allow annotations and place floats in map\n",
    "sns.heatmap(corr, cmap=colormap, annot=True, fmt=\".2f\")\n",
    "#Apply xticks\n",
    "plt.xticks(range(len(corr.columns)), corr.columns);\n",
    "#Apply yticks\n",
    "plt.yticks(range(len(corr.columns)), corr.columns)\n",
    "#show plot\n",
    "plt.show()"
   ]
  },
  {
   "cell_type": "markdown",
   "id": "e55fd649",
   "metadata": {
    "papermill": {
     "duration": 0.058981,
     "end_time": "2022-07-26T11:31:37.222210",
     "exception": false,
     "start_time": "2022-07-26T11:31:37.163229",
     "status": "completed"
    },
    "tags": []
   },
   "source": [
    "From the above correlation plot, it can be concluded that as such there are no two variables that are strongly correlated , other than 'BorrowerAPR', 'BorrowerRate' and 'LenderYield' which are basically not significantly different from one another .\n",
    "These three are negatively correlated to ProsperScore , but again there is no strong correlation."
   ]
  },
  {
   "cell_type": "markdown",
   "id": "3665b1f1",
   "metadata": {
    "papermill": {
     "duration": 0.058631,
     "end_time": "2022-07-26T11:31:37.340488",
     "exception": false,
     "start_time": "2022-07-26T11:31:37.281857",
     "status": "completed"
    },
    "tags": []
   },
   "source": [
    "# **Prosper Data EDA Questions**"
   ]
  },
  {
   "cell_type": "markdown",
   "id": "b5b9e736",
   "metadata": {
    "papermill": {
     "duration": 0.05862,
     "end_time": "2022-07-26T11:31:37.458546",
     "exception": false,
     "start_time": "2022-07-26T11:31:37.399926",
     "status": "completed"
    },
    "tags": []
   },
   "source": [
    "**Introduction**"
   ]
  },
  {
   "cell_type": "markdown",
   "id": "21140059",
   "metadata": {
    "papermill": {
     "duration": 0.059536,
     "end_time": "2022-07-26T11:31:37.577175",
     "exception": false,
     "start_time": "2022-07-26T11:31:37.517639",
     "status": "completed"
    },
    "tags": []
   },
   "source": [
    "1. This data set contains 113,937 loans with 81 variables on each loan, including loan amount, borrower rate (or interest rate), current loan status, borrower income, and many others."
   ]
  },
  {
   "cell_type": "markdown",
   "id": "63235a54",
   "metadata": {
    "papermill": {
     "duration": 0.058723,
     "end_time": "2022-07-26T11:31:37.695767",
     "exception": false,
     "start_time": "2022-07-26T11:31:37.637044",
     "status": "completed"
    },
    "tags": []
   },
   "source": [
    "2. The most critical tool in a P2P lending organization is its ability to\n",
    "assess a borrower’s creditworthiness as accurate as possible. Here, I\n",
    "am going to asses the tools used and to see if it is accurate in determining a person’s creditworthiness mainly Credit Grade and Prosper\n",
    "Score"
   ]
  },
  {
   "cell_type": "markdown",
   "id": "c7895749",
   "metadata": {
    "papermill": {
     "duration": 0.058494,
     "end_time": "2022-07-26T11:31:37.813223",
     "exception": false,
     "start_time": "2022-07-26T11:31:37.754729",
     "status": "completed"
    },
    "tags": []
   },
   "source": [
    "Action: **presentation three main focuses are on the most critical part of Peer-to-Peer Lending which is CreditGrade , BorrowerRate and Lender Yield not to mention the custom built risk assesment tool called ProsperScore to assess the creditworthiness of the borrower.**"
   ]
  },
  {
   "cell_type": "markdown",
   "id": "08cd3521",
   "metadata": {
    "papermill": {
     "duration": 0.058779,
     "end_time": "2022-07-26T11:31:37.930781",
     "exception": false,
     "start_time": "2022-07-26T11:31:37.872002",
     "status": "completed"
    },
    "tags": []
   },
   "source": [
    "Research Question 1 : **What are the most number of borrowers Credit\n",
    "Grade?** "
   ]
  },
  {
   "cell_type": "code",
   "execution_count": 55,
   "id": "e47a0298",
   "metadata": {
    "execution": {
     "iopub.execute_input": "2022-07-26T11:31:38.050689Z",
     "iopub.status.busy": "2022-07-26T11:31:38.049962Z",
     "iopub.status.idle": "2022-07-26T11:31:38.307309Z",
     "shell.execute_reply": "2022-07-26T11:31:38.306379Z"
    },
    "papermill": {
     "duration": 0.319958,
     "end_time": "2022-07-26T11:31:38.309563",
     "exception": false,
     "start_time": "2022-07-26T11:31:37.989605",
     "status": "completed"
    },
    "tags": []
   },
   "outputs": [
    {
     "data": {
      "image/png": "[encoded data removed]",
      "text/plain": [
       "<Figure size 432x288 with 1 Axes>"
      ]
     },
     "metadata": {
      "needs_background": "light"
     },
     "output_type": "display_data"
    }
   ],
   "source": [
    "sns.countplot(x='CreditGrade', data=loann)\n",
    "plt.show()"
   ]
  },
  {
   "cell_type": "code",
   "execution_count": 56,
   "id": "e2b43302",
   "metadata": {
    "execution": {
     "iopub.execute_input": "2022-07-26T11:31:38.430383Z",
     "iopub.status.busy": "2022-07-26T11:31:38.429717Z",
     "iopub.status.idle": "2022-07-26T11:31:38.675927Z",
     "shell.execute_reply": "2022-07-26T11:31:38.675005Z"
    },
    "papermill": {
     "duration": 0.309549,
     "end_time": "2022-07-26T11:31:38.678238",
     "exception": false,
     "start_time": "2022-07-26T11:31:38.368689",
     "status": "completed"
    },
    "tags": []
   },
   "outputs": [
    {
     "data": {
      "image/png": "[encoded data removed]",
      "text/plain": [
       "<Figure size 864x432 with 1 Axes>"
      ]
     },
     "metadata": {
      "needs_background": "light"
     },
     "output_type": "display_data"
    }
   ],
   "source": [
    "fig = plt.figure(figsize=(12,6))\n",
    "sns.countplot(data = loann,y = 'CreditGrade', order = loann[\"CreditGrade\"].value_counts().index[:10],palette = 'magma_r')\n",
    "plt.show()\n"
   ]
  },
  {
   "cell_type": "markdown",
   "id": "a0ee5f48",
   "metadata": {
    "papermill": {
     "duration": 0.059572,
     "end_time": "2022-07-26T11:31:38.797969",
     "exception": false,
     "start_time": "2022-07-26T11:31:38.738397",
     "status": "completed"
    },
    "tags": []
   },
   "source": [
    "As we can see the countplots of the Credit Grades of the loan dataframe, the borrowers with the Credit Grade of C are the most in number, followed by D."
   ]
  },
  {
   "cell_type": "markdown",
   "id": "ed2cff04",
   "metadata": {
    "papermill": {
     "duration": 0.059467,
     "end_time": "2022-07-26T11:31:38.917411",
     "exception": false,
     "start_time": "2022-07-26T11:31:38.857944",
     "status": "completed"
    },
    "tags": []
   },
   "source": [
    "Research Question 2 : **Since there are so much low Credit Grade such\n",
    "as C and D , does it lead to a higher amount of deliquency?** "
   ]
  },
  {
   "cell_type": "code",
   "execution_count": 57,
   "id": "73b1cf4a",
   "metadata": {
    "execution": {
     "iopub.execute_input": "2022-07-26T11:31:39.039827Z",
     "iopub.status.busy": "2022-07-26T11:31:39.039077Z",
     "iopub.status.idle": "2022-07-26T11:31:39.063772Z",
     "shell.execute_reply": "2022-07-26T11:31:39.062589Z"
    },
    "papermill": {
     "duration": 0.088734,
     "end_time": "2022-07-26T11:31:39.066278",
     "exception": false,
     "start_time": "2022-07-26T11:31:38.977544",
     "status": "completed"
    },
    "tags": []
   },
   "outputs": [
    {
     "data": {
      "text/plain": [
       "Current                   56576\n",
       "Completed                 38074\n",
       "Chargedoff                11992\n",
       "Defaulted                  5018\n",
       "Past Due (1-15 days)        806\n",
       "Past Due (31-60 days)       363\n",
       "Past Due (61-90 days)       313\n",
       "Past Due (91-120 days)      304\n",
       "Past Due (16-30 days)       265\n",
       "FinalPaymentInProgress      205\n",
       "Past Due (>120 days)         16\n",
       "Cancelled                     5\n",
       "Name: LoanStatus, dtype: int64"
      ]
     },
     "execution_count": 57,
     "metadata": {},
     "output_type": "execute_result"
    }
   ],
   "source": [
    "loann.LoanStatus.value_counts()"
   ]
  },
  {
   "cell_type": "markdown",
   "id": "9dc90fa2",
   "metadata": {
    "papermill": {
     "duration": 0.060429,
     "end_time": "2022-07-26T11:31:39.187002",
     "exception": false,
     "start_time": "2022-07-26T11:31:39.126573",
     "status": "completed"
    },
    "tags": []
   },
   "source": [
    "The loan status of the borrowers are converted by me to good or delinquent. "
   ]
  },
  {
   "cell_type": "code",
   "execution_count": 58,
   "id": "918d9a55",
   "metadata": {
    "execution": {
     "iopub.execute_input": "2022-07-26T11:31:39.310092Z",
     "iopub.status.busy": "2022-07-26T11:31:39.309310Z",
     "iopub.status.idle": "2022-07-26T11:31:39.330436Z",
     "shell.execute_reply": "2022-07-26T11:31:39.329468Z"
    },
    "papermill": {
     "duration": 0.084892,
     "end_time": "2022-07-26T11:31:39.332847",
     "exception": false,
     "start_time": "2022-07-26T11:31:39.247955",
     "status": "completed"
    },
    "tags": []
   },
   "outputs": [
    {
     "data": {
      "text/plain": [
       "Good          96289\n",
       "Delinquent    17648\n",
       "Name: BorrowerType, dtype: int64"
      ]
     },
     "execution_count": 58,
     "metadata": {},
     "output_type": "execute_result"
    }
   ],
   "source": [
    "loann.BorrowerType.value_counts()"
   ]
  },
  {
   "cell_type": "markdown",
   "id": "7376d848",
   "metadata": {
    "papermill": {
     "duration": 0.059928,
     "end_time": "2022-07-26T11:31:39.452757",
     "exception": false,
     "start_time": "2022-07-26T11:31:39.392829",
     "status": "completed"
    },
    "tags": []
   },
   "source": [
    "This shows that people who were having delays or problems with their loans were automatically labelled as delinquents and so their credit grade will be shown to be affected in terms of being a C or D instead of AA,A and B"
   ]
  },
  {
   "cell_type": "markdown",
   "id": "7732baef",
   "metadata": {
    "papermill": {
     "duration": 0.059636,
     "end_time": "2022-07-26T11:31:39.572128",
     "exception": false,
     "start_time": "2022-07-26T11:31:39.512492",
     "status": "completed"
    },
    "tags": []
   },
   "source": [
    "Research Question 3 : **What is the highest number of BorrowerRate?** "
   ]
  },
  {
   "cell_type": "code",
   "execution_count": 59,
   "id": "55fe31a9",
   "metadata": {
    "execution": {
     "iopub.execute_input": "2022-07-26T11:31:39.694236Z",
     "iopub.status.busy": "2022-07-26T11:31:39.693494Z",
     "iopub.status.idle": "2022-07-26T11:31:40.069049Z",
     "shell.execute_reply": "2022-07-26T11:31:40.068105Z"
    },
    "papermill": {
     "duration": 0.439158,
     "end_time": "2022-07-26T11:31:40.071371",
     "exception": false,
     "start_time": "2022-07-26T11:31:39.632213",
     "status": "completed"
    },
    "tags": []
   },
   "outputs": [
    {
     "data": {
      "text/plain": [
       "<AxesSubplot:xlabel='BorrowerRate', ylabel='Count'>"
      ]
     },
     "execution_count": 59,
     "metadata": {},
     "output_type": "execute_result"
    },
    {
     "data": {
      "image/png": "[encoded data removed]",
      "text/plain": [
       "<Figure size 432x288 with 1 Axes>"
      ]
     },
     "metadata": {
      "needs_background": "light"
     },
     "output_type": "display_data"
    }
   ],
   "source": [
    "sns.histplot(loann.BorrowerRate,edgecolor='black', linewidth=0.5, bins =15)"
   ]
  },
  {
   "cell_type": "code",
   "execution_count": 60,
   "id": "d8f6d746",
   "metadata": {
    "execution": {
     "iopub.execute_input": "2022-07-26T11:31:40.195115Z",
     "iopub.status.busy": "2022-07-26T11:31:40.194378Z",
     "iopub.status.idle": "2022-07-26T11:31:40.201693Z",
     "shell.execute_reply": "2022-07-26T11:31:40.200803Z"
    },
    "papermill": {
     "duration": 0.072157,
     "end_time": "2022-07-26T11:31:40.204322",
     "exception": false,
     "start_time": "2022-07-26T11:31:40.132165",
     "status": "completed"
    },
    "tags": []
   },
   "outputs": [
    {
     "data": {
      "text/plain": [
       "0.4975"
      ]
     },
     "execution_count": 60,
     "metadata": {},
     "output_type": "execute_result"
    }
   ],
   "source": [
    "loann['BorrowerRate'].max()"
   ]
  },
  {
   "cell_type": "code",
   "execution_count": 61,
   "id": "4779c0b3",
   "metadata": {
    "execution": {
     "iopub.execute_input": "2022-07-26T11:31:40.329215Z",
     "iopub.status.busy": "2022-07-26T11:31:40.328772Z",
     "iopub.status.idle": "2022-07-26T11:31:40.341511Z",
     "shell.execute_reply": "2022-07-26T11:31:40.340446Z"
    },
    "papermill": {
     "duration": 0.07817,
     "end_time": "2022-07-26T11:31:40.343832",
     "exception": false,
     "start_time": "2022-07-26T11:31:40.265662",
     "status": "completed"
    },
    "tags": []
   },
   "outputs": [
    {
     "data": {
      "text/plain": [
       "0.3177    3672\n",
       "0.3500    1905\n",
       "0.3199    1651\n",
       "0.2900    1508\n",
       "0.2699    1319\n",
       "          ... \n",
       "0.2201       1\n",
       "0.0752       1\n",
       "0.1416       1\n",
       "0.2812       1\n",
       "0.0739       1\n",
       "Name: BorrowerRate, Length: 2294, dtype: int64"
      ]
     },
     "execution_count": 61,
     "metadata": {},
     "output_type": "execute_result"
    }
   ],
   "source": [
    "loann['BorrowerRate'].value_counts()"
   ]
  },
  {
   "cell_type": "markdown",
   "id": "dce52963",
   "metadata": {
    "papermill": {
     "duration": 0.06051,
     "end_time": "2022-07-26T11:31:40.465427",
     "exception": false,
     "start_time": "2022-07-26T11:31:40.404917",
     "status": "completed"
    },
    "tags": []
   },
   "source": [
    "From the univariate analysis of the BorrowerRate feature, we can conclude that the borrower rate is highest at 0.4975 but the majority of the borrower rate values lie in the 0.13-0.35 range, with the most number of values being approx 0.15."
   ]
  },
  {
   "cell_type": "markdown",
   "id": "a900c4c6",
   "metadata": {
    "papermill": {
     "duration": 0.060488,
     "end_time": "2022-07-26T11:31:40.586716",
     "exception": false,
     "start_time": "2022-07-26T11:31:40.526228",
     "status": "completed"
    },
    "tags": []
   },
   "source": [
    "Research Question 4 : **Since the highest number of Borrower Rate\n",
    "is between 0.1 and 0.2, does the highest number of Lender Yield is\n",
    "between 0.1 and 0.2?** "
   ]
  },
  {
   "cell_type": "code",
   "execution_count": 62,
   "id": "3abed89f",
   "metadata": {
    "execution": {
     "iopub.execute_input": "2022-07-26T11:31:40.710714Z",
     "iopub.status.busy": "2022-07-26T11:31:40.709745Z",
     "iopub.status.idle": "2022-07-26T11:31:41.384170Z",
     "shell.execute_reply": "2022-07-26T11:31:41.382791Z"
    },
    "papermill": {
     "duration": 0.739087,
     "end_time": "2022-07-26T11:31:41.386973",
     "exception": false,
     "start_time": "2022-07-26T11:31:40.647886",
     "status": "completed"
    },
    "tags": []
   },
   "outputs": [
    {
     "data": {
      "image/png": "[encoded data removed]",
      "text/plain": [
       "<Figure size 720x576 with 3 Axes>"
      ]
     },
     "metadata": {
      "needs_background": "light"
     },
     "output_type": "display_data"
    }
   ],
   "source": [
    "fig, ax = plt.subplots(3,1 ,figsize=(10,8),sharey='row')\n",
    "#  plt.subplots(2,2,)\n",
    "fig.subplots_adjust(hspace= 0.5)\n",
    "\n",
    "ax[0].hist(loans.BorrowerAPR,30,edgecolor='black', linewidth=0.5)\n",
    "ax[0].set_title(\"Borrower APR\")\n",
    "\n",
    "\n",
    "ax[1].hist(loans.BorrowerRate,30,edgecolor='black', linewidth=0.5)\n",
    "ax[1].set_title(\"Borrower Rate\")\n",
    "\n",
    "ax[2].hist(loans.LenderYield,30,edgecolor='black', linewidth=0.5)\n",
    "ax[2].set_title(\"Lender Yield\")\n",
    "\n",
    "fig.show()"
   ]
  },
  {
   "cell_type": "markdown",
   "id": "85c8325f",
   "metadata": {
    "papermill": {
     "duration": 0.060332,
     "end_time": "2022-07-26T11:31:41.508449",
     "exception": false,
     "start_time": "2022-07-26T11:31:41.448117",
     "status": "completed"
    },
    "tags": []
   },
   "source": [
    "The highest number of Lender Yield seems to be between 0.1 and 0.2, just like the Borrower Rate. The bulk of the loans seem to be 0.08 to 0.25 , which coincides with the credit rating histograms that show that the majority of the users are in the middle of the risk ratings. The lender yield and BorrowerRate plots are similar to borrower APR because they all represent interest rates.\n",
    "The peak count is slightly lower than the one in the borrower APR plot, and I think it is because of the losses that are made when borrowers is penalized for default or charged off loans."
   ]
  },
  {
   "cell_type": "markdown",
   "id": "1a895183",
   "metadata": {
    "papermill": {
     "duration": 0.060368,
     "end_time": "2022-07-26T11:31:41.629458",
     "exception": false,
     "start_time": "2022-07-26T11:31:41.569090",
     "status": "completed"
    },
    "tags": []
   },
   "source": [
    "Research Question 5 : **Is the Credit Grade really accurate? Does\n",
    "higher Credit Grade leads to higher Monthly Loan Payment? As for\n",
    "Higher Credit Grade we mean from Grade AA to B** "
   ]
  },
  {
   "cell_type": "code",
   "execution_count": 63,
   "id": "3bcda951",
   "metadata": {
    "execution": {
     "iopub.execute_input": "2022-07-26T11:31:41.756311Z",
     "iopub.status.busy": "2022-07-26T11:31:41.755705Z",
     "iopub.status.idle": "2022-07-26T11:31:41.768394Z",
     "shell.execute_reply": "2022-07-26T11:31:41.766924Z"
    },
    "papermill": {
     "duration": 0.080969,
     "end_time": "2022-07-26T11:31:41.771730",
     "exception": false,
     "start_time": "2022-07-26T11:31:41.690761",
     "status": "completed"
    },
    "tags": []
   },
   "outputs": [
    {
     "data": {
      "text/plain": [
       "0         330.43\n",
       "1         318.93\n",
       "2         123.32\n",
       "3         321.45\n",
       "4         563.97\n",
       "           ...  \n",
       "113932    364.74\n",
       "113933     65.57\n",
       "113934    273.35\n",
       "113935    449.55\n",
       "113936     64.90\n",
       "Name: MonthlyLoanPayment, Length: 113937, dtype: float64"
      ]
     },
     "execution_count": 63,
     "metadata": {},
     "output_type": "execute_result"
    }
   ],
   "source": [
    "loan.MonthlyLoanPayment"
   ]
  },
  {
   "cell_type": "code",
   "execution_count": 64,
   "id": "b486b56f",
   "metadata": {
    "execution": {
     "iopub.execute_input": "2022-07-26T11:31:41.912488Z",
     "iopub.status.busy": "2022-07-26T11:31:41.912024Z",
     "iopub.status.idle": "2022-07-26T11:31:42.909668Z",
     "shell.execute_reply": "2022-07-26T11:31:42.908430Z"
    },
    "papermill": {
     "duration": 1.067898,
     "end_time": "2022-07-26T11:31:42.912558",
     "exception": false,
     "start_time": "2022-07-26T11:31:41.844660",
     "status": "completed"
    },
    "tags": []
   },
   "outputs": [
    {
     "data": {
      "text/plain": [
       "<AxesSubplot:xlabel='CreditGrade', ylabel='MonthlyLoanPayment'>"
      ]
     },
     "execution_count": 64,
     "metadata": {},
     "output_type": "execute_result"
    },
    {
     "data": {
      "image/png": "[encoded data removed]",
      "text/plain": [
       "<Figure size 864x432 with 1 Axes>"
      ]
     },
     "metadata": {
      "needs_background": "light"
     },
     "output_type": "display_data"
    }
   ],
   "source": [
    "fig = plt.figure(figsize=(12,6))\n",
    "sns.barplot(x='CreditGrade',y='MonthlyLoanPayment',data=loan) "
   ]
  },
  {
   "cell_type": "markdown",
   "id": "6d6610d3",
   "metadata": {
    "papermill": {
     "duration": 0.062582,
     "end_time": "2022-07-26T11:31:43.037350",
     "exception": false,
     "start_time": "2022-07-26T11:31:42.974768",
     "status": "completed"
    },
    "tags": []
   },
   "source": [
    "As per the barplot, we can conclude that higher Credit grade (like AA, A and B) lead to higher monthly loan payment. This value reaches approx from 270-320 whereas for the lower grades, the monthly loan payment is also much lower."
   ]
  },
  {
   "cell_type": "markdown",
   "id": "89328ec9",
   "metadata": {
    "papermill": {
     "duration": 0.062411,
     "end_time": "2022-07-26T11:31:43.161783",
     "exception": false,
     "start_time": "2022-07-26T11:31:43.099372",
     "status": "completed"
    },
    "tags": []
   },
   "source": [
    "Research Question 6 : **Here we look at the Completed Loan Status\n",
    "and Defaulted Rate to determine the accuracy of Credit Grade.**"
   ]
  },
  {
   "cell_type": "code",
   "execution_count": 65,
   "id": "8098c082",
   "metadata": {
    "execution": {
     "iopub.execute_input": "2022-07-26T11:31:43.288839Z",
     "iopub.status.busy": "2022-07-26T11:31:43.287932Z",
     "iopub.status.idle": "2022-07-26T11:31:44.350022Z",
     "shell.execute_reply": "2022-07-26T11:31:44.349091Z"
    },
    "papermill": {
     "duration": 1.128712,
     "end_time": "2022-07-26T11:31:44.352412",
     "exception": false,
     "start_time": "2022-07-26T11:31:43.223700",
     "status": "completed"
    },
    "tags": []
   },
   "outputs": [
    {
     "data": {
      "image/png": "[encoded data removed]",
      "text/plain": [
       "<Figure size 720x720 with 2 Axes>"
      ]
     },
     "metadata": {
      "needs_background": "light"
     },
     "output_type": "display_data"
    }
   ],
   "source": [
    "corr = loann.corr()\n",
    "#Plot figsize\n",
    "fig, ax = plt.subplots(figsize=(10, 10))\n",
    "#Generate Color Map, red & blue\n",
    "colormap = sns.diverging_palette(220, 10, as_cmap=True)\n",
    "#Generate Heat Map, allow annotations and place floats in map\n",
    "sns.heatmap(corr, cmap=colormap, annot=True, fmt=\".2f\")\n",
    "#Apply xticks\n",
    "plt.xticks(range(len(corr.columns)), corr.columns);\n",
    "#Apply yticks\n",
    "plt.yticks(range(len(corr.columns)), corr.columns)\n",
    "#show plot\n",
    "plt.show()"
   ]
  },
  {
   "cell_type": "markdown",
   "id": "c5ac99f7",
   "metadata": {
    "papermill": {
     "duration": 0.063064,
     "end_time": "2022-07-26T11:31:44.479946",
     "exception": false,
     "start_time": "2022-07-26T11:31:44.416882",
     "status": "completed"
    },
    "tags": []
   },
   "source": [
    "Research Question 7 : **Now we know the Credit Grade is accurate\n",
    "and is a tool that is used by the organization in determining the\n",
    "person’s creditworthiness. Now we need to understand does the\n",
    "ProsperScore, the custom built risk assesment system is being used\n",
    "in determing borrower’s rate?**"
   ]
  },
  {
   "cell_type": "markdown",
   "id": "5290d57b",
   "metadata": {
    "papermill": {
     "duration": 0.062934,
     "end_time": "2022-07-26T11:31:44.607514",
     "exception": false,
     "start_time": "2022-07-26T11:31:44.544580",
     "status": "completed"
    },
    "tags": []
   },
   "source": [
    "From a theoretical standpoint, if the higher ProsperScore leads to lower Borrower Rate and Borrower Annual Percentage Rate that means the Prosper Score is being used alongside the Credit Grade in determing a person’s creditworthiness."
   ]
  },
  {
   "cell_type": "markdown",
   "id": "f69d4b33",
   "metadata": {
    "papermill": {
     "duration": 0.063341,
     "end_time": "2022-07-26T11:31:44.734460",
     "exception": false,
     "start_time": "2022-07-26T11:31:44.671119",
     "status": "completed"
    },
    "tags": []
   },
   "source": [
    "**Business Insight**"
   ]
  },
  {
   "cell_type": "markdown",
   "id": "0c20e056",
   "metadata": {
    "papermill": {
     "duration": 0.062819,
     "end_time": "2022-07-26T11:31:44.861401",
     "exception": false,
     "start_time": "2022-07-26T11:31:44.798582",
     "status": "completed"
    },
    "tags": []
   },
   "source": [
    "Since the most important assest of a P2P lending Organization is its ability in using its tool to determine a borrower’s creditworthiness as accurate as possible. The organization would be more confident to market its organization as a great investment for investor to invest in hence leading to more borrower and higher market capitilization and boost revenue growth."
   ]
  },
  {
   "cell_type": "markdown",
   "id": "528e1301",
   "metadata": {
    "papermill": {
     "duration": 0.063065,
     "end_time": "2022-07-26T11:31:44.988069",
     "exception": false,
     "start_time": "2022-07-26T11:31:44.925004",
     "status": "completed"
    },
    "tags": []
   },
   "source": [
    "# **Feature Engineering for the selected features**"
   ]
  },
  {
   "cell_type": "markdown",
   "id": "65ba95f9",
   "metadata": {
    "papermill": {
     "duration": 0.063583,
     "end_time": "2022-07-26T11:31:45.115260",
     "exception": false,
     "start_time": "2022-07-26T11:31:45.051677",
     "status": "completed"
    },
    "tags": []
   },
   "source": [
    "First, we will check the original values for the LoanStatus columns in order to have a better idea what to replace with later on after label encoding."
   ]
  },
  {
   "cell_type": "code",
   "execution_count": 66,
   "id": "c3e644cb",
   "metadata": {
    "execution": {
     "iopub.execute_input": "2022-07-26T11:31:45.250431Z",
     "iopub.status.busy": "2022-07-26T11:31:45.249627Z",
     "iopub.status.idle": "2022-07-26T11:31:45.440997Z",
     "shell.execute_reply": "2022-07-26T11:31:45.439566Z"
    },
    "papermill": {
     "duration": 0.264447,
     "end_time": "2022-07-26T11:31:45.443884",
     "exception": false,
     "start_time": "2022-07-26T11:31:45.179437",
     "status": "completed"
    },
    "tags": []
   },
   "outputs": [
    {
     "data": {
      "text/plain": [
       "array([ 2,  3,  6,  4,  1,  7,  0,  9,  8, 10,  5, 11])"
      ]
     },
     "execution_count": 66,
     "metadata": {},
     "output_type": "execute_result"
    }
   ],
   "source": [
    "# Import label encoder\n",
    "from sklearn import preprocessing\n",
    "  \n",
    "# label_encoder object knows how to understand word labels.\n",
    "label_encoder = preprocessing.LabelEncoder()\n",
    "  \n",
    "# Encode labels in column 'LoanStatus'.\n",
    "loann['LoanStatus']= label_encoder.fit_transform(loann['LoanStatus'])\n",
    "  \n",
    "loann['LoanStatus'].unique()"
   ]
  },
  {
   "cell_type": "markdown",
   "id": "4b8c01a9",
   "metadata": {
    "papermill": {
     "duration": 0.063546,
     "end_time": "2022-07-26T11:31:45.571608",
     "exception": false,
     "start_time": "2022-07-26T11:31:45.508062",
     "status": "completed"
    },
    "tags": []
   },
   "source": [
    "Checking the new dataframe columns to see the new label encoded column"
   ]
  },
  {
   "cell_type": "code",
   "execution_count": 67,
   "id": "4f81bd5e",
   "metadata": {
    "execution": {
     "iopub.execute_input": "2022-07-26T11:31:45.701906Z",
     "iopub.status.busy": "2022-07-26T11:31:45.701498Z",
     "iopub.status.idle": "2022-07-26T11:31:45.709835Z",
     "shell.execute_reply": "2022-07-26T11:31:45.708603Z"
    },
    "papermill": {
     "duration": 0.077157,
     "end_time": "2022-07-26T11:31:45.712678",
     "exception": false,
     "start_time": "2022-07-26T11:31:45.635521",
     "status": "completed"
    },
    "tags": []
   },
   "outputs": [
    {
     "data": {
      "text/plain": [
       "Index(['Term', 'LoanOriginalAmount', 'BorrowerAPR', 'BorrowerRate',\n",
       "       'LenderYield', 'LoanStatus', 'ListingCategory', 'year', 'IncomeRange',\n",
       "       'StatedMonthlyIncome', 'EmploymentStatus', 'BorrowerState',\n",
       "       'DebtToIncomeRatio', 'Occupation', 'CreditGrade',\n",
       "       'ProsperRating (Alpha)', 'ProsperScore', 'CreditScore', 'BorrowerType'],\n",
       "      dtype='object')"
      ]
     },
     "execution_count": 67,
     "metadata": {},
     "output_type": "execute_result"
    }
   ],
   "source": [
    "loann.columns"
   ]
  },
  {
   "cell_type": "code",
   "execution_count": 68,
   "id": "21477261",
   "metadata": {
    "execution": {
     "iopub.execute_input": "2022-07-26T11:31:45.844239Z",
     "iopub.status.busy": "2022-07-26T11:31:45.843783Z",
     "iopub.status.idle": "2022-07-26T11:31:45.853429Z",
     "shell.execute_reply": "2022-07-26T11:31:45.852510Z"
    },
    "papermill": {
     "duration": 0.076888,
     "end_time": "2022-07-26T11:31:45.855701",
     "exception": false,
     "start_time": "2022-07-26T11:31:45.778813",
     "status": "completed"
    },
    "tags": []
   },
   "outputs": [
    {
     "data": {
      "text/plain": [
       "3     56576\n",
       "2     38074\n",
       "1     11992\n",
       "4      5018\n",
       "6       806\n",
       "8       363\n",
       "9       313\n",
       "10      304\n",
       "7       265\n",
       "5       205\n",
       "11       16\n",
       "0         5\n",
       "Name: LoanStatus, dtype: int64"
      ]
     },
     "execution_count": 68,
     "metadata": {},
     "output_type": "execute_result"
    }
   ],
   "source": [
    "loann.LoanStatus.value_counts()"
   ]
  },
  {
   "cell_type": "markdown",
   "id": "f2b5c32a",
   "metadata": {
    "papermill": {
     "duration": 0.063409,
     "end_time": "2022-07-26T11:31:45.982832",
     "exception": false,
     "start_time": "2022-07-26T11:31:45.919423",
     "status": "completed"
    },
    "tags": []
   },
   "source": [
    "Checking the dataframe to see how the label encoded column look like"
   ]
  },
  {
   "cell_type": "code",
   "execution_count": 69,
   "id": "ed215ca7",
   "metadata": {
    "execution": {
     "iopub.execute_input": "2022-07-26T11:31:46.113095Z",
     "iopub.status.busy": "2022-07-26T11:31:46.112001Z",
     "iopub.status.idle": "2022-07-26T11:31:46.139454Z",
     "shell.execute_reply": "2022-07-26T11:31:46.138149Z"
    },
    "papermill": {
     "duration": 0.095419,
     "end_time": "2022-07-26T11:31:46.142103",
     "exception": false,
     "start_time": "2022-07-26T11:31:46.046684",
     "status": "completed"
    },
    "tags": []
   },
   "outputs": [
    {
     "data": {
      "text/html": [
       "<div>\n",
       "<style scoped>\n",
       "    .dataframe tbody tr th:only-of-type {\n",
       "        vertical-align: middle;\n",
       "    }\n",
       "\n",
       "    .dataframe tbody tr th {\n",
       "        vertical-align: top;\n",
       "    }\n",
       "\n",
       "    .dataframe thead th {\n",
       "        text-align: right;\n",
       "    }\n",
       "</style>\n",
       "<table border=\"1\" class=\"dataframe\">\n",
       "  <thead>\n",
       "    <tr style=\"text-align: right;\">\n",
       "      <th></th>\n",
       "      <th>Term</th>\n",
       "      <th>LoanOriginalAmount</th>\n",
       "      <th>BorrowerAPR</th>\n",
       "      <th>BorrowerRate</th>\n",
       "      <th>LenderYield</th>\n",
       "      <th>LoanStatus</th>\n",
       "      <th>ListingCategory</th>\n",
       "      <th>year</th>\n",
       "      <th>IncomeRange</th>\n",
       "      <th>StatedMonthlyIncome</th>\n",
       "      <th>EmploymentStatus</th>\n",
       "      <th>BorrowerState</th>\n",
       "      <th>DebtToIncomeRatio</th>\n",
       "      <th>Occupation</th>\n",
       "      <th>CreditGrade</th>\n",
       "      <th>ProsperRating (Alpha)</th>\n",
       "      <th>ProsperScore</th>\n",
       "      <th>CreditScore</th>\n",
       "      <th>BorrowerType</th>\n",
       "    </tr>\n",
       "  </thead>\n",
       "  <tbody>\n",
       "    <tr>\n",
       "      <th>0</th>\n",
       "      <td>36</td>\n",
       "      <td>9425</td>\n",
       "      <td>0.16516</td>\n",
       "      <td>0.1580</td>\n",
       "      <td>0.1380</td>\n",
       "      <td>2</td>\n",
       "      <td>0</td>\n",
       "      <td>2007</td>\n",
       "      <td>$25,000-49,999</td>\n",
       "      <td>3083.333333</td>\n",
       "      <td>Self-employed</td>\n",
       "      <td>CO</td>\n",
       "      <td>0.17</td>\n",
       "      <td>Other</td>\n",
       "      <td>C</td>\n",
       "      <td>NaN</td>\n",
       "      <td>NaN</td>\n",
       "      <td>649.5</td>\n",
       "      <td>Good</td>\n",
       "    </tr>\n",
       "    <tr>\n",
       "      <th>1</th>\n",
       "      <td>36</td>\n",
       "      <td>10000</td>\n",
       "      <td>0.12016</td>\n",
       "      <td>0.0920</td>\n",
       "      <td>0.0820</td>\n",
       "      <td>3</td>\n",
       "      <td>2</td>\n",
       "      <td>2014</td>\n",
       "      <td>$50,000-74,999</td>\n",
       "      <td>6125.000000</td>\n",
       "      <td>Employed</td>\n",
       "      <td>CO</td>\n",
       "      <td>0.18</td>\n",
       "      <td>Professional</td>\n",
       "      <td>NaN</td>\n",
       "      <td>A</td>\n",
       "      <td>7.0</td>\n",
       "      <td>689.5</td>\n",
       "      <td>Good</td>\n",
       "    </tr>\n",
       "    <tr>\n",
       "      <th>2</th>\n",
       "      <td>36</td>\n",
       "      <td>3001</td>\n",
       "      <td>0.28269</td>\n",
       "      <td>0.2750</td>\n",
       "      <td>0.2400</td>\n",
       "      <td>2</td>\n",
       "      <td>0</td>\n",
       "      <td>2007</td>\n",
       "      <td>Not displayed</td>\n",
       "      <td>2083.333333</td>\n",
       "      <td>Not available</td>\n",
       "      <td>GA</td>\n",
       "      <td>0.06</td>\n",
       "      <td>Other</td>\n",
       "      <td>HR</td>\n",
       "      <td>NaN</td>\n",
       "      <td>NaN</td>\n",
       "      <td>489.5</td>\n",
       "      <td>Good</td>\n",
       "    </tr>\n",
       "    <tr>\n",
       "      <th>3</th>\n",
       "      <td>36</td>\n",
       "      <td>10000</td>\n",
       "      <td>0.12528</td>\n",
       "      <td>0.0974</td>\n",
       "      <td>0.0874</td>\n",
       "      <td>3</td>\n",
       "      <td>16</td>\n",
       "      <td>2012</td>\n",
       "      <td>$25,000-49,999</td>\n",
       "      <td>2875.000000</td>\n",
       "      <td>Employed</td>\n",
       "      <td>GA</td>\n",
       "      <td>0.15</td>\n",
       "      <td>Skilled Labor</td>\n",
       "      <td>NaN</td>\n",
       "      <td>A</td>\n",
       "      <td>9.0</td>\n",
       "      <td>809.5</td>\n",
       "      <td>Good</td>\n",
       "    </tr>\n",
       "    <tr>\n",
       "      <th>4</th>\n",
       "      <td>36</td>\n",
       "      <td>15000</td>\n",
       "      <td>0.24614</td>\n",
       "      <td>0.2085</td>\n",
       "      <td>0.1985</td>\n",
       "      <td>3</td>\n",
       "      <td>2</td>\n",
       "      <td>2013</td>\n",
       "      <td>$100,000+</td>\n",
       "      <td>9583.333333</td>\n",
       "      <td>Employed</td>\n",
       "      <td>MN</td>\n",
       "      <td>0.26</td>\n",
       "      <td>Executive</td>\n",
       "      <td>NaN</td>\n",
       "      <td>D</td>\n",
       "      <td>4.0</td>\n",
       "      <td>689.5</td>\n",
       "      <td>Good</td>\n",
       "    </tr>\n",
       "  </tbody>\n",
       "</table>\n",
       "</div>"
      ],
      "text/plain": [
       "   Term  LoanOriginalAmount  BorrowerAPR  BorrowerRate  LenderYield  \\\n",
       "0    36                9425      0.16516        0.1580       0.1380   \n",
       "1    36               10000      0.12016        0.0920       0.0820   \n",
       "2    36                3001      0.28269        0.2750       0.2400   \n",
       "3    36               10000      0.12528        0.0974       0.0874   \n",
       "4    36               15000      0.24614        0.2085       0.1985   \n",
       "\n",
       "   LoanStatus  ListingCategory  year     IncomeRange  StatedMonthlyIncome  \\\n",
       "0           2                0  2007  $25,000-49,999          3083.333333   \n",
       "1           3                2  2014  $50,000-74,999          6125.000000   \n",
       "2           2                0  2007   Not displayed          2083.333333   \n",
       "3           3               16  2012  $25,000-49,999          2875.000000   \n",
       "4           3                2  2013       $100,000+          9583.333333   \n",
       "\n",
       "  EmploymentStatus BorrowerState  DebtToIncomeRatio     Occupation  \\\n",
       "0    Self-employed            CO               0.17          Other   \n",
       "1         Employed            CO               0.18   Professional   \n",
       "2    Not available            GA               0.06          Other   \n",
       "3         Employed            GA               0.15  Skilled Labor   \n",
       "4         Employed            MN               0.26      Executive   \n",
       "\n",
       "  CreditGrade ProsperRating (Alpha)  ProsperScore  CreditScore BorrowerType  \n",
       "0           C                   NaN           NaN        649.5         Good  \n",
       "1         NaN                     A           7.0        689.5         Good  \n",
       "2          HR                   NaN           NaN        489.5         Good  \n",
       "3         NaN                     A           9.0        809.5         Good  \n",
       "4         NaN                     D           4.0        689.5         Good  "
      ]
     },
     "execution_count": 69,
     "metadata": {},
     "output_type": "execute_result"
    }
   ],
   "source": [
    "loann.head()"
   ]
  },
  {
   "cell_type": "markdown",
   "id": "9441b3a8",
   "metadata": {
    "papermill": {
     "duration": 0.064916,
     "end_time": "2022-07-26T11:31:46.272065",
     "exception": false,
     "start_time": "2022-07-26T11:31:46.207149",
     "status": "completed"
    },
    "tags": []
   },
   "source": [
    "Notice that 1 new column was added to the DataFrame since the original ‘LoanStatus’ column contained 12 unique values."
   ]
  },
  {
   "cell_type": "markdown",
   "id": "b630d06e",
   "metadata": {
    "papermill": {
     "duration": 0.06427,
     "end_time": "2022-07-26T11:31:46.400940",
     "exception": false,
     "start_time": "2022-07-26T11:31:46.336670",
     "status": "completed"
    },
    "tags": []
   },
   "source": [
    "## **Drop the Original Categorical Variable**\n",
    "\n",
    "Lastly, we can drop the original ‘LoanStatus’ variable from the DataFrame since we no longer need it:"
   ]
  },
  {
   "cell_type": "code",
   "execution_count": 70,
   "id": "e516d9b8",
   "metadata": {
    "execution": {
     "iopub.execute_input": "2022-07-26T11:31:46.532025Z",
     "iopub.status.busy": "2022-07-26T11:31:46.531163Z",
     "iopub.status.idle": "2022-07-26T11:31:46.561164Z",
     "shell.execute_reply": "2022-07-26T11:31:46.560083Z"
    },
    "papermill": {
     "duration": 0.099144,
     "end_time": "2022-07-26T11:31:46.564076",
     "exception": false,
     "start_time": "2022-07-26T11:31:46.464932",
     "status": "completed"
    },
    "tags": []
   },
   "outputs": [],
   "source": [
    "loann.drop('LoanStatus', axis=1, inplace=True)"
   ]
  },
  {
   "cell_type": "code",
   "execution_count": 71,
   "id": "1627f7cb",
   "metadata": {
    "execution": {
     "iopub.execute_input": "2022-07-26T11:31:46.696769Z",
     "iopub.status.busy": "2022-07-26T11:31:46.695691Z",
     "iopub.status.idle": "2022-07-26T11:31:46.722619Z",
     "shell.execute_reply": "2022-07-26T11:31:46.721243Z"
    },
    "papermill": {
     "duration": 0.096165,
     "end_time": "2022-07-26T11:31:46.725215",
     "exception": false,
     "start_time": "2022-07-26T11:31:46.629050",
     "status": "completed"
    },
    "tags": []
   },
   "outputs": [
    {
     "data": {
      "text/html": [
       "<div>\n",
       "<style scoped>\n",
       "    .dataframe tbody tr th:only-of-type {\n",
       "        vertical-align: middle;\n",
       "    }\n",
       "\n",
       "    .dataframe tbody tr th {\n",
       "        vertical-align: top;\n",
       "    }\n",
       "\n",
       "    .dataframe thead th {\n",
       "        text-align: right;\n",
       "    }\n",
       "</style>\n",
       "<table border=\"1\" class=\"dataframe\">\n",
       "  <thead>\n",
       "    <tr style=\"text-align: right;\">\n",
       "      <th></th>\n",
       "      <th>Term</th>\n",
       "      <th>LoanOriginalAmount</th>\n",
       "      <th>BorrowerAPR</th>\n",
       "      <th>BorrowerRate</th>\n",
       "      <th>LenderYield</th>\n",
       "      <th>ListingCategory</th>\n",
       "      <th>year</th>\n",
       "      <th>IncomeRange</th>\n",
       "      <th>StatedMonthlyIncome</th>\n",
       "      <th>EmploymentStatus</th>\n",
       "      <th>BorrowerState</th>\n",
       "      <th>DebtToIncomeRatio</th>\n",
       "      <th>Occupation</th>\n",
       "      <th>CreditGrade</th>\n",
       "      <th>ProsperRating (Alpha)</th>\n",
       "      <th>ProsperScore</th>\n",
       "      <th>CreditScore</th>\n",
       "      <th>BorrowerType</th>\n",
       "    </tr>\n",
       "  </thead>\n",
       "  <tbody>\n",
       "    <tr>\n",
       "      <th>0</th>\n",
       "      <td>36</td>\n",
       "      <td>9425</td>\n",
       "      <td>0.16516</td>\n",
       "      <td>0.1580</td>\n",
       "      <td>0.1380</td>\n",
       "      <td>0</td>\n",
       "      <td>2007</td>\n",
       "      <td>$25,000-49,999</td>\n",
       "      <td>3083.333333</td>\n",
       "      <td>Self-employed</td>\n",
       "      <td>CO</td>\n",
       "      <td>0.17</td>\n",
       "      <td>Other</td>\n",
       "      <td>C</td>\n",
       "      <td>NaN</td>\n",
       "      <td>NaN</td>\n",
       "      <td>649.5</td>\n",
       "      <td>Good</td>\n",
       "    </tr>\n",
       "    <tr>\n",
       "      <th>1</th>\n",
       "      <td>36</td>\n",
       "      <td>10000</td>\n",
       "      <td>0.12016</td>\n",
       "      <td>0.0920</td>\n",
       "      <td>0.0820</td>\n",
       "      <td>2</td>\n",
       "      <td>2014</td>\n",
       "      <td>$50,000-74,999</td>\n",
       "      <td>6125.000000</td>\n",
       "      <td>Employed</td>\n",
       "      <td>CO</td>\n",
       "      <td>0.18</td>\n",
       "      <td>Professional</td>\n",
       "      <td>NaN</td>\n",
       "      <td>A</td>\n",
       "      <td>7.0</td>\n",
       "      <td>689.5</td>\n",
       "      <td>Good</td>\n",
       "    </tr>\n",
       "    <tr>\n",
       "      <th>2</th>\n",
       "      <td>36</td>\n",
       "      <td>3001</td>\n",
       "      <td>0.28269</td>\n",
       "      <td>0.2750</td>\n",
       "      <td>0.2400</td>\n",
       "      <td>0</td>\n",
       "      <td>2007</td>\n",
       "      <td>Not displayed</td>\n",
       "      <td>2083.333333</td>\n",
       "      <td>Not available</td>\n",
       "      <td>GA</td>\n",
       "      <td>0.06</td>\n",
       "      <td>Other</td>\n",
       "      <td>HR</td>\n",
       "      <td>NaN</td>\n",
       "      <td>NaN</td>\n",
       "      <td>489.5</td>\n",
       "      <td>Good</td>\n",
       "    </tr>\n",
       "    <tr>\n",
       "      <th>3</th>\n",
       "      <td>36</td>\n",
       "      <td>10000</td>\n",
       "      <td>0.12528</td>\n",
       "      <td>0.0974</td>\n",
       "      <td>0.0874</td>\n",
       "      <td>16</td>\n",
       "      <td>2012</td>\n",
       "      <td>$25,000-49,999</td>\n",
       "      <td>2875.000000</td>\n",
       "      <td>Employed</td>\n",
       "      <td>GA</td>\n",
       "      <td>0.15</td>\n",
       "      <td>Skilled Labor</td>\n",
       "      <td>NaN</td>\n",
       "      <td>A</td>\n",
       "      <td>9.0</td>\n",
       "      <td>809.5</td>\n",
       "      <td>Good</td>\n",
       "    </tr>\n",
       "    <tr>\n",
       "      <th>4</th>\n",
       "      <td>36</td>\n",
       "      <td>15000</td>\n",
       "      <td>0.24614</td>\n",
       "      <td>0.2085</td>\n",
       "      <td>0.1985</td>\n",
       "      <td>2</td>\n",
       "      <td>2013</td>\n",
       "      <td>$100,000+</td>\n",
       "      <td>9583.333333</td>\n",
       "      <td>Employed</td>\n",
       "      <td>MN</td>\n",
       "      <td>0.26</td>\n",
       "      <td>Executive</td>\n",
       "      <td>NaN</td>\n",
       "      <td>D</td>\n",
       "      <td>4.0</td>\n",
       "      <td>689.5</td>\n",
       "      <td>Good</td>\n",
       "    </tr>\n",
       "  </tbody>\n",
       "</table>\n",
       "</div>"
      ],
      "text/plain": [
       "   Term  LoanOriginalAmount  BorrowerAPR  BorrowerRate  LenderYield  \\\n",
       "0    36                9425      0.16516        0.1580       0.1380   \n",
       "1    36               10000      0.12016        0.0920       0.0820   \n",
       "2    36                3001      0.28269        0.2750       0.2400   \n",
       "3    36               10000      0.12528        0.0974       0.0874   \n",
       "4    36               15000      0.24614        0.2085       0.1985   \n",
       "\n",
       "   ListingCategory  year     IncomeRange  StatedMonthlyIncome  \\\n",
       "0                0  2007  $25,000-49,999          3083.333333   \n",
       "1                2  2014  $50,000-74,999          6125.000000   \n",
       "2                0  2007   Not displayed          2083.333333   \n",
       "3               16  2012  $25,000-49,999          2875.000000   \n",
       "4                2  2013       $100,000+          9583.333333   \n",
       "\n",
       "  EmploymentStatus BorrowerState  DebtToIncomeRatio     Occupation  \\\n",
       "0    Self-employed            CO               0.17          Other   \n",
       "1         Employed            CO               0.18   Professional   \n",
       "2    Not available            GA               0.06          Other   \n",
       "3         Employed            GA               0.15  Skilled Labor   \n",
       "4         Employed            MN               0.26      Executive   \n",
       "\n",
       "  CreditGrade ProsperRating (Alpha)  ProsperScore  CreditScore BorrowerType  \n",
       "0           C                   NaN           NaN        649.5         Good  \n",
       "1         NaN                     A           7.0        689.5         Good  \n",
       "2          HR                   NaN           NaN        489.5         Good  \n",
       "3         NaN                     A           9.0        809.5         Good  \n",
       "4         NaN                     D           4.0        689.5         Good  "
      ]
     },
     "execution_count": 71,
     "metadata": {},
     "output_type": "execute_result"
    }
   ],
   "source": [
    "loann.head()"
   ]
  },
  {
   "cell_type": "markdown",
   "id": "cf24bb3e",
   "metadata": {
    "papermill": {
     "duration": 0.065343,
     "end_time": "2022-07-26T11:31:46.855782",
     "exception": false,
     "start_time": "2022-07-26T11:31:46.790439",
     "status": "completed"
    },
    "tags": []
   },
   "source": [
    "Original LoanStatus column has been removed"
   ]
  },
  {
   "cell_type": "code",
   "execution_count": 72,
   "id": "0ba40a3b",
   "metadata": {
    "execution": {
     "iopub.execute_input": "2022-07-26T11:31:46.987706Z",
     "iopub.status.busy": "2022-07-26T11:31:46.986842Z",
     "iopub.status.idle": "2022-07-26T11:31:47.013428Z",
     "shell.execute_reply": "2022-07-26T11:31:47.011971Z"
    },
    "papermill": {
     "duration": 0.095756,
     "end_time": "2022-07-26T11:31:47.015943",
     "exception": false,
     "start_time": "2022-07-26T11:31:46.920187",
     "status": "completed"
    },
    "tags": []
   },
   "outputs": [
    {
     "data": {
      "text/plain": [
       "$25,000-49,999    32192\n",
       "$50,000-74,999    31050\n",
       "$100,000+         17337\n",
       "$75,000-99,999    16916\n",
       "Not displayed      7741\n",
       "$1-24,999          7274\n",
       "$0                 1427\n",
       "Name: IncomeRange, dtype: int64"
      ]
     },
     "execution_count": 72,
     "metadata": {},
     "output_type": "execute_result"
    }
   ],
   "source": [
    "loann.IncomeRange.value_counts()"
   ]
  },
  {
   "cell_type": "markdown",
   "id": "048d6d5d",
   "metadata": {
    "papermill": {
     "duration": 0.065281,
     "end_time": "2022-07-26T11:31:47.147101",
     "exception": false,
     "start_time": "2022-07-26T11:31:47.081820",
     "status": "completed"
    },
    "tags": []
   },
   "source": [
    "To name categorical values in IncomeRange column as numeric values"
   ]
  },
  {
   "cell_type": "code",
   "execution_count": 73,
   "id": "53659a55",
   "metadata": {
    "execution": {
     "iopub.execute_input": "2022-07-26T11:31:47.278952Z",
     "iopub.status.busy": "2022-07-26T11:31:47.277834Z",
     "iopub.status.idle": "2022-07-26T11:31:47.301324Z",
     "shell.execute_reply": "2022-07-26T11:31:47.300261Z"
    },
    "papermill": {
     "duration": 0.092547,
     "end_time": "2022-07-26T11:31:47.304319",
     "exception": false,
     "start_time": "2022-07-26T11:31:47.211772",
     "status": "completed"
    },
    "tags": []
   },
   "outputs": [],
   "source": [
    "loann['IncomeRange']=loann['IncomeRange'].map({'Not displayed':0,'$0':1,'$1-24,999':2,'$25,000-49,999':3,'$50,000-74,999':4,'$75,000-99,999':5,'$100,000+':6})"
   ]
  },
  {
   "cell_type": "markdown",
   "id": "710b6acc",
   "metadata": {
    "papermill": {
     "duration": 0.065081,
     "end_time": "2022-07-26T11:31:47.434837",
     "exception": false,
     "start_time": "2022-07-26T11:31:47.369756",
     "status": "completed"
    },
    "tags": []
   },
   "source": [
    "Dropping BorrowerState and EmploymentStatus columns as they are not needed"
   ]
  },
  {
   "cell_type": "code",
   "execution_count": 74,
   "id": "41f8c916",
   "metadata": {
    "execution": {
     "iopub.execute_input": "2022-07-26T11:31:47.567242Z",
     "iopub.status.busy": "2022-07-26T11:31:47.566822Z",
     "iopub.status.idle": "2022-07-26T11:31:47.599948Z",
     "shell.execute_reply": "2022-07-26T11:31:47.598892Z"
    },
    "papermill": {
     "duration": 0.102557,
     "end_time": "2022-07-26T11:31:47.602904",
     "exception": false,
     "start_time": "2022-07-26T11:31:47.500347",
     "status": "completed"
    },
    "tags": []
   },
   "outputs": [],
   "source": [
    "loann.drop('BorrowerState', axis=1, inplace=True)\n",
    "loann.drop('EmploymentStatus', axis=1, inplace=True)"
   ]
  },
  {
   "cell_type": "code",
   "execution_count": 75,
   "id": "6044f497",
   "metadata": {
    "execution": {
     "iopub.execute_input": "2022-07-26T11:31:47.735248Z",
     "iopub.status.busy": "2022-07-26T11:31:47.734824Z",
     "iopub.status.idle": "2022-07-26T11:31:47.758392Z",
     "shell.execute_reply": "2022-07-26T11:31:47.757509Z"
    },
    "papermill": {
     "duration": 0.092642,
     "end_time": "2022-07-26T11:31:47.760656",
     "exception": false,
     "start_time": "2022-07-26T11:31:47.668014",
     "status": "completed"
    },
    "tags": []
   },
   "outputs": [
    {
     "data": {
      "text/html": [
       "<div>\n",
       "<style scoped>\n",
       "    .dataframe tbody tr th:only-of-type {\n",
       "        vertical-align: middle;\n",
       "    }\n",
       "\n",
       "    .dataframe tbody tr th {\n",
       "        vertical-align: top;\n",
       "    }\n",
       "\n",
       "    .dataframe thead th {\n",
       "        text-align: right;\n",
       "    }\n",
       "</style>\n",
       "<table border=\"1\" class=\"dataframe\">\n",
       "  <thead>\n",
       "    <tr style=\"text-align: right;\">\n",
       "      <th></th>\n",
       "      <th>Term</th>\n",
       "      <th>LoanOriginalAmount</th>\n",
       "      <th>BorrowerAPR</th>\n",
       "      <th>BorrowerRate</th>\n",
       "      <th>LenderYield</th>\n",
       "      <th>ListingCategory</th>\n",
       "      <th>year</th>\n",
       "      <th>IncomeRange</th>\n",
       "      <th>StatedMonthlyIncome</th>\n",
       "      <th>DebtToIncomeRatio</th>\n",
       "      <th>Occupation</th>\n",
       "      <th>CreditGrade</th>\n",
       "      <th>ProsperRating (Alpha)</th>\n",
       "      <th>ProsperScore</th>\n",
       "      <th>CreditScore</th>\n",
       "      <th>BorrowerType</th>\n",
       "    </tr>\n",
       "  </thead>\n",
       "  <tbody>\n",
       "    <tr>\n",
       "      <th>0</th>\n",
       "      <td>36</td>\n",
       "      <td>9425</td>\n",
       "      <td>0.16516</td>\n",
       "      <td>0.1580</td>\n",
       "      <td>0.1380</td>\n",
       "      <td>0</td>\n",
       "      <td>2007</td>\n",
       "      <td>3</td>\n",
       "      <td>3083.333333</td>\n",
       "      <td>0.17</td>\n",
       "      <td>Other</td>\n",
       "      <td>C</td>\n",
       "      <td>NaN</td>\n",
       "      <td>NaN</td>\n",
       "      <td>649.5</td>\n",
       "      <td>Good</td>\n",
       "    </tr>\n",
       "    <tr>\n",
       "      <th>1</th>\n",
       "      <td>36</td>\n",
       "      <td>10000</td>\n",
       "      <td>0.12016</td>\n",
       "      <td>0.0920</td>\n",
       "      <td>0.0820</td>\n",
       "      <td>2</td>\n",
       "      <td>2014</td>\n",
       "      <td>4</td>\n",
       "      <td>6125.000000</td>\n",
       "      <td>0.18</td>\n",
       "      <td>Professional</td>\n",
       "      <td>NaN</td>\n",
       "      <td>A</td>\n",
       "      <td>7.0</td>\n",
       "      <td>689.5</td>\n",
       "      <td>Good</td>\n",
       "    </tr>\n",
       "    <tr>\n",
       "      <th>2</th>\n",
       "      <td>36</td>\n",
       "      <td>3001</td>\n",
       "      <td>0.28269</td>\n",
       "      <td>0.2750</td>\n",
       "      <td>0.2400</td>\n",
       "      <td>0</td>\n",
       "      <td>2007</td>\n",
       "      <td>0</td>\n",
       "      <td>2083.333333</td>\n",
       "      <td>0.06</td>\n",
       "      <td>Other</td>\n",
       "      <td>HR</td>\n",
       "      <td>NaN</td>\n",
       "      <td>NaN</td>\n",
       "      <td>489.5</td>\n",
       "      <td>Good</td>\n",
       "    </tr>\n",
       "    <tr>\n",
       "      <th>3</th>\n",
       "      <td>36</td>\n",
       "      <td>10000</td>\n",
       "      <td>0.12528</td>\n",
       "      <td>0.0974</td>\n",
       "      <td>0.0874</td>\n",
       "      <td>16</td>\n",
       "      <td>2012</td>\n",
       "      <td>3</td>\n",
       "      <td>2875.000000</td>\n",
       "      <td>0.15</td>\n",
       "      <td>Skilled Labor</td>\n",
       "      <td>NaN</td>\n",
       "      <td>A</td>\n",
       "      <td>9.0</td>\n",
       "      <td>809.5</td>\n",
       "      <td>Good</td>\n",
       "    </tr>\n",
       "    <tr>\n",
       "      <th>4</th>\n",
       "      <td>36</td>\n",
       "      <td>15000</td>\n",
       "      <td>0.24614</td>\n",
       "      <td>0.2085</td>\n",
       "      <td>0.1985</td>\n",
       "      <td>2</td>\n",
       "      <td>2013</td>\n",
       "      <td>6</td>\n",
       "      <td>9583.333333</td>\n",
       "      <td>0.26</td>\n",
       "      <td>Executive</td>\n",
       "      <td>NaN</td>\n",
       "      <td>D</td>\n",
       "      <td>4.0</td>\n",
       "      <td>689.5</td>\n",
       "      <td>Good</td>\n",
       "    </tr>\n",
       "  </tbody>\n",
       "</table>\n",
       "</div>"
      ],
      "text/plain": [
       "   Term  LoanOriginalAmount  BorrowerAPR  BorrowerRate  LenderYield  \\\n",
       "0    36                9425      0.16516        0.1580       0.1380   \n",
       "1    36               10000      0.12016        0.0920       0.0820   \n",
       "2    36                3001      0.28269        0.2750       0.2400   \n",
       "3    36               10000      0.12528        0.0974       0.0874   \n",
       "4    36               15000      0.24614        0.2085       0.1985   \n",
       "\n",
       "   ListingCategory  year  IncomeRange  StatedMonthlyIncome  DebtToIncomeRatio  \\\n",
       "0                0  2007            3          3083.333333               0.17   \n",
       "1                2  2014            4          6125.000000               0.18   \n",
       "2                0  2007            0          2083.333333               0.06   \n",
       "3               16  2012            3          2875.000000               0.15   \n",
       "4                2  2013            6          9583.333333               0.26   \n",
       "\n",
       "      Occupation CreditGrade ProsperRating (Alpha)  ProsperScore  CreditScore  \\\n",
       "0          Other           C                   NaN           NaN        649.5   \n",
       "1   Professional         NaN                     A           7.0        689.5   \n",
       "2          Other          HR                   NaN           NaN        489.5   \n",
       "3  Skilled Labor         NaN                     A           9.0        809.5   \n",
       "4      Executive         NaN                     D           4.0        689.5   \n",
       "\n",
       "  BorrowerType  \n",
       "0         Good  \n",
       "1         Good  \n",
       "2         Good  \n",
       "3         Good  \n",
       "4         Good  "
      ]
     },
     "execution_count": 75,
     "metadata": {},
     "output_type": "execute_result"
    }
   ],
   "source": [
    "loann.head()"
   ]
  },
  {
   "cell_type": "markdown",
   "id": "1150f240",
   "metadata": {
    "papermill": {
     "duration": 0.06552,
     "end_time": "2022-07-26T11:31:47.890860",
     "exception": false,
     "start_time": "2022-07-26T11:31:47.825340",
     "status": "completed"
    },
    "tags": []
   },
   "source": [
    "Occupation column also mot needed"
   ]
  },
  {
   "cell_type": "code",
   "execution_count": 76,
   "id": "9e12710f",
   "metadata": {
    "execution": {
     "iopub.execute_input": "2022-07-26T11:31:48.023858Z",
     "iopub.status.busy": "2022-07-26T11:31:48.023153Z",
     "iopub.status.idle": "2022-07-26T11:31:48.034261Z",
     "shell.execute_reply": "2022-07-26T11:31:48.033304Z"
    },
    "papermill": {
     "duration": 0.080646,
     "end_time": "2022-07-26T11:31:48.036856",
     "exception": false,
     "start_time": "2022-07-26T11:31:47.956210",
     "status": "completed"
    },
    "tags": []
   },
   "outputs": [],
   "source": [
    "loann.drop('Occupation', axis=1, inplace=True)"
   ]
  },
  {
   "cell_type": "code",
   "execution_count": 77,
   "id": "35b1988c",
   "metadata": {
    "execution": {
     "iopub.execute_input": "2022-07-26T11:31:48.169179Z",
     "iopub.status.busy": "2022-07-26T11:31:48.168448Z",
     "iopub.status.idle": "2022-07-26T11:31:48.202960Z",
     "shell.execute_reply": "2022-07-26T11:31:48.202001Z"
    },
    "papermill": {
     "duration": 0.103373,
     "end_time": "2022-07-26T11:31:48.205526",
     "exception": false,
     "start_time": "2022-07-26T11:31:48.102153",
     "status": "completed"
    },
    "tags": []
   },
   "outputs": [],
   "source": [
    "#To name categorical values in CreditGrade column as numeric values\n",
    "loann['CreditGrade']=loann['CreditGrade'].map({'NC':0,'HR':1,'E':2,'D':3,'C':4,'B':5,'A':6,'AA':7})"
   ]
  },
  {
   "cell_type": "code",
   "execution_count": 78,
   "id": "550cad71",
   "metadata": {
    "execution": {
     "iopub.execute_input": "2022-07-26T11:31:48.338809Z",
     "iopub.status.busy": "2022-07-26T11:31:48.338131Z",
     "iopub.status.idle": "2022-07-26T11:31:48.344504Z",
     "shell.execute_reply": "2022-07-26T11:31:48.343659Z"
    },
    "papermill": {
     "duration": 0.075545,
     "end_time": "2022-07-26T11:31:48.346799",
     "exception": false,
     "start_time": "2022-07-26T11:31:48.271254",
     "status": "completed"
    },
    "tags": []
   },
   "outputs": [],
   "source": [
    "loann['CreditGrade'] = loann['CreditGrade'].replace(np.nan,0)"
   ]
  },
  {
   "cell_type": "code",
   "execution_count": 79,
   "id": "25dbe71a",
   "metadata": {
    "execution": {
     "iopub.execute_input": "2022-07-26T11:31:48.477588Z",
     "iopub.status.busy": "2022-07-26T11:31:48.477196Z",
     "iopub.status.idle": "2022-07-26T11:31:48.502098Z",
     "shell.execute_reply": "2022-07-26T11:31:48.501083Z"
    },
    "papermill": {
     "duration": 0.093448,
     "end_time": "2022-07-26T11:31:48.504549",
     "exception": false,
     "start_time": "2022-07-26T11:31:48.411101",
     "status": "completed"
    },
    "tags": []
   },
   "outputs": [],
   "source": [
    "#To name categorical values in ProsperRating (Alpha) column as numeric values\n",
    "loann['ProsperRating (Alpha)']=loann['ProsperRating (Alpha)'].map({'HR':0,'E':1,'D':2,'C':3,'B':4,'A':5,'AA':6})"
   ]
  },
  {
   "cell_type": "code",
   "execution_count": 80,
   "id": "5f35c3b8",
   "metadata": {
    "execution": {
     "iopub.execute_input": "2022-07-26T11:31:48.636483Z",
     "iopub.status.busy": "2022-07-26T11:31:48.636095Z",
     "iopub.status.idle": "2022-07-26T11:31:48.642592Z",
     "shell.execute_reply": "2022-07-26T11:31:48.641539Z"
    },
    "papermill": {
     "duration": 0.075558,
     "end_time": "2022-07-26T11:31:48.645211",
     "exception": false,
     "start_time": "2022-07-26T11:31:48.569653",
     "status": "completed"
    },
    "tags": []
   },
   "outputs": [],
   "source": [
    "loann['ProsperRating (Alpha)'] = loann['ProsperRating (Alpha)'].replace(np.nan,0)"
   ]
  },
  {
   "cell_type": "code",
   "execution_count": 81,
   "id": "75fcb446",
   "metadata": {
    "execution": {
     "iopub.execute_input": "2022-07-26T11:31:48.778149Z",
     "iopub.status.busy": "2022-07-26T11:31:48.777689Z",
     "iopub.status.idle": "2022-07-26T11:31:48.792374Z",
     "shell.execute_reply": "2022-07-26T11:31:48.791296Z"
    },
    "papermill": {
     "duration": 0.084366,
     "end_time": "2022-07-26T11:31:48.794942",
     "exception": false,
     "start_time": "2022-07-26T11:31:48.710576",
     "status": "completed"
    },
    "tags": []
   },
   "outputs": [],
   "source": [
    "#To name categorical values in BorrowerType column as numeric values\n",
    "loann['BorrowerType']=loann['BorrowerType'].map({'Good':0,'Delinquent':1})"
   ]
  },
  {
   "cell_type": "code",
   "execution_count": 82,
   "id": "9815f745",
   "metadata": {
    "execution": {
     "iopub.execute_input": "2022-07-26T11:31:48.927216Z",
     "iopub.status.busy": "2022-07-26T11:31:48.926520Z",
     "iopub.status.idle": "2022-07-26T11:31:48.950619Z",
     "shell.execute_reply": "2022-07-26T11:31:48.949413Z"
    },
    "papermill": {
     "duration": 0.09341,
     "end_time": "2022-07-26T11:31:48.953376",
     "exception": false,
     "start_time": "2022-07-26T11:31:48.859966",
     "status": "completed"
    },
    "tags": []
   },
   "outputs": [],
   "source": [
    "#Replacing all NAN values in dataframe with 0\n",
    "f_loann=loann.replace(np.nan, 0)"
   ]
  },
  {
   "cell_type": "code",
   "execution_count": 83,
   "id": "8349706d",
   "metadata": {
    "execution": {
     "iopub.execute_input": "2022-07-26T11:31:49.085450Z",
     "iopub.status.busy": "2022-07-26T11:31:49.084721Z",
     "iopub.status.idle": "2022-07-26T11:31:49.107341Z",
     "shell.execute_reply": "2022-07-26T11:31:49.106212Z"
    },
    "papermill": {
     "duration": 0.091514,
     "end_time": "2022-07-26T11:31:49.109997",
     "exception": false,
     "start_time": "2022-07-26T11:31:49.018483",
     "status": "completed"
    },
    "tags": []
   },
   "outputs": [
    {
     "data": {
      "text/html": [
       "<div>\n",
       "<style scoped>\n",
       "    .dataframe tbody tr th:only-of-type {\n",
       "        vertical-align: middle;\n",
       "    }\n",
       "\n",
       "    .dataframe tbody tr th {\n",
       "        vertical-align: top;\n",
       "    }\n",
       "\n",
       "    .dataframe thead th {\n",
       "        text-align: right;\n",
       "    }\n",
       "</style>\n",
       "<table border=\"1\" class=\"dataframe\">\n",
       "  <thead>\n",
       "    <tr style=\"text-align: right;\">\n",
       "      <th></th>\n",
       "      <th>Term</th>\n",
       "      <th>LoanOriginalAmount</th>\n",
       "      <th>BorrowerAPR</th>\n",
       "      <th>BorrowerRate</th>\n",
       "      <th>LenderYield</th>\n",
       "      <th>ListingCategory</th>\n",
       "      <th>year</th>\n",
       "      <th>IncomeRange</th>\n",
       "      <th>StatedMonthlyIncome</th>\n",
       "      <th>DebtToIncomeRatio</th>\n",
       "      <th>CreditGrade</th>\n",
       "      <th>ProsperRating (Alpha)</th>\n",
       "      <th>ProsperScore</th>\n",
       "      <th>CreditScore</th>\n",
       "      <th>BorrowerType</th>\n",
       "    </tr>\n",
       "  </thead>\n",
       "  <tbody>\n",
       "    <tr>\n",
       "      <th>0</th>\n",
       "      <td>36</td>\n",
       "      <td>9425</td>\n",
       "      <td>0.16516</td>\n",
       "      <td>0.1580</td>\n",
       "      <td>0.1380</td>\n",
       "      <td>0</td>\n",
       "      <td>2007</td>\n",
       "      <td>3</td>\n",
       "      <td>3083.333333</td>\n",
       "      <td>0.17</td>\n",
       "      <td>4.0</td>\n",
       "      <td>0.0</td>\n",
       "      <td>0.0</td>\n",
       "      <td>649.5</td>\n",
       "      <td>0</td>\n",
       "    </tr>\n",
       "    <tr>\n",
       "      <th>1</th>\n",
       "      <td>36</td>\n",
       "      <td>10000</td>\n",
       "      <td>0.12016</td>\n",
       "      <td>0.0920</td>\n",
       "      <td>0.0820</td>\n",
       "      <td>2</td>\n",
       "      <td>2014</td>\n",
       "      <td>4</td>\n",
       "      <td>6125.000000</td>\n",
       "      <td>0.18</td>\n",
       "      <td>0.0</td>\n",
       "      <td>5.0</td>\n",
       "      <td>7.0</td>\n",
       "      <td>689.5</td>\n",
       "      <td>0</td>\n",
       "    </tr>\n",
       "    <tr>\n",
       "      <th>2</th>\n",
       "      <td>36</td>\n",
       "      <td>3001</td>\n",
       "      <td>0.28269</td>\n",
       "      <td>0.2750</td>\n",
       "      <td>0.2400</td>\n",
       "      <td>0</td>\n",
       "      <td>2007</td>\n",
       "      <td>0</td>\n",
       "      <td>2083.333333</td>\n",
       "      <td>0.06</td>\n",
       "      <td>1.0</td>\n",
       "      <td>0.0</td>\n",
       "      <td>0.0</td>\n",
       "      <td>489.5</td>\n",
       "      <td>0</td>\n",
       "    </tr>\n",
       "    <tr>\n",
       "      <th>3</th>\n",
       "      <td>36</td>\n",
       "      <td>10000</td>\n",
       "      <td>0.12528</td>\n",
       "      <td>0.0974</td>\n",
       "      <td>0.0874</td>\n",
       "      <td>16</td>\n",
       "      <td>2012</td>\n",
       "      <td>3</td>\n",
       "      <td>2875.000000</td>\n",
       "      <td>0.15</td>\n",
       "      <td>0.0</td>\n",
       "      <td>5.0</td>\n",
       "      <td>9.0</td>\n",
       "      <td>809.5</td>\n",
       "      <td>0</td>\n",
       "    </tr>\n",
       "    <tr>\n",
       "      <th>4</th>\n",
       "      <td>36</td>\n",
       "      <td>15000</td>\n",
       "      <td>0.24614</td>\n",
       "      <td>0.2085</td>\n",
       "      <td>0.1985</td>\n",
       "      <td>2</td>\n",
       "      <td>2013</td>\n",
       "      <td>6</td>\n",
       "      <td>9583.333333</td>\n",
       "      <td>0.26</td>\n",
       "      <td>0.0</td>\n",
       "      <td>2.0</td>\n",
       "      <td>4.0</td>\n",
       "      <td>689.5</td>\n",
       "      <td>0</td>\n",
       "    </tr>\n",
       "  </tbody>\n",
       "</table>\n",
       "</div>"
      ],
      "text/plain": [
       "   Term  LoanOriginalAmount  BorrowerAPR  BorrowerRate  LenderYield  \\\n",
       "0    36                9425      0.16516        0.1580       0.1380   \n",
       "1    36               10000      0.12016        0.0920       0.0820   \n",
       "2    36                3001      0.28269        0.2750       0.2400   \n",
       "3    36               10000      0.12528        0.0974       0.0874   \n",
       "4    36               15000      0.24614        0.2085       0.1985   \n",
       "\n",
       "   ListingCategory  year  IncomeRange  StatedMonthlyIncome  DebtToIncomeRatio  \\\n",
       "0                0  2007            3          3083.333333               0.17   \n",
       "1                2  2014            4          6125.000000               0.18   \n",
       "2                0  2007            0          2083.333333               0.06   \n",
       "3               16  2012            3          2875.000000               0.15   \n",
       "4                2  2013            6          9583.333333               0.26   \n",
       "\n",
       "   CreditGrade  ProsperRating (Alpha)  ProsperScore  CreditScore  BorrowerType  \n",
       "0          4.0                    0.0           0.0        649.5             0  \n",
       "1          0.0                    5.0           7.0        689.5             0  \n",
       "2          1.0                    0.0           0.0        489.5             0  \n",
       "3          0.0                    5.0           9.0        809.5             0  \n",
       "4          0.0                    2.0           4.0        689.5             0  "
      ]
     },
     "execution_count": 83,
     "metadata": {},
     "output_type": "execute_result"
    }
   ],
   "source": [
    "#New Dataframe\n",
    "f_loann.head()"
   ]
  },
  {
   "cell_type": "markdown",
   "id": "b2849df8",
   "metadata": {
    "papermill": {
     "duration": 0.064907,
     "end_time": "2022-07-26T11:31:49.241247",
     "exception": false,
     "start_time": "2022-07-26T11:31:49.176340",
     "status": "completed"
    },
    "tags": []
   },
   "source": [
    "## **Splitting new dataframe into independent and dependent features for model building**"
   ]
  },
  {
   "cell_type": "code",
   "execution_count": 84,
   "id": "1aaadd36",
   "metadata": {
    "execution": {
     "iopub.execute_input": "2022-07-26T11:31:49.437145Z",
     "iopub.status.busy": "2022-07-26T11:31:49.436730Z",
     "iopub.status.idle": "2022-07-26T11:31:49.448568Z",
     "shell.execute_reply": "2022-07-26T11:31:49.447494Z"
    },
    "papermill": {
     "duration": 0.082139,
     "end_time": "2022-07-26T11:31:49.451308",
     "exception": false,
     "start_time": "2022-07-26T11:31:49.369169",
     "status": "completed"
    },
    "tags": []
   },
   "outputs": [],
   "source": [
    "#splitting dataset into independent and dependent features\n",
    "X=f_loann.iloc[:,:-1]\n",
    "y=f_loann.iloc[:,-1]"
   ]
  },
  {
   "cell_type": "code",
   "execution_count": 85,
   "id": "f30055a6",
   "metadata": {
    "execution": {
     "iopub.execute_input": "2022-07-26T11:31:49.584285Z",
     "iopub.status.busy": "2022-07-26T11:31:49.583577Z",
     "iopub.status.idle": "2022-07-26T11:31:49.613083Z",
     "shell.execute_reply": "2022-07-26T11:31:49.612154Z"
    },
    "papermill": {
     "duration": 0.098796,
     "end_time": "2022-07-26T11:31:49.615389",
     "exception": false,
     "start_time": "2022-07-26T11:31:49.516593",
     "status": "completed"
    },
    "tags": []
   },
   "outputs": [
    {
     "data": {
      "text/html": [
       "<div>\n",
       "<style scoped>\n",
       "    .dataframe tbody tr th:only-of-type {\n",
       "        vertical-align: middle;\n",
       "    }\n",
       "\n",
       "    .dataframe tbody tr th {\n",
       "        vertical-align: top;\n",
       "    }\n",
       "\n",
       "    .dataframe thead th {\n",
       "        text-align: right;\n",
       "    }\n",
       "</style>\n",
       "<table border=\"1\" class=\"dataframe\">\n",
       "  <thead>\n",
       "    <tr style=\"text-align: right;\">\n",
       "      <th></th>\n",
       "      <th>Term</th>\n",
       "      <th>LoanOriginalAmount</th>\n",
       "      <th>BorrowerAPR</th>\n",
       "      <th>BorrowerRate</th>\n",
       "      <th>LenderYield</th>\n",
       "      <th>ListingCategory</th>\n",
       "      <th>year</th>\n",
       "      <th>IncomeRange</th>\n",
       "      <th>StatedMonthlyIncome</th>\n",
       "      <th>DebtToIncomeRatio</th>\n",
       "      <th>CreditGrade</th>\n",
       "      <th>ProsperRating (Alpha)</th>\n",
       "      <th>ProsperScore</th>\n",
       "      <th>CreditScore</th>\n",
       "    </tr>\n",
       "  </thead>\n",
       "  <tbody>\n",
       "    <tr>\n",
       "      <th>0</th>\n",
       "      <td>36</td>\n",
       "      <td>9425</td>\n",
       "      <td>0.16516</td>\n",
       "      <td>0.1580</td>\n",
       "      <td>0.1380</td>\n",
       "      <td>0</td>\n",
       "      <td>2007</td>\n",
       "      <td>3</td>\n",
       "      <td>3083.333333</td>\n",
       "      <td>0.17</td>\n",
       "      <td>4.0</td>\n",
       "      <td>0.0</td>\n",
       "      <td>0.0</td>\n",
       "      <td>649.5</td>\n",
       "    </tr>\n",
       "    <tr>\n",
       "      <th>1</th>\n",
       "      <td>36</td>\n",
       "      <td>10000</td>\n",
       "      <td>0.12016</td>\n",
       "      <td>0.0920</td>\n",
       "      <td>0.0820</td>\n",
       "      <td>2</td>\n",
       "      <td>2014</td>\n",
       "      <td>4</td>\n",
       "      <td>6125.000000</td>\n",
       "      <td>0.18</td>\n",
       "      <td>0.0</td>\n",
       "      <td>5.0</td>\n",
       "      <td>7.0</td>\n",
       "      <td>689.5</td>\n",
       "    </tr>\n",
       "    <tr>\n",
       "      <th>2</th>\n",
       "      <td>36</td>\n",
       "      <td>3001</td>\n",
       "      <td>0.28269</td>\n",
       "      <td>0.2750</td>\n",
       "      <td>0.2400</td>\n",
       "      <td>0</td>\n",
       "      <td>2007</td>\n",
       "      <td>0</td>\n",
       "      <td>2083.333333</td>\n",
       "      <td>0.06</td>\n",
       "      <td>1.0</td>\n",
       "      <td>0.0</td>\n",
       "      <td>0.0</td>\n",
       "      <td>489.5</td>\n",
       "    </tr>\n",
       "    <tr>\n",
       "      <th>3</th>\n",
       "      <td>36</td>\n",
       "      <td>10000</td>\n",
       "      <td>0.12528</td>\n",
       "      <td>0.0974</td>\n",
       "      <td>0.0874</td>\n",
       "      <td>16</td>\n",
       "      <td>2012</td>\n",
       "      <td>3</td>\n",
       "      <td>2875.000000</td>\n",
       "      <td>0.15</td>\n",
       "      <td>0.0</td>\n",
       "      <td>5.0</td>\n",
       "      <td>9.0</td>\n",
       "      <td>809.5</td>\n",
       "    </tr>\n",
       "    <tr>\n",
       "      <th>4</th>\n",
       "      <td>36</td>\n",
       "      <td>15000</td>\n",
       "      <td>0.24614</td>\n",
       "      <td>0.2085</td>\n",
       "      <td>0.1985</td>\n",
       "      <td>2</td>\n",
       "      <td>2013</td>\n",
       "      <td>6</td>\n",
       "      <td>9583.333333</td>\n",
       "      <td>0.26</td>\n",
       "      <td>0.0</td>\n",
       "      <td>2.0</td>\n",
       "      <td>4.0</td>\n",
       "      <td>689.5</td>\n",
       "    </tr>\n",
       "    <tr>\n",
       "      <th>...</th>\n",
       "      <td>...</td>\n",
       "      <td>...</td>\n",
       "      <td>...</td>\n",
       "      <td>...</td>\n",
       "      <td>...</td>\n",
       "      <td>...</td>\n",
       "      <td>...</td>\n",
       "      <td>...</td>\n",
       "      <td>...</td>\n",
       "      <td>...</td>\n",
       "      <td>...</td>\n",
       "      <td>...</td>\n",
       "      <td>...</td>\n",
       "      <td>...</td>\n",
       "    </tr>\n",
       "    <tr>\n",
       "      <th>113932</th>\n",
       "      <td>36</td>\n",
       "      <td>10000</td>\n",
       "      <td>0.22354</td>\n",
       "      <td>0.1864</td>\n",
       "      <td>0.1764</td>\n",
       "      <td>1</td>\n",
       "      <td>2013</td>\n",
       "      <td>4</td>\n",
       "      <td>4333.333333</td>\n",
       "      <td>0.13</td>\n",
       "      <td>0.0</td>\n",
       "      <td>3.0</td>\n",
       "      <td>5.0</td>\n",
       "      <td>709.5</td>\n",
       "    </tr>\n",
       "    <tr>\n",
       "      <th>113933</th>\n",
       "      <td>36</td>\n",
       "      <td>2000</td>\n",
       "      <td>0.13220</td>\n",
       "      <td>0.1110</td>\n",
       "      <td>0.1010</td>\n",
       "      <td>7</td>\n",
       "      <td>2011</td>\n",
       "      <td>5</td>\n",
       "      <td>8041.666667</td>\n",
       "      <td>0.11</td>\n",
       "      <td>0.0</td>\n",
       "      <td>5.0</td>\n",
       "      <td>8.0</td>\n",
       "      <td>709.5</td>\n",
       "    </tr>\n",
       "    <tr>\n",
       "      <th>113934</th>\n",
       "      <td>60</td>\n",
       "      <td>10000</td>\n",
       "      <td>0.23984</td>\n",
       "      <td>0.2150</td>\n",
       "      <td>0.2050</td>\n",
       "      <td>1</td>\n",
       "      <td>2013</td>\n",
       "      <td>3</td>\n",
       "      <td>2875.000000</td>\n",
       "      <td>0.51</td>\n",
       "      <td>0.0</td>\n",
       "      <td>2.0</td>\n",
       "      <td>3.0</td>\n",
       "      <td>709.5</td>\n",
       "    </tr>\n",
       "    <tr>\n",
       "      <th>113935</th>\n",
       "      <td>60</td>\n",
       "      <td>15000</td>\n",
       "      <td>0.28408</td>\n",
       "      <td>0.2605</td>\n",
       "      <td>0.2505</td>\n",
       "      <td>2</td>\n",
       "      <td>2011</td>\n",
       "      <td>3</td>\n",
       "      <td>3875.000000</td>\n",
       "      <td>0.48</td>\n",
       "      <td>0.0</td>\n",
       "      <td>3.0</td>\n",
       "      <td>5.0</td>\n",
       "      <td>689.5</td>\n",
       "    </tr>\n",
       "    <tr>\n",
       "      <th>113936</th>\n",
       "      <td>36</td>\n",
       "      <td>2000</td>\n",
       "      <td>0.13189</td>\n",
       "      <td>0.1039</td>\n",
       "      <td>0.0939</td>\n",
       "      <td>1</td>\n",
       "      <td>2014</td>\n",
       "      <td>4</td>\n",
       "      <td>4583.333333</td>\n",
       "      <td>0.23</td>\n",
       "      <td>0.0</td>\n",
       "      <td>5.0</td>\n",
       "      <td>7.0</td>\n",
       "      <td>689.5</td>\n",
       "    </tr>\n",
       "  </tbody>\n",
       "</table>\n",
       "<p>113937 rows × 14 columns</p>\n",
       "</div>"
      ],
      "text/plain": [
       "        Term  LoanOriginalAmount  BorrowerAPR  BorrowerRate  LenderYield  \\\n",
       "0         36                9425      0.16516        0.1580       0.1380   \n",
       "1         36               10000      0.12016        0.0920       0.0820   \n",
       "2         36                3001      0.28269        0.2750       0.2400   \n",
       "3         36               10000      0.12528        0.0974       0.0874   \n",
       "4         36               15000      0.24614        0.2085       0.1985   \n",
       "...      ...                 ...          ...           ...          ...   \n",
       "113932    36               10000      0.22354        0.1864       0.1764   \n",
       "113933    36                2000      0.13220        0.1110       0.1010   \n",
       "113934    60               10000      0.23984        0.2150       0.2050   \n",
       "113935    60               15000      0.28408        0.2605       0.2505   \n",
       "113936    36                2000      0.13189        0.1039       0.0939   \n",
       "\n",
       "        ListingCategory  year  IncomeRange  StatedMonthlyIncome  \\\n",
       "0                     0  2007            3          3083.333333   \n",
       "1                     2  2014            4          6125.000000   \n",
       "2                     0  2007            0          2083.333333   \n",
       "3                    16  2012            3          2875.000000   \n",
       "4                     2  2013            6          9583.333333   \n",
       "...                 ...   ...          ...                  ...   \n",
       "113932                1  2013            4          4333.333333   \n",
       "113933                7  2011            5          8041.666667   \n",
       "113934                1  2013            3          2875.000000   \n",
       "113935                2  2011            3          3875.000000   \n",
       "113936                1  2014            4          4583.333333   \n",
       "\n",
       "        DebtToIncomeRatio  CreditGrade  ProsperRating (Alpha)  ProsperScore  \\\n",
       "0                    0.17          4.0                    0.0           0.0   \n",
       "1                    0.18          0.0                    5.0           7.0   \n",
       "2                    0.06          1.0                    0.0           0.0   \n",
       "3                    0.15          0.0                    5.0           9.0   \n",
       "4                    0.26          0.0                    2.0           4.0   \n",
       "...                   ...          ...                    ...           ...   \n",
       "113932               0.13          0.0                    3.0           5.0   \n",
       "113933               0.11          0.0                    5.0           8.0   \n",
       "113934               0.51          0.0                    2.0           3.0   \n",
       "113935               0.48          0.0                    3.0           5.0   \n",
       "113936               0.23          0.0                    5.0           7.0   \n",
       "\n",
       "        CreditScore  \n",
       "0             649.5  \n",
       "1             689.5  \n",
       "2             489.5  \n",
       "3             809.5  \n",
       "4             689.5  \n",
       "...             ...  \n",
       "113932        709.5  \n",
       "113933        709.5  \n",
       "113934        709.5  \n",
       "113935        689.5  \n",
       "113936        689.5  \n",
       "\n",
       "[113937 rows x 14 columns]"
      ]
     },
     "execution_count": 85,
     "metadata": {},
     "output_type": "execute_result"
    }
   ],
   "source": [
    "X"
   ]
  },
  {
   "cell_type": "code",
   "execution_count": 86,
   "id": "6b369209",
   "metadata": {
    "execution": {
     "iopub.execute_input": "2022-07-26T11:31:49.750987Z",
     "iopub.status.busy": "2022-07-26T11:31:49.750344Z",
     "iopub.status.idle": "2022-07-26T11:31:49.759886Z",
     "shell.execute_reply": "2022-07-26T11:31:49.758628Z"
    },
    "papermill": {
     "duration": 0.081152,
     "end_time": "2022-07-26T11:31:49.762651",
     "exception": false,
     "start_time": "2022-07-26T11:31:49.681499",
     "status": "completed"
    },
    "tags": []
   },
   "outputs": [
    {
     "data": {
      "text/plain": [
       "0         0\n",
       "1         0\n",
       "2         0\n",
       "3         0\n",
       "4         0\n",
       "         ..\n",
       "113932    0\n",
       "113933    0\n",
       "113934    0\n",
       "113935    0\n",
       "113936    0\n",
       "Name: BorrowerType, Length: 113937, dtype: int64"
      ]
     },
     "execution_count": 86,
     "metadata": {},
     "output_type": "execute_result"
    }
   ],
   "source": [
    "y"
   ]
  },
  {
   "cell_type": "code",
   "execution_count": 87,
   "id": "c6ea6a67",
   "metadata": {
    "execution": {
     "iopub.execute_input": "2022-07-26T11:31:49.898720Z",
     "iopub.status.busy": "2022-07-26T11:31:49.898086Z",
     "iopub.status.idle": "2022-07-26T11:31:49.980907Z",
     "shell.execute_reply": "2022-07-26T11:31:49.979950Z"
    },
    "papermill": {
     "duration": 0.153662,
     "end_time": "2022-07-26T11:31:49.983551",
     "exception": false,
     "start_time": "2022-07-26T11:31:49.829889",
     "status": "completed"
    },
    "tags": []
   },
   "outputs": [],
   "source": [
    "#Importing libraries for splitting data into training and testing\n",
    "from sklearn.model_selection import train_test_split\n",
    "X_train,X_test,y_train,y_test = train_test_split(X, y, test_size=0.25, random_state=42)"
   ]
  },
  {
   "cell_type": "code",
   "execution_count": 88,
   "id": "4b95b97a",
   "metadata": {
    "execution": {
     "iopub.execute_input": "2022-07-26T11:31:50.118421Z",
     "iopub.status.busy": "2022-07-26T11:31:50.117661Z",
     "iopub.status.idle": "2022-07-26T11:31:50.195460Z",
     "shell.execute_reply": "2022-07-26T11:31:50.194390Z"
    },
    "papermill": {
     "duration": 0.148617,
     "end_time": "2022-07-26T11:31:50.198126",
     "exception": false,
     "start_time": "2022-07-26T11:31:50.049509",
     "status": "completed"
    },
    "tags": []
   },
   "outputs": [],
   "source": [
    "#Creating instance of Logistic Regression model\n",
    "from sklearn.linear_model import LogisticRegression\n",
    "logreg=LogisticRegression()"
   ]
  },
  {
   "cell_type": "markdown",
   "id": "ea4fa48a",
   "metadata": {
    "papermill": {
     "duration": 0.124113,
     "end_time": "2022-07-26T11:31:50.389068",
     "exception": false,
     "start_time": "2022-07-26T11:31:50.264955",
     "status": "completed"
    },
    "tags": []
   },
   "source": [
    "## **Fitting and making the model**"
   ]
  },
  {
   "cell_type": "code",
   "execution_count": 89,
   "id": "f85a54a2",
   "metadata": {
    "execution": {
     "iopub.execute_input": "2022-07-26T11:31:50.523233Z",
     "iopub.status.busy": "2022-07-26T11:31:50.522520Z",
     "iopub.status.idle": "2022-07-26T11:31:51.532572Z",
     "shell.execute_reply": "2022-07-26T11:31:51.531069Z"
    },
    "papermill": {
     "duration": 1.0817,
     "end_time": "2022-07-26T11:31:51.536646",
     "exception": false,
     "start_time": "2022-07-26T11:31:50.454946",
     "status": "completed"
    },
    "tags": []
   },
   "outputs": [
    {
     "data": {
      "text/plain": [
       "LogisticRegression()"
      ]
     },
     "execution_count": 89,
     "metadata": {},
     "output_type": "execute_result"
    }
   ],
   "source": [
    "logreg.fit(X_train,y_train)"
   ]
  },
  {
   "cell_type": "code",
   "execution_count": 90,
   "id": "6448c6b2",
   "metadata": {
    "execution": {
     "iopub.execute_input": "2022-07-26T11:31:51.716644Z",
     "iopub.status.busy": "2022-07-26T11:31:51.716247Z",
     "iopub.status.idle": "2022-07-26T11:31:51.741269Z",
     "shell.execute_reply": "2022-07-26T11:31:51.739891Z"
    },
    "papermill": {
     "duration": 0.096483,
     "end_time": "2022-07-26T11:31:51.745019",
     "exception": false,
     "start_time": "2022-07-26T11:31:51.648536",
     "status": "completed"
    },
    "tags": []
   },
   "outputs": [
    {
     "data": {
      "text/plain": [
       "0.8521041052286664"
      ]
     },
     "execution_count": 90,
     "metadata": {},
     "output_type": "execute_result"
    }
   ],
   "source": [
    "logreg.score(X_train,y_train)"
   ]
  },
  {
   "cell_type": "code",
   "execution_count": 91,
   "id": "4e1a1d80",
   "metadata": {
    "execution": {
     "iopub.execute_input": "2022-07-26T11:31:51.925500Z",
     "iopub.status.busy": "2022-07-26T11:31:51.925106Z",
     "iopub.status.idle": "2022-07-26T11:31:51.934596Z",
     "shell.execute_reply": "2022-07-26T11:31:51.933069Z"
    },
    "papermill": {
     "duration": 0.081456,
     "end_time": "2022-07-26T11:31:51.938330",
     "exception": false,
     "start_time": "2022-07-26T11:31:51.856874",
     "status": "completed"
    },
    "tags": []
   },
   "outputs": [],
   "source": [
    "# Y contains all the outputs and X contains all the inputs. We will test on the machine if it gives to expected Output for the \n",
    "# corresponding Inputs.\n",
    "\n",
    "expected = y_test\n",
    "predicted = logreg.predict(X_test)"
   ]
  },
  {
   "cell_type": "markdown",
   "id": "d469da38",
   "metadata": {
    "papermill": {
     "duration": 0.065621,
     "end_time": "2022-07-26T11:31:52.119878",
     "exception": false,
     "start_time": "2022-07-26T11:31:52.054257",
     "status": "completed"
    },
    "tags": []
   },
   "source": [
    "## **To check accuracy**"
   ]
  },
  {
   "cell_type": "code",
   "execution_count": 92,
   "id": "ab40a408",
   "metadata": {
    "execution": {
     "iopub.execute_input": "2022-07-26T11:31:52.253746Z",
     "iopub.status.busy": "2022-07-26T11:31:52.253357Z",
     "iopub.status.idle": "2022-07-26T11:31:52.257894Z",
     "shell.execute_reply": "2022-07-26T11:31:52.257059Z"
    },
    "papermill": {
     "duration": 0.073953,
     "end_time": "2022-07-26T11:31:52.260195",
     "exception": false,
     "start_time": "2022-07-26T11:31:52.186242",
     "status": "completed"
    },
    "tags": []
   },
   "outputs": [],
   "source": [
    "# Importing Libraries and class \n",
    "\n",
    "from sklearn import metrics"
   ]
  },
  {
   "cell_type": "code",
   "execution_count": 93,
   "id": "b26501d0",
   "metadata": {
    "execution": {
     "iopub.execute_input": "2022-07-26T11:31:52.395341Z",
     "iopub.status.busy": "2022-07-26T11:31:52.394650Z",
     "iopub.status.idle": "2022-07-26T11:31:52.436506Z",
     "shell.execute_reply": "2022-07-26T11:31:52.435365Z"
    },
    "papermill": {
     "duration": 0.113017,
     "end_time": "2022-07-26T11:31:52.439508",
     "exception": false,
     "start_time": "2022-07-26T11:31:52.326491",
     "status": "completed"
    },
    "tags": []
   },
   "outputs": [
    {
     "name": "stdout",
     "output_type": "stream",
     "text": [
      "              precision    recall  f1-score   support\n",
      "\n",
      "           0       0.86      0.98      0.92     24123\n",
      "           1       0.60      0.13      0.21      4362\n",
      "\n",
      "    accuracy                           0.85     28485\n",
      "   macro avg       0.73      0.56      0.56     28485\n",
      "weighted avg       0.82      0.85      0.81     28485\n",
      "\n"
     ]
    }
   ],
   "source": [
    "print(metrics.classification_report(expected, predicted))"
   ]
  },
  {
   "cell_type": "code",
   "execution_count": 94,
   "id": "4e423ce8",
   "metadata": {
    "execution": {
     "iopub.execute_input": "2022-07-26T11:31:52.573727Z",
     "iopub.status.busy": "2022-07-26T11:31:52.573069Z",
     "iopub.status.idle": "2022-07-26T11:31:52.583928Z",
     "shell.execute_reply": "2022-07-26T11:31:52.582337Z"
    },
    "papermill": {
     "duration": 0.081187,
     "end_time": "2022-07-26T11:31:52.587363",
     "exception": false,
     "start_time": "2022-07-26T11:31:52.506176",
     "status": "completed"
    },
    "tags": []
   },
   "outputs": [
    {
     "name": "stdout",
     "output_type": "stream",
     "text": [
      "[[23757   366]\n",
      " [ 3811   551]]\n"
     ]
    }
   ],
   "source": [
    "print(metrics.confusion_matrix(expected, predicted))"
   ]
  }
 ],
 "metadata": {
  "kernelspec": {
   "display_name": "Python 3",
   "language": "python",
   "name": "python3"
  },
  "language_info": {
   "codemirror_mode": {
    "name": "ipython",
    "version": 3
   },
   "file_extension": ".py",
   "mimetype": "text/x-python",
   "name": "python",
   "nbconvert_exporter": "python",
   "pygments_lexer": "ipython3",
   "version": "3.7.12"
  },
  "papermill": {
   "default_parameters": {},
   "duration": 63.763642,
   "end_time": "2022-07-26T11:31:53.475701",
   "environment_variables": {},
   "exception": null,
   "input_path": "__notebook__.ipynb",
   "output_path": "__notebook__.ipynb",
   "parameters": {},
   "start_time": "2022-07-26T11:30:49.712059",
   "version": "2.3.4"
  }
 },
 "nbformat": 4,
 "nbformat_minor": 5
}
